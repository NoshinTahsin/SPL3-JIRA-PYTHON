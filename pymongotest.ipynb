{
 "cells": [
  {
   "cell_type": "code",
   "execution_count": 35,
   "metadata": {},
   "outputs": [
    {
     "name": "stdout",
     "output_type": "stream",
     "text": [
      "['JiraPlugin', 'admin', 'config', 'local']\n"
     ]
    }
   ],
   "source": [
    "import pymongo\n",
    "myclient = pymongo.MongoClient(\"mongodb://localhost:27017/\")\n",
    "mydb = myclient[\"JiraPlugin\"]\n",
    "print(myclient.list_database_names())"
   ]
  },
  {
   "cell_type": "code",
   "execution_count": 12,
   "metadata": {},
   "outputs": [],
   "source": [
    "mycol = mydb[\"customers\"]\n",
    "\n",
    "mydict = { \"name\": \"John\", \"address\": \"Highway 37\" }\n",
    "\n",
    "x = mycol.insert_one(mydict)"
   ]
  },
  {
   "cell_type": "code",
   "execution_count": 13,
   "metadata": {},
   "outputs": [
    {
     "name": "stdout",
     "output_type": "stream",
     "text": [
      "6065ad85b611f62b2ea801d5\n"
     ]
    }
   ],
   "source": [
    "mydict = { \"name\": \"Saaj\", \"address\": \"Lowstreet 27\" }\n",
    "\n",
    "x = mycol.insert_one(mydict)\n",
    "\n",
    "print(x.inserted_id)"
   ]
  },
  {
   "cell_type": "code",
   "execution_count": 14,
   "metadata": {},
   "outputs": [
    {
     "name": "stdout",
     "output_type": "stream",
     "text": [
      "[ObjectId('6065adaab611f62b2ea801d6'), ObjectId('6065adaab611f62b2ea801d7'), ObjectId('6065adaab611f62b2ea801d8'), ObjectId('6065adaab611f62b2ea801d9'), ObjectId('6065adaab611f62b2ea801da'), ObjectId('6065adaab611f62b2ea801db'), ObjectId('6065adaab611f62b2ea801dc'), ObjectId('6065adaab611f62b2ea801dd'), ObjectId('6065adaab611f62b2ea801de'), ObjectId('6065adaab611f62b2ea801df'), ObjectId('6065adaab611f62b2ea801e0'), ObjectId('6065adaab611f62b2ea801e1')]\n"
     ]
    }
   ],
   "source": [
    "mylist = [\n",
    "  { \"name\": \"Amy\", \"address\": \"Apple st 652\"},\n",
    "  { \"name\": \"Hannah\", \"address\": \"Mountain 21\"},\n",
    "  { \"name\": \"Michael\", \"address\": \"Valley 345\"},\n",
    "  { \"name\": \"Sandy\", \"address\": \"Ocean blvd 2\"},\n",
    "  { \"name\": \"Betty\", \"address\": \"Green Grass 1\"},\n",
    "  { \"name\": \"Richard\", \"address\": \"Sky st 331\"},\n",
    "  { \"name\": \"Susan\", \"address\": \"One way 98\"},\n",
    "  { \"name\": \"Vicky\", \"address\": \"Yellow Garden 2\"},\n",
    "  { \"name\": \"Ben\", \"address\": \"Park Lane 38\"},\n",
    "  { \"name\": \"William\", \"address\": \"Central st 954\"},\n",
    "  { \"name\": \"Chuck\", \"address\": \"Main Road 989\"},\n",
    "  { \"name\": \"Viola\", \"address\": \"Sideway 1633\"}\n",
    "]\n",
    "\n",
    "x = mycol.insert_many(mylist)\n",
    "\n",
    "#print list of the _id values of the inserted documents:\n",
    "print(x.inserted_ids)"
   ]
  },
  {
   "cell_type": "code",
   "execution_count": 15,
   "metadata": {},
   "outputs": [
    {
     "name": "stdout",
     "output_type": "stream",
     "text": [
      "[1, 2, 3, 4, 5, 6, 7, 8, 9, 10, 11, 12, 13, 14]\n"
     ]
    }
   ],
   "source": [
    "mylist = [\n",
    "  { \"_id\": 1, \"name\": \"John\", \"address\": \"Highway 37\"},\n",
    "  { \"_id\": 2, \"name\": \"Peter\", \"address\": \"Lowstreet 27\"},\n",
    "  { \"_id\": 3, \"name\": \"Amy\", \"address\": \"Apple st 652\"},\n",
    "  { \"_id\": 4, \"name\": \"Hannah\", \"address\": \"Mountain 21\"},\n",
    "  { \"_id\": 5, \"name\": \"Michael\", \"address\": \"Valley 345\"},\n",
    "  { \"_id\": 6, \"name\": \"Sandy\", \"address\": \"Ocean blvd 2\"},\n",
    "  { \"_id\": 7, \"name\": \"Betty\", \"address\": \"Green Grass 1\"},\n",
    "  { \"_id\": 8, \"name\": \"Richard\", \"address\": \"Sky st 331\"},\n",
    "  { \"_id\": 9, \"name\": \"Susan\", \"address\": \"One way 98\"},\n",
    "  { \"_id\": 10, \"name\": \"Vicky\", \"address\": \"Yellow Garden 2\"},\n",
    "  { \"_id\": 11, \"name\": \"Ben\", \"address\": \"Park Lane 38\"},\n",
    "  { \"_id\": 12, \"name\": \"William\", \"address\": \"Central st 954\"},\n",
    "  { \"_id\": 13, \"name\": \"Chuck\", \"address\": \"Main Road 989\"},\n",
    "  { \"_id\": 14, \"name\": \"Viola\", \"address\": \"Sideway 1633\"}\n",
    "]\n",
    "\n",
    "x = mycol.insert_many(mylist)\n",
    "\n",
    "#print list of the _id values of the inserted documents:\n",
    "print(x.inserted_ids)"
   ]
  },
  {
   "cell_type": "code",
   "execution_count": 16,
   "metadata": {},
   "outputs": [
    {
     "name": "stdout",
     "output_type": "stream",
     "text": [
      "{'_id': ObjectId('6065ad52b611f62b2ea801d4'), 'name': 'John', 'address': 'Highway 37'}\n"
     ]
    }
   ],
   "source": [
    "x = mycol.find_one()\n",
    "\n",
    "print(x)"
   ]
  },
  {
   "cell_type": "code",
   "execution_count": 17,
   "metadata": {},
   "outputs": [
    {
     "name": "stdout",
     "output_type": "stream",
     "text": [
      "{'_id': ObjectId('6065ad52b611f62b2ea801d4'), 'name': 'John', 'address': 'Highway 37'}\n",
      "{'_id': ObjectId('6065ad85b611f62b2ea801d5'), 'name': 'Saaj', 'address': 'Lowstreet 27'}\n",
      "{'_id': ObjectId('6065adaab611f62b2ea801d6'), 'name': 'Amy', 'address': 'Apple st 652'}\n",
      "{'_id': ObjectId('6065adaab611f62b2ea801d7'), 'name': 'Hannah', 'address': 'Mountain 21'}\n",
      "{'_id': ObjectId('6065adaab611f62b2ea801d8'), 'name': 'Michael', 'address': 'Valley 345'}\n",
      "{'_id': ObjectId('6065adaab611f62b2ea801d9'), 'name': 'Sandy', 'address': 'Ocean blvd 2'}\n",
      "{'_id': ObjectId('6065adaab611f62b2ea801da'), 'name': 'Betty', 'address': 'Green Grass 1'}\n",
      "{'_id': ObjectId('6065adaab611f62b2ea801db'), 'name': 'Richard', 'address': 'Sky st 331'}\n",
      "{'_id': ObjectId('6065adaab611f62b2ea801dc'), 'name': 'Susan', 'address': 'One way 98'}\n",
      "{'_id': ObjectId('6065adaab611f62b2ea801dd'), 'name': 'Vicky', 'address': 'Yellow Garden 2'}\n",
      "{'_id': ObjectId('6065adaab611f62b2ea801de'), 'name': 'Ben', 'address': 'Park Lane 38'}\n",
      "{'_id': ObjectId('6065adaab611f62b2ea801df'), 'name': 'William', 'address': 'Central st 954'}\n",
      "{'_id': ObjectId('6065adaab611f62b2ea801e0'), 'name': 'Chuck', 'address': 'Main Road 989'}\n",
      "{'_id': ObjectId('6065adaab611f62b2ea801e1'), 'name': 'Viola', 'address': 'Sideway 1633'}\n",
      "{'_id': 1, 'name': 'John', 'address': 'Highway 37'}\n",
      "{'_id': 2, 'name': 'Peter', 'address': 'Lowstreet 27'}\n",
      "{'_id': 3, 'name': 'Amy', 'address': 'Apple st 652'}\n",
      "{'_id': 4, 'name': 'Hannah', 'address': 'Mountain 21'}\n",
      "{'_id': 5, 'name': 'Michael', 'address': 'Valley 345'}\n",
      "{'_id': 6, 'name': 'Sandy', 'address': 'Ocean blvd 2'}\n",
      "{'_id': 7, 'name': 'Betty', 'address': 'Green Grass 1'}\n",
      "{'_id': 8, 'name': 'Richard', 'address': 'Sky st 331'}\n",
      "{'_id': 9, 'name': 'Susan', 'address': 'One way 98'}\n",
      "{'_id': 10, 'name': 'Vicky', 'address': 'Yellow Garden 2'}\n",
      "{'_id': 11, 'name': 'Ben', 'address': 'Park Lane 38'}\n",
      "{'_id': 12, 'name': 'William', 'address': 'Central st 954'}\n",
      "{'_id': 13, 'name': 'Chuck', 'address': 'Main Road 989'}\n",
      "{'_id': 14, 'name': 'Viola', 'address': 'Sideway 1633'}\n"
     ]
    }
   ],
   "source": [
    "for x in mycol.find():\n",
    "    print(x)"
   ]
  },
  {
   "cell_type": "code",
   "execution_count": 18,
   "metadata": {},
   "outputs": [
    {
     "name": "stdout",
     "output_type": "stream",
     "text": [
      "{'name': 'John', 'address': 'Highway 37'}\n",
      "{'name': 'Saaj', 'address': 'Lowstreet 27'}\n",
      "{'name': 'Amy', 'address': 'Apple st 652'}\n",
      "{'name': 'Hannah', 'address': 'Mountain 21'}\n",
      "{'name': 'Michael', 'address': 'Valley 345'}\n",
      "{'name': 'Sandy', 'address': 'Ocean blvd 2'}\n",
      "{'name': 'Betty', 'address': 'Green Grass 1'}\n",
      "{'name': 'Richard', 'address': 'Sky st 331'}\n",
      "{'name': 'Susan', 'address': 'One way 98'}\n",
      "{'name': 'Vicky', 'address': 'Yellow Garden 2'}\n",
      "{'name': 'Ben', 'address': 'Park Lane 38'}\n",
      "{'name': 'William', 'address': 'Central st 954'}\n",
      "{'name': 'Chuck', 'address': 'Main Road 989'}\n",
      "{'name': 'Viola', 'address': 'Sideway 1633'}\n",
      "{'name': 'John', 'address': 'Highway 37'}\n",
      "{'name': 'Peter', 'address': 'Lowstreet 27'}\n",
      "{'name': 'Amy', 'address': 'Apple st 652'}\n",
      "{'name': 'Hannah', 'address': 'Mountain 21'}\n",
      "{'name': 'Michael', 'address': 'Valley 345'}\n",
      "{'name': 'Sandy', 'address': 'Ocean blvd 2'}\n",
      "{'name': 'Betty', 'address': 'Green Grass 1'}\n",
      "{'name': 'Richard', 'address': 'Sky st 331'}\n",
      "{'name': 'Susan', 'address': 'One way 98'}\n",
      "{'name': 'Vicky', 'address': 'Yellow Garden 2'}\n",
      "{'name': 'Ben', 'address': 'Park Lane 38'}\n",
      "{'name': 'William', 'address': 'Central st 954'}\n",
      "{'name': 'Chuck', 'address': 'Main Road 989'}\n",
      "{'name': 'Viola', 'address': 'Sideway 1633'}\n"
     ]
    }
   ],
   "source": [
    "for x in mycol.find({},{ \"_id\": 0, \"name\": 1, \"address\": 1 }):\n",
    "    print(x)"
   ]
  },
  {
   "cell_type": "code",
   "execution_count": 20,
   "metadata": {},
   "outputs": [
    {
     "name": "stdout",
     "output_type": "stream",
     "text": [
      "{'_id': ObjectId('6065ad85b611f62b2ea801d5'), 'name': 'Saaj', 'address': 'Lowstreet 27'}\n"
     ]
    }
   ],
   "source": [
    "myquery = { \"name\": \"Saaj\" }\n",
    "\n",
    "mydoc = mycol.find(myquery)\n",
    "\n",
    "for x in mydoc:\n",
    "    print(x)"
   ]
  },
  {
   "cell_type": "code",
   "execution_count": 26,
   "metadata": {},
   "outputs": [
    {
     "name": "stdout",
     "output_type": "stream",
     "text": [
      "{'_id': ObjectId('6065adaab611f62b2ea801d6'), 'name': 'Amy', 'address': 'Apple st 652'}\n",
      "{'_id': 3, 'name': 'Amy', 'address': 'Apple st 652'}\n",
      "{'_id': ObjectId('6065adaab611f62b2ea801de'), 'name': 'Ben', 'address': 'Park Lane 38'}\n",
      "{'_id': 11, 'name': 'Ben', 'address': 'Park Lane 38'}\n",
      "{'_id': ObjectId('6065adaab611f62b2ea801da'), 'name': 'Betty', 'address': 'Green Grass 1'}\n",
      "{'_id': 7, 'name': 'Betty', 'address': 'Green Grass 1'}\n",
      "{'_id': ObjectId('6065adaab611f62b2ea801e0'), 'name': 'Chuck', 'address': 'Main Road 989'}\n",
      "{'_id': 13, 'name': 'Chuck', 'address': 'Main Road 989'}\n",
      "{'_id': ObjectId('6065adaab611f62b2ea801d7'), 'name': 'Hannah', 'address': 'Mountain 21'}\n",
      "{'_id': 4, 'name': 'Hannah', 'address': 'Mountain 21'}\n",
      "{'_id': ObjectId('6065ad52b611f62b2ea801d4'), 'name': 'John', 'address': 'Highway 37'}\n",
      "{'_id': 1, 'name': 'John', 'address': 'Highway 37'}\n",
      "{'_id': ObjectId('6065adaab611f62b2ea801d8'), 'name': 'Michael', 'address': 'Valley 345'}\n",
      "{'_id': 5, 'name': 'Michael', 'address': 'Valley 345'}\n",
      "{'_id': 2, 'name': 'Peter', 'address': 'Lowstreet 27'}\n",
      "{'_id': ObjectId('6065adaab611f62b2ea801db'), 'name': 'Richard', 'address': 'Sky st 331'}\n",
      "{'_id': 8, 'name': 'Richard', 'address': 'Sky st 331'}\n",
      "{'_id': ObjectId('6065ad85b611f62b2ea801d5'), 'name': 'Saaj', 'address': 'Lowstreet 27'}\n",
      "{'_id': ObjectId('6065adaab611f62b2ea801d9'), 'name': 'Sandy', 'address': 'Ocean blvd 2'}\n",
      "{'_id': 6, 'name': 'Sandy', 'address': 'Ocean blvd 2'}\n",
      "{'_id': ObjectId('6065adaab611f62b2ea801dc'), 'name': 'Susan', 'address': 'One way 98'}\n",
      "{'_id': 9, 'name': 'Susan', 'address': 'One way 98'}\n",
      "{'_id': ObjectId('6065adaab611f62b2ea801dd'), 'name': 'Vicky', 'address': 'Yellow Garden 2'}\n",
      "{'_id': 10, 'name': 'Vicky', 'address': 'Yellow Garden 2'}\n",
      "{'_id': ObjectId('6065adaab611f62b2ea801e1'), 'name': 'Viola', 'address': 'Sideway 1633'}\n",
      "{'_id': 14, 'name': 'Viola', 'address': 'Sideway 1633'}\n",
      "{'_id': ObjectId('6065adaab611f62b2ea801df'), 'name': 'William', 'address': 'Central st 954'}\n",
      "{'_id': 12, 'name': 'William', 'address': 'Central st 954'}\n"
     ]
    }
   ],
   "source": [
    "from pprint import pprint\n",
    "mydoc = mycol.find().sort(\"name\")\n",
    "\n",
    "for x in mydoc:\n",
    "    print(x)"
   ]
  },
  {
   "cell_type": "code",
   "execution_count": 28,
   "metadata": {},
   "outputs": [
    {
     "data": {
      "text/plain": [
       "<pymongo.results.DeleteResult at 0x2bea1ced6c0>"
      ]
     },
     "execution_count": 28,
     "metadata": {},
     "output_type": "execute_result"
    }
   ],
   "source": [
    "myquery = { \"address\": \"Highway 37\" }\n",
    "\n",
    "mycol.delete_one(myquery)"
   ]
  },
  {
   "cell_type": "code",
   "execution_count": 29,
   "metadata": {},
   "outputs": [
    {
     "name": "stdout",
     "output_type": "stream",
     "text": [
      "26  documents deleted.\n"
     ]
    }
   ],
   "source": [
    "x = mycol.delete_many({})\n",
    "\n",
    "print(x.deleted_count, \" documents deleted.\")"
   ]
  },
  {
   "cell_type": "code",
   "execution_count": 33,
   "metadata": {},
   "outputs": [],
   "source": [
    "mycol = mydb[\"customers\"]\n",
    "\n",
    "mydict = { \"name\": \"John\", \"address\": \"Highway 37\" }\n",
    "\n",
    "x = mycol.insert_one(mydict)"
   ]
  },
  {
   "cell_type": "code",
   "execution_count": 34,
   "metadata": {},
   "outputs": [
    {
     "name": "stdout",
     "output_type": "stream",
     "text": [
      "{'_id': ObjectId('6065b108b611f62b2ea801e2'), 'name': 'Saaj', 'address': 'Highway 37'}\n"
     ]
    }
   ],
   "source": [
    "mycol = mydb[\"customers\"]\n",
    "\n",
    "myquery = { \"name\": \"John\" }\n",
    "newvalues = { \"$set\": { \"name\": \"Saaj\" } }\n",
    "\n",
    "mycol.update_one(myquery, newvalues)\n",
    "\n",
    "#print \"customers\" after the update:\n",
    "for x in mycol.find():\n",
    "    print(x)\n"
   ]
  },
  {
   "cell_type": "code",
   "execution_count": null,
   "metadata": {},
   "outputs": [],
   "source": []
  }
 ],
 "metadata": {
  "kernelspec": {
   "display_name": "Python 3",
   "language": "python",
   "name": "python3"
  },
  "language_info": {
   "codemirror_mode": {
    "name": "ipython",
    "version": 3
   },
   "file_extension": ".py",
   "mimetype": "text/x-python",
   "name": "python",
   "nbconvert_exporter": "python",
   "pygments_lexer": "ipython3",
   "version": "3.8.5"
  }
 },
 "nbformat": 4,
 "nbformat_minor": 4
}
