{
 "cells": [
  {
   "cell_type": "code",
   "execution_count": 16,
   "metadata": {},
   "outputs": [
    {
     "name": "stdout",
     "output_type": "stream",
     "text": [
      "['JiraPlugin', 'admin', 'config', 'local']\n"
     ]
    }
   ],
   "source": [
    "import pymongo\n",
    "myclient = pymongo.MongoClient(\"mongodb://localhost:27017/\")\n",
    "mydb = myclient[\"JiraPlugin\"]\n",
    "print(myclient.list_database_names())"
   ]
  },
  {
   "cell_type": "code",
   "execution_count": 17,
   "metadata": {},
   "outputs": [],
   "source": [
    "mycol = mydb[\"customers\"]\n",
    "mydict = { \"name\": \"Saaj\", \"rank\": \"1\" }\n",
    "x = mycol.insert_one(mydict)"
   ]
  },
  {
   "cell_type": "code",
   "execution_count": 55,
   "metadata": {},
   "outputs": [
    {
     "name": "stdout",
     "output_type": "stream",
     "text": [
      "0\n"
     ]
    },
    {
     "name": "stderr",
     "output_type": "stream",
     "text": [
      "<ipython-input-55-a7cae114a430>:4: DeprecationWarning: count is deprecated. Use Collection.count_documents instead.\n",
      "  print(mydoc.count())\n"
     ]
    }
   ],
   "source": [
    "mycol = mydb[\"customers\"]\n",
    "myquery = { \"name\": \"Noshij\" }\n",
    "mydoc = mycol.find(myquery)\n",
    "print(mydoc.count())\n",
    "for x in mydoc:\n",
    "    print(x)"
   ]
  },
  {
   "cell_type": "code",
   "execution_count": 61,
   "metadata": {},
   "outputs": [
    {
     "name": "stdout",
     "output_type": "stream",
     "text": [
      "Entry exists\n",
      "{'_id': ObjectId('606834aff421a32b48dec235'), 'name': 'Tahsin', 'rank': 10}\n",
      "{'_id': ObjectId('606835b3f421a32b48dec238'), 'name': 'Saaj', 'rank': 9}\n",
      "{'_id': ObjectId('60683741f421a32b48dec239'), 'name': 'pop', 'rank': 188}\n"
     ]
    },
    {
     "name": "stderr",
     "output_type": "stream",
     "text": [
      "<ipython-input-61-a5332ba5a980>:9: DeprecationWarning: count is deprecated. Use Collection.count_documents instead.\n",
      "  if(mydoc.count()>0):\n"
     ]
    }
   ],
   "source": [
    "##achenai cheking code\n",
    "mycol = mydb[\"customers\"]\n",
    "targetRank = 188\n",
    "setMap = {}\n",
    "setMap[\"rank\"] = targetRank\n",
    "myquery = { \"name\": \"pop\" }\n",
    "\n",
    "if mycol.count_documents({})>0:\n",
    "    mydoc = mycol.find(myquery)\n",
    "    if(mydoc.count()>0):\n",
    "            print(\"Entry exists\")\n",
    "            newvalues = { \"$set\": setMap }\n",
    "            mycol.update_one(myquery, newvalues)\n",
    "    else:\n",
    "            print(\"Nooooo\")\n",
    "            mydict = {}\n",
    "            mydict[\"name\"]=myquery[\"name\"]\n",
    "            mydict[\"rank\"] = targetRank\n",
    "            x = mycol.insert_one(mydict)\n",
    "\n",
    "else:\n",
    "    mydict = {}\n",
    "    mydict[\"name\"]=myquery[\"name\"]\n",
    "    mydict[\"rank\"] = targetRank\n",
    "    x = mycol.insert_one(mydict)\n",
    "    \n",
    "#check if query exists, if not then create one \n",
    "\n",
    "#print \"customers\" after the update:\n",
    "for x in mycol.find():\n",
    "    print(x)"
   ]
  },
  {
   "cell_type": "code",
   "execution_count": 31,
   "metadata": {},
   "outputs": [
    {
     "ename": "AttributeError",
     "evalue": "'Cursor' object has no attribute 'count_documents'",
     "output_type": "error",
     "traceback": [
      "\u001b[1;31m---------------------------------------------------------------------------\u001b[0m",
      "\u001b[1;31mAttributeError\u001b[0m                            Traceback (most recent call last)",
      "\u001b[1;32m<ipython-input-31-39033a2ea0bb>\u001b[0m in \u001b[0;36m<module>\u001b[1;34m\u001b[0m\n\u001b[0;32m      2\u001b[0m \u001b[0mmydoc\u001b[0m \u001b[1;33m=\u001b[0m \u001b[0mmycol\u001b[0m\u001b[1;33m.\u001b[0m\u001b[0mfind\u001b[0m\u001b[1;33m(\u001b[0m\u001b[0mmyquery\u001b[0m\u001b[1;33m)\u001b[0m\u001b[1;33m\u001b[0m\u001b[1;33m\u001b[0m\u001b[0m\n\u001b[0;32m      3\u001b[0m \u001b[1;32mfor\u001b[0m \u001b[0mx\u001b[0m \u001b[1;32min\u001b[0m \u001b[0mmydoc\u001b[0m\u001b[1;33m:\u001b[0m\u001b[1;33m\u001b[0m\u001b[1;33m\u001b[0m\u001b[0m\n\u001b[1;32m----> 4\u001b[1;33m     \u001b[0mprint\u001b[0m\u001b[1;33m(\u001b[0m\u001b[0mmydoc\u001b[0m\u001b[1;33m.\u001b[0m\u001b[0mcount_documents\u001b[0m\u001b[1;33m)\u001b[0m\u001b[1;33m\u001b[0m\u001b[1;33m\u001b[0m\u001b[0m\n\u001b[0m\u001b[0;32m      5\u001b[0m \u001b[1;32mif\u001b[0m \u001b[1;34m\"Saaj\"\u001b[0m \u001b[1;32min\u001b[0m \u001b[0mmydoc\u001b[0m\u001b[1;33m:\u001b[0m\u001b[1;33m\u001b[0m\u001b[1;33m\u001b[0m\u001b[0m\n\u001b[0;32m      6\u001b[0m     \u001b[0mprint\u001b[0m\u001b[1;33m(\u001b[0m\u001b[1;34m\"The name exists.\"\u001b[0m\u001b[1;33m)\u001b[0m\u001b[1;33m\u001b[0m\u001b[1;33m\u001b[0m\u001b[0m\n",
      "\u001b[1;31mAttributeError\u001b[0m: 'Cursor' object has no attribute 'count_documents'"
     ]
    }
   ],
   "source": [
    "myquery = { \"name\": \"Saaj\" }\n",
    "mydoc = mycol.find(myquery)\n",
    "for x in mydoc:\n",
    "    print(mydoc.count_documents)\n",
    "if \"Saaj\" in mydoc:\n",
    "    print(\"The name exists.\")"
   ]
  },
  {
   "cell_type": "code",
   "execution_count": 4,
   "metadata": {},
   "outputs": [
    {
     "name": "stdout",
     "output_type": "stream",
     "text": [
      "[ObjectId('60682d83f421a32b48dec225'), ObjectId('60682d83f421a32b48dec226'), ObjectId('60682d83f421a32b48dec227'), ObjectId('60682d83f421a32b48dec228'), ObjectId('60682d83f421a32b48dec229'), ObjectId('60682d83f421a32b48dec22a'), ObjectId('60682d83f421a32b48dec22b'), ObjectId('60682d83f421a32b48dec22c'), ObjectId('60682d83f421a32b48dec22d'), ObjectId('60682d83f421a32b48dec22e'), ObjectId('60682d83f421a32b48dec22f'), ObjectId('60682d83f421a32b48dec230')]\n"
     ]
    }
   ],
   "source": [
    "mylist = [\n",
    "  { \"name\": \"Amy\", \"address\": \"Apple st 652\"},\n",
    "  { \"name\": \"Hannah\", \"address\": \"Mountain 21\"},\n",
    "  { \"name\": \"Michael\", \"address\": \"Valley 345\"},\n",
    "  { \"name\": \"Sandy\", \"address\": \"Ocean blvd 2\"},\n",
    "  { \"name\": \"Betty\", \"address\": \"Green Grass 1\"},\n",
    "  { \"name\": \"Richard\", \"address\": \"Sky st 331\"},\n",
    "  { \"name\": \"Susan\", \"address\": \"One way 98\"},\n",
    "  { \"name\": \"Vicky\", \"address\": \"Yellow Garden 2\"},\n",
    "  { \"name\": \"Ben\", \"address\": \"Park Lane 38\"},\n",
    "  { \"name\": \"William\", \"address\": \"Central st 954\"},\n",
    "  { \"name\": \"Chuck\", \"address\": \"Main Road 989\"},\n",
    "  { \"name\": \"Viola\", \"address\": \"Sideway 1633\"}\n",
    "]\n",
    "\n",
    "x = mycol.insert_many(mylist)\n",
    "\n",
    "#print list of the _id values of the inserted documents:\n",
    "print(x.inserted_ids)"
   ]
  },
  {
   "cell_type": "code",
   "execution_count": 5,
   "metadata": {},
   "outputs": [
    {
     "name": "stdout",
     "output_type": "stream",
     "text": [
      "[1, 2, 3, 4, 5, 6, 7, 8, 9, 10, 11, 12, 13, 14]\n"
     ]
    }
   ],
   "source": [
    "mylist = [\n",
    "  { \"_id\": 1, \"name\": \"John\", \"address\": \"Highway 37\"},\n",
    "  { \"_id\": 2, \"name\": \"Peter\", \"address\": \"Lowstreet 27\"},\n",
    "  { \"_id\": 3, \"name\": \"Amy\", \"address\": \"Apple st 652\"},\n",
    "  { \"_id\": 4, \"name\": \"Hannah\", \"address\": \"Mountain 21\"},\n",
    "  { \"_id\": 5, \"name\": \"Michael\", \"address\": \"Valley 345\"},\n",
    "  { \"_id\": 6, \"name\": \"Sandy\", \"address\": \"Ocean blvd 2\"},\n",
    "  { \"_id\": 7, \"name\": \"Betty\", \"address\": \"Green Grass 1\"},\n",
    "  { \"_id\": 8, \"name\": \"Richard\", \"address\": \"Sky st 331\"},\n",
    "  { \"_id\": 9, \"name\": \"Susan\", \"address\": \"One way 98\"},\n",
    "  { \"_id\": 10, \"name\": \"Vicky\", \"address\": \"Yellow Garden 2\"},\n",
    "  { \"_id\": 11, \"name\": \"Ben\", \"address\": \"Park Lane 38\"},\n",
    "  { \"_id\": 12, \"name\": \"William\", \"address\": \"Central st 954\"},\n",
    "  { \"_id\": 13, \"name\": \"Chuck\", \"address\": \"Main Road 989\"},\n",
    "  { \"_id\": 14, \"name\": \"Viola\", \"address\": \"Sideway 1633\"}\n",
    "]\n",
    "\n",
    "x = mycol.insert_many(mylist)\n",
    "\n",
    "#print list of the _id values of the inserted documents:\n",
    "print(x.inserted_ids)"
   ]
  },
  {
   "cell_type": "code",
   "execution_count": 6,
   "metadata": {},
   "outputs": [
    {
     "name": "stdout",
     "output_type": "stream",
     "text": [
      "{'_id': ObjectId('6065b108b611f62b2ea801e2'), 'name': 'Saaj', 'address': 'Highway 37'}\n"
     ]
    }
   ],
   "source": [
    "x = mycol.find_one()\n",
    "\n",
    "print(x)"
   ]
  },
  {
   "cell_type": "code",
   "execution_count": 7,
   "metadata": {},
   "outputs": [
    {
     "name": "stdout",
     "output_type": "stream",
     "text": [
      "{'_id': ObjectId('6065b108b611f62b2ea801e2'), 'name': 'Saaj', 'address': 'Highway 37'}\n",
      "{'_id': ObjectId('60682d82f421a32b48dec223'), 'name': 'John', 'address': 'Highway 37'}\n",
      "{'_id': ObjectId('60682d82f421a32b48dec224'), 'name': 'Saaj', 'address': 'Lowstreet 27'}\n",
      "{'_id': ObjectId('60682d83f421a32b48dec225'), 'name': 'Amy', 'address': 'Apple st 652'}\n",
      "{'_id': ObjectId('60682d83f421a32b48dec226'), 'name': 'Hannah', 'address': 'Mountain 21'}\n",
      "{'_id': ObjectId('60682d83f421a32b48dec227'), 'name': 'Michael', 'address': 'Valley 345'}\n",
      "{'_id': ObjectId('60682d83f421a32b48dec228'), 'name': 'Sandy', 'address': 'Ocean blvd 2'}\n",
      "{'_id': ObjectId('60682d83f421a32b48dec229'), 'name': 'Betty', 'address': 'Green Grass 1'}\n",
      "{'_id': ObjectId('60682d83f421a32b48dec22a'), 'name': 'Richard', 'address': 'Sky st 331'}\n",
      "{'_id': ObjectId('60682d83f421a32b48dec22b'), 'name': 'Susan', 'address': 'One way 98'}\n",
      "{'_id': ObjectId('60682d83f421a32b48dec22c'), 'name': 'Vicky', 'address': 'Yellow Garden 2'}\n",
      "{'_id': ObjectId('60682d83f421a32b48dec22d'), 'name': 'Ben', 'address': 'Park Lane 38'}\n",
      "{'_id': ObjectId('60682d83f421a32b48dec22e'), 'name': 'William', 'address': 'Central st 954'}\n",
      "{'_id': ObjectId('60682d83f421a32b48dec22f'), 'name': 'Chuck', 'address': 'Main Road 989'}\n",
      "{'_id': ObjectId('60682d83f421a32b48dec230'), 'name': 'Viola', 'address': 'Sideway 1633'}\n",
      "{'_id': 1, 'name': 'John', 'address': 'Highway 37'}\n",
      "{'_id': 2, 'name': 'Peter', 'address': 'Lowstreet 27'}\n",
      "{'_id': 3, 'name': 'Amy', 'address': 'Apple st 652'}\n",
      "{'_id': 4, 'name': 'Hannah', 'address': 'Mountain 21'}\n",
      "{'_id': 5, 'name': 'Michael', 'address': 'Valley 345'}\n",
      "{'_id': 6, 'name': 'Sandy', 'address': 'Ocean blvd 2'}\n",
      "{'_id': 7, 'name': 'Betty', 'address': 'Green Grass 1'}\n",
      "{'_id': 8, 'name': 'Richard', 'address': 'Sky st 331'}\n",
      "{'_id': 9, 'name': 'Susan', 'address': 'One way 98'}\n",
      "{'_id': 10, 'name': 'Vicky', 'address': 'Yellow Garden 2'}\n",
      "{'_id': 11, 'name': 'Ben', 'address': 'Park Lane 38'}\n",
      "{'_id': 12, 'name': 'William', 'address': 'Central st 954'}\n",
      "{'_id': 13, 'name': 'Chuck', 'address': 'Main Road 989'}\n",
      "{'_id': 14, 'name': 'Viola', 'address': 'Sideway 1633'}\n"
     ]
    }
   ],
   "source": [
    "for x in mycol.find():\n",
    "    print(x)"
   ]
  },
  {
   "cell_type": "code",
   "execution_count": 8,
   "metadata": {},
   "outputs": [
    {
     "name": "stdout",
     "output_type": "stream",
     "text": [
      "{'name': 'Saaj', 'address': 'Highway 37'}\n",
      "{'name': 'John', 'address': 'Highway 37'}\n",
      "{'name': 'Saaj', 'address': 'Lowstreet 27'}\n",
      "{'name': 'Amy', 'address': 'Apple st 652'}\n",
      "{'name': 'Hannah', 'address': 'Mountain 21'}\n",
      "{'name': 'Michael', 'address': 'Valley 345'}\n",
      "{'name': 'Sandy', 'address': 'Ocean blvd 2'}\n",
      "{'name': 'Betty', 'address': 'Green Grass 1'}\n",
      "{'name': 'Richard', 'address': 'Sky st 331'}\n",
      "{'name': 'Susan', 'address': 'One way 98'}\n",
      "{'name': 'Vicky', 'address': 'Yellow Garden 2'}\n",
      "{'name': 'Ben', 'address': 'Park Lane 38'}\n",
      "{'name': 'William', 'address': 'Central st 954'}\n",
      "{'name': 'Chuck', 'address': 'Main Road 989'}\n",
      "{'name': 'Viola', 'address': 'Sideway 1633'}\n",
      "{'name': 'John', 'address': 'Highway 37'}\n",
      "{'name': 'Peter', 'address': 'Lowstreet 27'}\n",
      "{'name': 'Amy', 'address': 'Apple st 652'}\n",
      "{'name': 'Hannah', 'address': 'Mountain 21'}\n",
      "{'name': 'Michael', 'address': 'Valley 345'}\n",
      "{'name': 'Sandy', 'address': 'Ocean blvd 2'}\n",
      "{'name': 'Betty', 'address': 'Green Grass 1'}\n",
      "{'name': 'Richard', 'address': 'Sky st 331'}\n",
      "{'name': 'Susan', 'address': 'One way 98'}\n",
      "{'name': 'Vicky', 'address': 'Yellow Garden 2'}\n",
      "{'name': 'Ben', 'address': 'Park Lane 38'}\n",
      "{'name': 'William', 'address': 'Central st 954'}\n",
      "{'name': 'Chuck', 'address': 'Main Road 989'}\n",
      "{'name': 'Viola', 'address': 'Sideway 1633'}\n"
     ]
    }
   ],
   "source": [
    "for x in mycol.find({},{ \"_id\": 0, \"name\": 1, \"address\": 1 }):\n",
    "    print(x)"
   ]
  },
  {
   "cell_type": "code",
   "execution_count": 9,
   "metadata": {},
   "outputs": [
    {
     "name": "stdout",
     "output_type": "stream",
     "text": [
      "{'_id': ObjectId('6065b108b611f62b2ea801e2'), 'name': 'Saaj', 'address': 'Highway 37'}\n",
      "{'_id': ObjectId('60682d82f421a32b48dec224'), 'name': 'Saaj', 'address': 'Lowstreet 27'}\n"
     ]
    }
   ],
   "source": [
    "myquery = { \"name\": \"Saaj\" }\n",
    "\n",
    "mydoc = mycol.find(myquery)\n",
    "\n",
    "for x in mydoc:\n",
    "    print(x)"
   ]
  },
  {
   "cell_type": "code",
   "execution_count": 10,
   "metadata": {},
   "outputs": [
    {
     "name": "stdout",
     "output_type": "stream",
     "text": [
      "{'_id': ObjectId('60682d83f421a32b48dec225'), 'name': 'Amy', 'address': 'Apple st 652'}\n",
      "{'_id': 3, 'name': 'Amy', 'address': 'Apple st 652'}\n",
      "{'_id': ObjectId('60682d83f421a32b48dec22d'), 'name': 'Ben', 'address': 'Park Lane 38'}\n",
      "{'_id': 11, 'name': 'Ben', 'address': 'Park Lane 38'}\n",
      "{'_id': ObjectId('60682d83f421a32b48dec229'), 'name': 'Betty', 'address': 'Green Grass 1'}\n",
      "{'_id': 7, 'name': 'Betty', 'address': 'Green Grass 1'}\n",
      "{'_id': ObjectId('60682d83f421a32b48dec22f'), 'name': 'Chuck', 'address': 'Main Road 989'}\n",
      "{'_id': 13, 'name': 'Chuck', 'address': 'Main Road 989'}\n",
      "{'_id': ObjectId('60682d83f421a32b48dec226'), 'name': 'Hannah', 'address': 'Mountain 21'}\n",
      "{'_id': 4, 'name': 'Hannah', 'address': 'Mountain 21'}\n",
      "{'_id': ObjectId('60682d82f421a32b48dec223'), 'name': 'John', 'address': 'Highway 37'}\n",
      "{'_id': 1, 'name': 'John', 'address': 'Highway 37'}\n",
      "{'_id': ObjectId('60682d83f421a32b48dec227'), 'name': 'Michael', 'address': 'Valley 345'}\n",
      "{'_id': 5, 'name': 'Michael', 'address': 'Valley 345'}\n",
      "{'_id': 2, 'name': 'Peter', 'address': 'Lowstreet 27'}\n",
      "{'_id': ObjectId('60682d83f421a32b48dec22a'), 'name': 'Richard', 'address': 'Sky st 331'}\n",
      "{'_id': 8, 'name': 'Richard', 'address': 'Sky st 331'}\n",
      "{'_id': ObjectId('6065b108b611f62b2ea801e2'), 'name': 'Saaj', 'address': 'Highway 37'}\n",
      "{'_id': ObjectId('60682d82f421a32b48dec224'), 'name': 'Saaj', 'address': 'Lowstreet 27'}\n",
      "{'_id': ObjectId('60682d83f421a32b48dec228'), 'name': 'Sandy', 'address': 'Ocean blvd 2'}\n",
      "{'_id': 6, 'name': 'Sandy', 'address': 'Ocean blvd 2'}\n",
      "{'_id': ObjectId('60682d83f421a32b48dec22b'), 'name': 'Susan', 'address': 'One way 98'}\n",
      "{'_id': 9, 'name': 'Susan', 'address': 'One way 98'}\n",
      "{'_id': ObjectId('60682d83f421a32b48dec22c'), 'name': 'Vicky', 'address': 'Yellow Garden 2'}\n",
      "{'_id': 10, 'name': 'Vicky', 'address': 'Yellow Garden 2'}\n",
      "{'_id': ObjectId('60682d83f421a32b48dec230'), 'name': 'Viola', 'address': 'Sideway 1633'}\n",
      "{'_id': 14, 'name': 'Viola', 'address': 'Sideway 1633'}\n",
      "{'_id': ObjectId('60682d83f421a32b48dec22e'), 'name': 'William', 'address': 'Central st 954'}\n",
      "{'_id': 12, 'name': 'William', 'address': 'Central st 954'}\n"
     ]
    }
   ],
   "source": [
    "from pprint import pprint\n",
    "mydoc = mycol.find().sort(\"name\")\n",
    "\n",
    "for x in mydoc:\n",
    "    print(x)"
   ]
  },
  {
   "cell_type": "code",
   "execution_count": 15,
   "metadata": {
    "collapsed": true
   },
   "outputs": [
    {
     "name": "stdout",
     "output_type": "stream",
     "text": [
      "{'_id': ObjectId('6065b108b611f62b2ea801e2'), 'name': 'Saaj', 'address': 'lol 123'}\n",
      "{'_id': ObjectId('60682d82f421a32b48dec223'), 'name': 'John', 'address': 'Highway 37'}\n",
      "{'_id': ObjectId('60682d82f421a32b48dec224'), 'name': 'Saaj', 'address': 'lol 123'}\n",
      "{'_id': ObjectId('60682d83f421a32b48dec225'), 'name': 'Amy', 'address': 'Apple st 652'}\n",
      "{'_id': ObjectId('60682d83f421a32b48dec226'), 'name': 'Hannah', 'address': 'Mountain 21'}\n",
      "{'_id': ObjectId('60682d83f421a32b48dec227'), 'name': 'Michael', 'address': 'Canyon 123'}\n",
      "{'_id': ObjectId('60682d83f421a32b48dec228'), 'name': 'Sandy', 'address': 'Ocean blvd 2'}\n",
      "{'_id': ObjectId('60682d83f421a32b48dec229'), 'name': 'Betty', 'address': 'lol 123'}\n",
      "{'_id': ObjectId('60682d83f421a32b48dec22a'), 'name': 'Richard', 'address': 'Sky st 331'}\n",
      "{'_id': ObjectId('60682d83f421a32b48dec22b'), 'name': 'Susan', 'address': 'One way 98'}\n",
      "{'_id': ObjectId('60682d83f421a32b48dec22c'), 'name': 'Vicky', 'address': 'Yellow Garden 2'}\n",
      "{'_id': ObjectId('60682d83f421a32b48dec22d'), 'name': 'Ben', 'address': 'Park Lane 38'}\n",
      "{'_id': ObjectId('60682d83f421a32b48dec22e'), 'name': 'William', 'address': 'Central st 954'}\n",
      "{'_id': ObjectId('60682d83f421a32b48dec22f'), 'name': 'Chuck', 'address': 'Main Road 989'}\n",
      "{'_id': ObjectId('60682d83f421a32b48dec230'), 'name': 'Viola', 'address': 'Sideway 1633'}\n",
      "{'_id': 1, 'name': 'John', 'address': 'Highway 37'}\n",
      "{'_id': 2, 'name': 'Peter', 'address': 'Lowstreet 27'}\n",
      "{'_id': 3, 'name': 'Amy', 'address': 'Apple st 652'}\n",
      "{'_id': 4, 'name': 'Hannah', 'address': 'Mountain 21'}\n",
      "{'_id': 5, 'name': 'Michael', 'address': 'Valley 345'}\n",
      "{'_id': 6, 'name': 'Sandy', 'address': 'Ocean blvd 2'}\n",
      "{'_id': 7, 'name': 'Betty', 'address': 'lol 123'}\n",
      "{'_id': 8, 'name': 'Richard', 'address': 'Sky st 331'}\n",
      "{'_id': 9, 'name': 'Susan', 'address': 'One way 98'}\n",
      "{'_id': 10, 'name': 'Vicky', 'address': 'Yellow Garden 2'}\n",
      "{'_id': 11, 'name': 'Ben', 'address': 'Park Lane 38'}\n",
      "{'_id': 12, 'name': 'William', 'address': 'Central st 954'}\n",
      "{'_id': 13, 'name': 'Chuck', 'address': 'Main Road 989'}\n",
      "{'_id': 14, 'name': 'Viola', 'address': 'Sideway 1633'}\n"
     ]
    }
   ],
   "source": [
    "myquery = { \"name\": \"Betty\" }\n",
    "newvalues = { \"$set\": { \"address\": \"lol 123\" } }\n",
    "\n",
    "mycol.update_many(myquery, newvalues)\n",
    "\n",
    "#print \"customers\" after the update:\n",
    "for x in mycol.find():\n",
    "  print(x)"
   ]
  },
  {
   "cell_type": "code",
   "execution_count": 28,
   "metadata": {},
   "outputs": [
    {
     "data": {
      "text/plain": [
       "<pymongo.results.DeleteResult at 0x2bea1ced6c0>"
      ]
     },
     "execution_count": 28,
     "metadata": {},
     "output_type": "execute_result"
    }
   ],
   "source": [
    "myquery = { \"address\": \"Highway 37\" }\n",
    "\n",
    "mycol.delete_one(myquery)"
   ]
  },
  {
   "cell_type": "code",
   "execution_count": 29,
   "metadata": {},
   "outputs": [
    {
     "name": "stdout",
     "output_type": "stream",
     "text": [
      "26  documents deleted.\n"
     ]
    }
   ],
   "source": [
    "x = mycol.delete_many({})\n",
    "\n",
    "print(x.deleted_count, \" documents deleted.\")"
   ]
  },
  {
   "cell_type": "code",
   "execution_count": 33,
   "metadata": {},
   "outputs": [],
   "source": [
    "mycol = mydb[\"customers\"]\n",
    "\n",
    "mydict = { \"name\": \"John\", \"address\": \"Highway 37\" }\n",
    "\n",
    "x = mycol.insert_one(mydict)"
   ]
  },
  {
   "cell_type": "code",
   "execution_count": 34,
   "metadata": {
    "scrolled": true
   },
   "outputs": [
    {
     "name": "stdout",
     "output_type": "stream",
     "text": [
      "{'_id': ObjectId('6065b108b611f62b2ea801e2'), 'name': 'Saaj', 'address': 'Highway 37'}\n"
     ]
    }
   ],
   "source": [
    "mycol = mydb[\"customers\"]\n",
    "\n",
    "myquery = { \"name\": \"John\" }\n",
    "newvalues = { \"$set\": { \"name\": \"Saaj\" } }\n",
    "\n",
    "mycol.update_one(myquery, newvalues)\n",
    "\n",
    "#print \"customers\" after the update:\n",
    "for x in mycol.find():\n",
    "    print(x)\n"
   ]
  },
  {
   "cell_type": "code",
   "execution_count": null,
   "metadata": {},
   "outputs": [],
   "source": [
    "#assignee_terms_map - dictionary\n",
    "#{'Moumita Asad': ['write', 'icse', 'paper'], 'Noshin Tahsin': ['regression','atlassian']}\n",
    "#for db insertion i need a list of individual dictionaries\n",
    "\n",
    "db_assignee_terms_list = []\n",
    "for key in assignee_terms_map:\n",
    "    temp_dict={}\n",
    "    temp_dict['name'] = key\n",
    "    temp_dict['terms'] = assignee_terms_map[key]\n",
    "    db_assignee_terms_list.append(temp_dict)\n",
    "\n",
    "print(\"db_assignee_terms_list: \")\n",
    "print(db_assignee_terms_list)\n",
    "\n",
    "#mongo - collection - AssigneeTermsMap\n",
    "#{'name': 'Moumita Asad', 'terms': '['write', 'icse', 'paper']}\n",
    "mycol = mydb[\"AssigneeTermsMap\"]\n",
    "setMap = {}\n",
    "\n",
    "if mycol.count_documents({})>0:\n",
    "    for i in range(0,len(db_assignee_terms_list)):\n",
    "        myquery = {}\n",
    "        myquery[\"name\"] = db_assignee_terms_list[i][\"name\"]\n",
    "            \n",
    "        mydoc = mycol.find(myquery)\n",
    "        if(mydoc.count()>0):\n",
    "            print(\"Entry exists\")\n",
    "            #update expertise/terms list\n",
    "            setMap[\"terms\"] = db_assignee_terms_list[i][\"terms\"]\n",
    "            newvalues = { \"$set\": setMap }\n",
    "            mycol.update_one(myquery, newvalues)\n",
    "                  \n",
    "        else:\n",
    "            print(\"Entry doesn't exist\")\n",
    "            mydict = {}\n",
    "            mydict[\"name\"] = myquery[\"name\"]\n",
    "            mydict[\"terms\"] = db_assignee_terms_list[i][\"terms\"]\n",
    "            x = mycol.insert_one(mydict)\n",
    "\n",
    "else:\n",
    "        print(\"No document yet in this collection.\")\n",
    "        x = mycol.insert_many(db_assignee_terms_list)\n",
    "    \n",
    "    #check if query exists, if not then create one \n",
    "\n",
    "#print \"AssigneeTermsMap\" after the update:\n",
    "for x in mycol.find():\n",
    "    print(x)"
   ]
  },
  {
   "cell_type": "code",
   "execution_count": null,
   "metadata": {},
   "outputs": [],
   "source": [
    "#assignee_terms_map - dictionary\n",
    "#{'Moumita Asad': ['write', 'icse', 'paper'], 'Noshin Tahsin': ['regression','atlassian']}\n",
    "#for db insertion i need a list of individual dictionaries\n",
    "\n",
    "db_assignee_terms_list = []\n",
    "for key in assignee_terms_map:\n",
    "    temp_dict={}\n",
    "    temp_dict['name'] = key\n",
    "    temp_dict['terms'] = assignee_terms_map[key]\n",
    "    db_assignee_terms_list.append(temp_dict)\n",
    "\n",
    "print(\"db_assignee_terms_list: \")\n",
    "print(db_assignee_terms_list)\n",
    "\n",
    "#mongo - collection - AssigneeTermsMap\n",
    "#{'name': 'Moumita Asad', 'terms': '['write', 'icse', 'paper']}\n",
    "mycol = mydb[\"AssigneeTermsMap\"]\n",
    "setMap = {}\n",
    "\n",
    "if mycol.count_documents({})>0:\n",
    "    for i in range(0,len(db_assignee_terms_list)):\n",
    "        myquery = {}\n",
    "        myquery[\"name\"] = db_assignee_terms_list[i][\"name\"]\n",
    "            \n",
    "        mydoc = mycol.find(myquery)\n",
    "        if(mydoc.count()>0):\n",
    "            print(\"Entry exists\")\n",
    "            #update expertise/terms list\n",
    "            setMap[\"terms\"] = db_assignee_terms_list[i][\"terms\"]\n",
    "            newvalues = { \"$set\": setMap }\n",
    "            mycol.update_one(myquery, newvalues)\n",
    "                  \n",
    "        else:\n",
    "            print(\"Entry doesn't exist\")\n",
    "            mydict = {}\n",
    "            mydict[\"name\"] = myquery[\"name\"]\n",
    "            mydict[\"terms\"] = db_assignee_terms_list[i][\"terms\"]\n",
    "            x = mycol.insert_one(mydict)\n",
    "\n",
    "else:\n",
    "        print(\"No document yet in this collection.\")\n",
    "        x = mycol.insert_many(db_assignee_terms_list)\n",
    "    \n",
    "    #check if query exists, if not then create one \n",
    "\n",
    "#print \"AssigneeTermsMap\" after the update:\n",
    "for x in mycol.find():\n",
    "    print(x)"
   ]
  }
 ],
 "metadata": {
  "kernelspec": {
   "display_name": "Python 3",
   "language": "python",
   "name": "python3"
  },
  "language_info": {
   "codemirror_mode": {
    "name": "ipython",
    "version": 3
   },
   "file_extension": ".py",
   "mimetype": "text/x-python",
   "name": "python",
   "nbconvert_exporter": "python",
   "pygments_lexer": "ipython3",
   "version": "3.8.5"
  }
 },
 "nbformat": 4,
 "nbformat_minor": 4
}
