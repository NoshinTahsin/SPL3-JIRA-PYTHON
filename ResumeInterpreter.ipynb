{
 "cells": [
  {
   "cell_type": "code",
   "execution_count": 6,
   "metadata": {},
   "outputs": [],
   "source": [
    "#path: \"C:\\Users\\ASUS\\Downloads\\Documents\\0914.pdf\"\n",
    "#https://stackoverflow.com/questions/66149878/e053-could-not-read-config-cfg-resumeparser\n",
    "#https://pypi.org/project/resume-parser/#description\n",
    "#pip install thinc"
   ]
  },
  {
   "cell_type": "code",
   "execution_count": 7,
   "metadata": {},
   "outputs": [
    {
     "name": "stdout",
     "output_type": "stream",
     "text": [
      "Requirement already satisfied: thinc in c:\\users\\asus\\anaconda3\\lib\\site-packages (7.4.5)Note: you may need to restart the kernel to use updated packages.\n",
      "\n",
      "Requirement already satisfied: catalogue<1.1.0,>=0.0.7 in c:\\users\\asus\\anaconda3\\lib\\site-packages (from thinc) (1.0.0)\n",
      "Requirement already satisfied: blis<0.8.0,>=0.4.0 in c:\\users\\asus\\anaconda3\\lib\\site-packages (from thinc) (0.7.4)\n",
      "Requirement already satisfied: plac<1.2.0,>=0.9.6 in c:\\users\\asus\\anaconda3\\lib\\site-packages (from thinc) (1.1.3)\n",
      "Requirement already satisfied: murmurhash<1.1.0,>=0.28.0 in c:\\users\\asus\\anaconda3\\lib\\site-packages (from thinc) (1.0.5)\n",
      "Requirement already satisfied: wasabi<1.1.0,>=0.0.9 in c:\\users\\asus\\anaconda3\\lib\\site-packages (from thinc) (0.8.2)\n",
      "Requirement already satisfied: numpy>=1.15.0 in c:\\users\\asus\\anaconda3\\lib\\site-packages (from thinc) (1.19.2)\n",
      "Requirement already satisfied: tqdm<5.0.0,>=4.10.0 in c:\\users\\asus\\anaconda3\\lib\\site-packages (from thinc) (4.50.2)\n",
      "Requirement already satisfied: cymem<2.1.0,>=2.0.2 in c:\\users\\asus\\anaconda3\\lib\\site-packages (from thinc) (2.0.5)\n",
      "Requirement already satisfied: preshed<3.1.0,>=1.0.1 in c:\\users\\asus\\anaconda3\\lib\\site-packages (from thinc) (3.0.5)\n",
      "Requirement already satisfied: srsly<1.1.0,>=0.0.6 in c:\\users\\asus\\anaconda3\\lib\\site-packages (from thinc) (1.0.5)\n"
     ]
    }
   ],
   "source": [
    "pip install thinc"
   ]
  },
  {
   "cell_type": "code",
   "execution_count": 8,
   "metadata": {},
   "outputs": [
    {
     "name": "stdout",
     "output_type": "stream",
     "text": [
      "Collecting pip\n",
      "  Downloading pip-21.0.1-py3-none-any.whl (1.5 MB)\n",
      "Collecting setuptoolsNote: you may need to restart the kernel to use updated packages.\n"
     ]
    },
    {
     "name": "stderr",
     "output_type": "stream",
     "text": [
      "ERROR: After October 2020 you may experience errors when installing or updating packages. This is because pip will change the way that it resolves dependency conflicts.\n",
      "\n",
      "We recommend you use --use-feature=2020-resolver to test your packages with the new resolver before it becomes the default.\n",
      "\n",
      "spacy 3.0.5 requires catalogue<2.1.0,>=2.0.1, but you'll have catalogue 1.0.0 which is incompatible.\n",
      "spacy 3.0.5 requires srsly<3.0.0,>=2.4.0, but you'll have srsly 1.0.5 which is incompatible.\n",
      "spacy 3.0.5 requires thinc<8.1.0,>=8.0.2, but you'll have thinc 7.4.5 which is incompatible.\n"
     ]
    },
    {
     "name": "stdout",
     "output_type": "stream",
     "text": [
      "\n",
      "  Downloading setuptools-54.2.0-py3-none-any.whl (785 kB)\n",
      "Collecting wheel\n",
      "  Downloading wheel-0.36.2-py2.py3-none-any.whl (35 kB)\n",
      "Installing collected packages: pip, setuptools, wheel\n",
      "  Attempting uninstall: pip\n",
      "    Found existing installation: pip 20.2.4\n",
      "    Uninstalling pip-20.2.4:\n",
      "      Successfully uninstalled pip-20.2.4\n",
      "  Attempting uninstall: setuptools\n",
      "    Found existing installation: setuptools 50.3.1.post20201107\n",
      "    Uninstalling setuptools-50.3.1.post20201107:\n",
      "      Successfully uninstalled setuptools-50.3.1.post20201107\n",
      "  Attempting uninstall: wheel\n",
      "    Found existing installation: wheel 0.35.1\n",
      "    Uninstalling wheel-0.35.1:\n",
      "      Successfully uninstalled wheel-0.35.1\n",
      "Successfully installed pip-21.0.1 setuptools-54.2.0 wheel-0.36.2\n"
     ]
    }
   ],
   "source": [
    "pip install -U pip setuptools wheel\n"
   ]
  },
  {
   "cell_type": "code",
   "execution_count": 11,
   "metadata": {},
   "outputs": [
    {
     "name": "stdout",
     "output_type": "stream",
     "text": [
      "Collecting thinc==5.0.8.\n",
      "  Using cached thinc-5.0.8.tar.gz (690 kB)\n",
      "Requirement already satisfied: numpy>=1.7 in c:\\users\\asus\\anaconda3\\lib\\site-packages (from thinc==5.0.8.) (1.19.2)\n",
      "Collecting murmurhash<0.27,>=0.26\n",
      "  Using cached murmurhash-0.26.4.tar.gz (23 kB)\n",
      "Collecting cymem<1.32,>=1.30\n",
      "  Using cached cymem-1.31.2.tar.gz (33 kB)\n",
      "Collecting preshed<0.47,>=0.46\n",
      "  Using cached preshed-0.46.4.tar.gz (88 kB)\n",
      "Building wheels for collected packages: thinc, cymem, murmurhash, preshed\n",
      "  Building wheel for thinc (setup.py): started\n",
      "  Building wheel for thinc (setup.py): finished with status 'error'\n",
      "  Running setup.py clean for thinc\n",
      "  Building wheel for cymem (setup.py): started\n",
      "  Building wheel for cymem (setup.py): finished with status 'error'\n",
      "  Running setup.py clean for cymem\n",
      "  Building wheel for murmurhash (setup.py): started\n",
      "  Building wheel for murmurhash (setup.py): finished with status 'error'\n",
      "  Running setup.py clean for murmurhash\n",
      "  Building wheel for preshed (setup.py): started\n",
      "  Building wheel for preshed (setup.py): finished with status 'error'\n",
      "  Running setup.py clean for preshed\n",
      "Failed to build thinc cymem murmurhash preshed\n",
      "Installing collected packages: cymem, preshed, murmurhash, thinc\n",
      "  Attempting uninstall: cymem\n",
      "    Found existing installation: cymem 2.0.5\n",
      "    Uninstalling cymem-2.0.5:\n",
      "      Successfully uninstalled cymem-2.0.5\n",
      "    Running setup.py install for cymem: started\n",
      "    Running setup.py install for cymem: finished with status 'error'\n",
      "  Rolling back uninstall of cymem\n",
      "  Moving to c:\\users\\asus\\anaconda3\\lib\\site-packages\\cymem-2.0.5.dist-info\\\n",
      "   from C:\\Users\\ASUS\\Anaconda3\\Lib\\site-packages\\~ymem-2.0.5.dist-info\n",
      "  Moving to c:\\users\\asus\\anaconda3\\lib\\site-packages\\cymem\\\n",
      "   from C:\\Users\\ASUS\\Anaconda3\\Lib\\site-packages\\~ymem\n",
      "Note: you may need to restart the kernel to use updated packages.\n"
     ]
    },
    {
     "name": "stderr",
     "output_type": "stream",
     "text": [
      "  ERROR: Command errored out with exit status 1:\n",
      "   command: 'C:\\Users\\ASUS\\Anaconda3\\python.exe' -u -c 'import sys, setuptools, tokenize; sys.argv[0] = '\"'\"'C:\\\\Users\\\\ASUS\\\\AppData\\\\Local\\\\Temp\\\\pip-install-islo8_cs\\\\thinc_f05eb966d5d84ba8af36cdfc2c4204ce\\\\setup.py'\"'\"'; __file__='\"'\"'C:\\\\Users\\\\ASUS\\\\AppData\\\\Local\\\\Temp\\\\pip-install-islo8_cs\\\\thinc_f05eb966d5d84ba8af36cdfc2c4204ce\\\\setup.py'\"'\"';f=getattr(tokenize, '\"'\"'open'\"'\"', open)(__file__);code=f.read().replace('\"'\"'\\r\\n'\"'\"', '\"'\"'\\n'\"'\"');f.close();exec(compile(code, __file__, '\"'\"'exec'\"'\"'))' bdist_wheel -d 'C:\\Users\\ASUS\\AppData\\Local\\Temp\\pip-wheel-z9egfgkz'\n",
      "       cwd: C:\\Users\\ASUS\\AppData\\Local\\Temp\\pip-install-islo8_cs\\thinc_f05eb966d5d84ba8af36cdfc2c4204ce\\\n",
      "  Complete output (66 lines):\n",
      "  running bdist_wheel\n",
      "  running build\n",
      "  running build_py\n",
      "  creating build\n",
      "  creating build\\lib.win-amd64-3.8\n",
      "  creating build\\lib.win-amd64-3.8\\thinc\n",
      "  copying thinc\\about.py -> build\\lib.win-amd64-3.8\\thinc\n",
      "  copying thinc\\__init__.py -> build\\lib.win-amd64-3.8\\thinc\n",
      "  creating build\\lib.win-amd64-3.8\\thinc\\linear\n",
      "  copying thinc\\linear\\__init__.py -> build\\lib.win-amd64-3.8\\thinc\\linear\n",
      "  creating build\\lib.win-amd64-3.8\\thinc\\extra\n",
      "  copying thinc\\extra\\__init__.py -> build\\lib.win-amd64-3.8\\thinc\\extra\n",
      "  creating build\\lib.win-amd64-3.8\\thinc\\neural\n",
      "  copying thinc\\neural\\theano_nn.py -> build\\lib.win-amd64-3.8\\thinc\\neural\n",
      "  copying thinc\\neural\\__init__.py -> build\\lib.win-amd64-3.8\\thinc\\neural\n",
      "  creating build\\lib.win-amd64-3.8\\thinc\\linear\\tests\n",
      "  copying thinc\\linear\\tests\\test_avgtron.py -> build\\lib.win-amd64-3.8\\thinc\\linear\\tests\n",
      "  copying thinc\\linear\\tests\\test_sparse_array.py -> build\\lib.win-amd64-3.8\\thinc\\linear\\tests\n",
      "  copying thinc\\linear\\tests\\__init__.py -> build\\lib.win-amd64-3.8\\thinc\\linear\\tests\n",
      "  creating build\\lib.win-amd64-3.8\\thinc\\extra\\tests\n",
      "  copying thinc\\extra\\tests\\__init__.py -> build\\lib.win-amd64-3.8\\thinc\\extra\\tests\n",
      "  creating build\\lib.win-amd64-3.8\\thinc\\neural\\tests\n",
      "  copying thinc\\neural\\tests\\test_funcs.py -> build\\lib.win-amd64-3.8\\thinc\\neural\\tests\n",
      "  copying thinc\\neural\\tests\\test_neural_net.py -> build\\lib.win-amd64-3.8\\thinc\\neural\\tests\n",
      "  copying thinc\\neural\\tests\\__init__.py -> build\\lib.win-amd64-3.8\\thinc\\neural\\tests\n",
      "  copying thinc\\linalg.pyx -> build\\lib.win-amd64-3.8\\thinc\n",
      "  copying thinc\\prng.pyx -> build\\lib.win-amd64-3.8\\thinc\n",
      "  copying thinc\\structs.pyx -> build\\lib.win-amd64-3.8\\thinc\n",
      "  copying thinc\\typedefs.pyx -> build\\lib.win-amd64-3.8\\thinc\n",
      "  copying thinc\\linalg.pxd -> build\\lib.win-amd64-3.8\\thinc\n",
      "  copying thinc\\prng.pxd -> build\\lib.win-amd64-3.8\\thinc\n",
      "  copying thinc\\structs.pxd -> build\\lib.win-amd64-3.8\\thinc\n",
      "  copying thinc\\typedefs.pxd -> build\\lib.win-amd64-3.8\\thinc\n",
      "  copying thinc\\__init__.pxd -> build\\lib.win-amd64-3.8\\thinc\n",
      "  copying thinc\\compile_time_constants.pxi -> build\\lib.win-amd64-3.8\\thinc\n",
      "  copying thinc\\linear\\avgtron.pyx -> build\\lib.win-amd64-3.8\\thinc\\linear\n",
      "  copying thinc\\linear\\features.pyx -> build\\lib.win-amd64-3.8\\thinc\\linear\n",
      "  copying thinc\\linear\\serialize.pyx -> build\\lib.win-amd64-3.8\\thinc\\linear\n",
      "  copying thinc\\linear\\sparse.pyx -> build\\lib.win-amd64-3.8\\thinc\\linear\n",
      "  copying thinc\\linear\\avgtron.pxd -> build\\lib.win-amd64-3.8\\thinc\\linear\n",
      "  copying thinc\\linear\\features.pxd -> build\\lib.win-amd64-3.8\\thinc\\linear\n",
      "  copying thinc\\linear\\serialize.pxd -> build\\lib.win-amd64-3.8\\thinc\\linear\n",
      "  copying thinc\\linear\\sparse.pxd -> build\\lib.win-amd64-3.8\\thinc\\linear\n",
      "  copying thinc\\linear\\__init__.pxd -> build\\lib.win-amd64-3.8\\thinc\\linear\n",
      "  copying thinc\\extra\\cache.pyx -> build\\lib.win-amd64-3.8\\thinc\\extra\n",
      "  copying thinc\\extra\\eg.pyx -> build\\lib.win-amd64-3.8\\thinc\\extra\n",
      "  copying thinc\\extra\\search.pyx -> build\\lib.win-amd64-3.8\\thinc\\extra\n",
      "  copying thinc\\extra\\cache.pxd -> build\\lib.win-amd64-3.8\\thinc\\extra\n",
      "  copying thinc\\extra\\eg.pxd -> build\\lib.win-amd64-3.8\\thinc\\extra\n",
      "  copying thinc\\extra\\search.pxd -> build\\lib.win-amd64-3.8\\thinc\\extra\n",
      "  copying thinc\\extra\\__init__.pxd -> build\\lib.win-amd64-3.8\\thinc\\extra\n",
      "  copying thinc\\neural\\backward.pyx -> build\\lib.win-amd64-3.8\\thinc\\neural\n",
      "  copying thinc\\neural\\forward.pyx -> build\\lib.win-amd64-3.8\\thinc\\neural\n",
      "  copying thinc\\neural\\nn.pyx -> build\\lib.win-amd64-3.8\\thinc\\neural\n",
      "  copying thinc\\neural\\solve.pyx -> build\\lib.win-amd64-3.8\\thinc\\neural\n",
      "  copying thinc\\neural\\backward.pxd -> build\\lib.win-amd64-3.8\\thinc\\neural\n",
      "  copying thinc\\neural\\forward.pxd -> build\\lib.win-amd64-3.8\\thinc\\neural\n",
      "  copying thinc\\neural\\nn.pxd -> build\\lib.win-amd64-3.8\\thinc\\neural\n",
      "  copying thinc\\neural\\solve.pxd -> build\\lib.win-amd64-3.8\\thinc\\neural\n",
      "  copying thinc\\neural\\__init__.pxd -> build\\lib.win-amd64-3.8\\thinc\\neural\n",
      "  copying thinc\\extra\\tests\\c_test_search.pyx -> build\\lib.win-amd64-3.8\\thinc\\extra\\tests\n",
      "  copying thinc\\neural\\tests\\_backprop_shim.pyx -> build\\lib.win-amd64-3.8\\thinc\\neural\\tests\n",
      "  copying thinc\\neural\\tests\\_funcs_shim.pyx -> build\\lib.win-amd64-3.8\\thinc\\neural\\tests\n",
      "  running build_ext\n",
      "  building 'thinc.linalg' extension\n",
      "  error: Microsoft Visual C++ 14.0 or greater is required. Get it with \"Microsoft C++ Build Tools\": https://visualstudio.microsoft.com/visual-cpp-build-tools/\n",
      "  ----------------------------------------\n",
      "  ERROR: Failed building wheel for thinc\n",
      "  ERROR: Command errored out with exit status 1:\n",
      "   command: 'C:\\Users\\ASUS\\Anaconda3\\python.exe' -u -c 'import sys, setuptools, tokenize; sys.argv[0] = '\"'\"'C:\\\\Users\\\\ASUS\\\\AppData\\\\Local\\\\Temp\\\\pip-install-islo8_cs\\\\cymem_1acff46c7eac46de968c052e3932d6c2\\\\setup.py'\"'\"'; __file__='\"'\"'C:\\\\Users\\\\ASUS\\\\AppData\\\\Local\\\\Temp\\\\pip-install-islo8_cs\\\\cymem_1acff46c7eac46de968c052e3932d6c2\\\\setup.py'\"'\"';f=getattr(tokenize, '\"'\"'open'\"'\"', open)(__file__);code=f.read().replace('\"'\"'\\r\\n'\"'\"', '\"'\"'\\n'\"'\"');f.close();exec(compile(code, __file__, '\"'\"'exec'\"'\"'))' bdist_wheel -d 'C:\\Users\\ASUS\\AppData\\Local\\Temp\\pip-wheel-tu5eiddz'\n",
      "       cwd: C:\\Users\\ASUS\\AppData\\Local\\Temp\\pip-install-islo8_cs\\cymem_1acff46c7eac46de968c052e3932d6c2\\\n",
      "  Complete output (17 lines):\n",
      "  running bdist_wheel\n",
      "  running build\n",
      "  running build_py\n",
      "  creating build\n",
      "  creating build\\lib.win-amd64-3.8\n",
      "  creating build\\lib.win-amd64-3.8\\cymem\n",
      "  copying cymem\\about.py -> build\\lib.win-amd64-3.8\\cymem\n",
      "  copying cymem\\__init__.py -> build\\lib.win-amd64-3.8\\cymem\n",
      "  package init file 'cymem\\tests\\__init__.py' not found (or not a regular file)\n",
      "  creating build\\lib.win-amd64-3.8\\cymem\\tests\n",
      "  copying cymem\\tests\\test_import.py -> build\\lib.win-amd64-3.8\\cymem\\tests\n",
      "  copying cymem\\cymem.pyx -> build\\lib.win-amd64-3.8\\cymem\n",
      "  copying cymem\\cymem.pxd -> build\\lib.win-amd64-3.8\\cymem\n",
      "  copying cymem\\__init__.pxd -> build\\lib.win-amd64-3.8\\cymem\n",
      "  running build_ext\n",
      "  building 'cymem.cymem' extension\n",
      "  error: Microsoft Visual C++ 14.0 or greater is required. Get it with \"Microsoft C++ Build Tools\": https://visualstudio.microsoft.com/visual-cpp-build-tools/\n",
      "  ----------------------------------------\n",
      "  ERROR: Failed building wheel for cymem\n",
      "  ERROR: Command errored out with exit status 1:\n",
      "   command: 'C:\\Users\\ASUS\\Anaconda3\\python.exe' -u -c 'import sys, setuptools, tokenize; sys.argv[0] = '\"'\"'C:\\\\Users\\\\ASUS\\\\AppData\\\\Local\\\\Temp\\\\pip-install-islo8_cs\\\\murmurhash_172852f79fec45cdbd76560f7fa2dfa6\\\\setup.py'\"'\"'; __file__='\"'\"'C:\\\\Users\\\\ASUS\\\\AppData\\\\Local\\\\Temp\\\\pip-install-islo8_cs\\\\murmurhash_172852f79fec45cdbd76560f7fa2dfa6\\\\setup.py'\"'\"';f=getattr(tokenize, '\"'\"'open'\"'\"', open)(__file__);code=f.read().replace('\"'\"'\\r\\n'\"'\"', '\"'\"'\\n'\"'\"');f.close();exec(compile(code, __file__, '\"'\"'exec'\"'\"'))' bdist_wheel -d 'C:\\Users\\ASUS\\AppData\\Local\\Temp\\pip-wheel-edpikbrn'\n",
      "       cwd: C:\\Users\\ASUS\\AppData\\Local\\Temp\\pip-install-islo8_cs\\murmurhash_172852f79fec45cdbd76560f7fa2dfa6\\\n",
      "  Complete output (21 lines):\n",
      "  running bdist_wheel\n",
      "  running build\n",
      "  running build_py\n",
      "  creating build\n",
      "  creating build\\lib.win-amd64-3.8\n",
      "  creating build\\lib.win-amd64-3.8\\murmurhash\n",
      "  copying murmurhash\\about.py -> build\\lib.win-amd64-3.8\\murmurhash\n",
      "  copying murmurhash\\__init__.py -> build\\lib.win-amd64-3.8\\murmurhash\n",
      "  creating build\\lib.win-amd64-3.8\\murmurhash\\tests\n",
      "  copying murmurhash\\tests\\test_import.py -> build\\lib.win-amd64-3.8\\murmurhash\\tests\n",
      "  copying murmurhash\\tests\\__init__.py -> build\\lib.win-amd64-3.8\\murmurhash\\tests\n",
      "  copying murmurhash\\mrmr.pyx -> build\\lib.win-amd64-3.8\\murmurhash\n",
      "  copying murmurhash\\mrmr.pxd -> build\\lib.win-amd64-3.8\\murmurhash\n",
      "  copying murmurhash\\__init__.pxd -> build\\lib.win-amd64-3.8\\murmurhash\n",
      "  creating build\\lib.win-amd64-3.8\\murmurhash\\include\n",
      "  creating build\\lib.win-amd64-3.8\\murmurhash\\include\\murmurhash\n",
      "  copying murmurhash\\include\\murmurhash\\MurmurHash2.h -> build\\lib.win-amd64-3.8\\murmurhash\\include\\murmurhash\n",
      "  copying murmurhash\\include\\murmurhash\\MurmurHash3.h -> build\\lib.win-amd64-3.8\\murmurhash\\include\\murmurhash\n",
      "  running build_ext\n",
      "  building 'murmurhash.mrmr' extension\n",
      "  error: Microsoft Visual C++ 14.0 or greater is required. Get it with \"Microsoft C++ Build Tools\": https://visualstudio.microsoft.com/visual-cpp-build-tools/\n",
      "  ----------------------------------------\n",
      "  ERROR: Failed building wheel for murmurhash\n",
      "  ERROR: Command errored out with exit status 1:\n",
      "   command: 'C:\\Users\\ASUS\\Anaconda3\\python.exe' -u -c 'import sys, setuptools, tokenize; sys.argv[0] = '\"'\"'C:\\\\Users\\\\ASUS\\\\AppData\\\\Local\\\\Temp\\\\pip-install-islo8_cs\\\\preshed_c22f47f8a4134143ab8328ec6f02bf1e\\\\setup.py'\"'\"'; __file__='\"'\"'C:\\\\Users\\\\ASUS\\\\AppData\\\\Local\\\\Temp\\\\pip-install-islo8_cs\\\\preshed_c22f47f8a4134143ab8328ec6f02bf1e\\\\setup.py'\"'\"';f=getattr(tokenize, '\"'\"'open'\"'\"', open)(__file__);code=f.read().replace('\"'\"'\\r\\n'\"'\"', '\"'\"'\\n'\"'\"');f.close();exec(compile(code, __file__, '\"'\"'exec'\"'\"'))' bdist_wheel -d 'C:\\Users\\ASUS\\AppData\\Local\\Temp\\pip-wheel-6oih1937'\n",
      "       cwd: C:\\Users\\ASUS\\AppData\\Local\\Temp\\pip-install-islo8_cs\\preshed_c22f47f8a4134143ab8328ec6f02bf1e\\\n",
      "  Complete output (20 lines):\n",
      "  running bdist_wheel\n",
      "  running build\n",
      "  running build_py\n",
      "  creating build\n",
      "  creating build\\lib.win-amd64-3.8\n",
      "  creating build\\lib.win-amd64-3.8\\preshed\n",
      "  copying preshed\\about.py -> build\\lib.win-amd64-3.8\\preshed\n",
      "  copying preshed\\__init__.py -> build\\lib.win-amd64-3.8\\preshed\n",
      "  creating build\\lib.win-amd64-3.8\\preshed\\tests\n",
      "  copying preshed\\tests\\test_counter.py -> build\\lib.win-amd64-3.8\\preshed\\tests\n",
      "  copying preshed\\tests\\test_hashing.py -> build\\lib.win-amd64-3.8\\preshed\\tests\n",
      "  copying preshed\\tests\\__init__.py -> build\\lib.win-amd64-3.8\\preshed\\tests\n",
      "  copying preshed\\counter.pyx -> build\\lib.win-amd64-3.8\\preshed\n",
      "  copying preshed\\maps.pyx -> build\\lib.win-amd64-3.8\\preshed\n",
      "  copying preshed\\counter.pxd -> build\\lib.win-amd64-3.8\\preshed\n",
      "  copying preshed\\maps.pxd -> build\\lib.win-amd64-3.8\\preshed\n",
      "  copying preshed\\__init__.pxd -> build\\lib.win-amd64-3.8\\preshed\n",
      "  running build_ext\n",
      "  building 'preshed.maps' extension\n",
      "  error: Microsoft Visual C++ 14.0 or greater is required. Get it with \"Microsoft C++ Build Tools\": https://visualstudio.microsoft.com/visual-cpp-build-tools/\n",
      "  ----------------------------------------\n",
      "  ERROR: Failed building wheel for preshed\n",
      "    ERROR: Command errored out with exit status 1:\n",
      "     command: 'C:\\Users\\ASUS\\Anaconda3\\python.exe' -u -c 'import sys, setuptools, tokenize; sys.argv[0] = '\"'\"'C:\\\\Users\\\\ASUS\\\\AppData\\\\Local\\\\Temp\\\\pip-install-islo8_cs\\\\cymem_1acff46c7eac46de968c052e3932d6c2\\\\setup.py'\"'\"'; __file__='\"'\"'C:\\\\Users\\\\ASUS\\\\AppData\\\\Local\\\\Temp\\\\pip-install-islo8_cs\\\\cymem_1acff46c7eac46de968c052e3932d6c2\\\\setup.py'\"'\"';f=getattr(tokenize, '\"'\"'open'\"'\"', open)(__file__);code=f.read().replace('\"'\"'\\r\\n'\"'\"', '\"'\"'\\n'\"'\"');f.close();exec(compile(code, __file__, '\"'\"'exec'\"'\"'))' install --record 'C:\\Users\\ASUS\\AppData\\Local\\Temp\\pip-record-tlp1znx1\\install-record.txt' --single-version-externally-managed --compile --install-headers 'C:\\Users\\ASUS\\Anaconda3\\Include\\cymem'\n",
      "         cwd: C:\\Users\\ASUS\\AppData\\Local\\Temp\\pip-install-islo8_cs\\cymem_1acff46c7eac46de968c052e3932d6c2\\\n",
      "    Complete output (7 lines):\n",
      "    running install\n",
      "    running build\n",
      "    running build_py\n",
      "    package init file 'cymem\\tests\\__init__.py' not found (or not a regular file)\n",
      "    running build_ext\n",
      "    building 'cymem.cymem' extension\n",
      "    error: Microsoft Visual C++ 14.0 or greater is required. Get it with \"Microsoft C++ Build Tools\": https://visualstudio.microsoft.com/visual-cpp-build-tools/\n",
      "    ----------------------------------------\n",
      "ERROR: Command errored out with exit status 1: 'C:\\Users\\ASUS\\Anaconda3\\python.exe' -u -c 'import sys, setuptools, tokenize; sys.argv[0] = '\"'\"'C:\\\\Users\\\\ASUS\\\\AppData\\\\Local\\\\Temp\\\\pip-install-islo8_cs\\\\cymem_1acff46c7eac46de968c052e3932d6c2\\\\setup.py'\"'\"'; __file__='\"'\"'C:\\\\Users\\\\ASUS\\\\AppData\\\\Local\\\\Temp\\\\pip-install-islo8_cs\\\\cymem_1acff46c7eac46de968c052e3932d6c2\\\\setup.py'\"'\"';f=getattr(tokenize, '\"'\"'open'\"'\"', open)(__file__);code=f.read().replace('\"'\"'\\r\\n'\"'\"', '\"'\"'\\n'\"'\"');f.close();exec(compile(code, __file__, '\"'\"'exec'\"'\"'))' install --record 'C:\\Users\\ASUS\\AppData\\Local\\Temp\\pip-record-tlp1znx1\\install-record.txt' --single-version-externally-managed --compile --install-headers 'C:\\Users\\ASUS\\Anaconda3\\Include\\cymem' Check the logs for full command output.\n"
     ]
    }
   ],
   "source": [
    "pip install thinc==5.0.8."
   ]
  },
  {
   "cell_type": "code",
   "execution_count": 12,
   "metadata": {},
   "outputs": [
    {
     "name": "stdout",
     "output_type": "stream",
     "text": [
      "Note: you may need to restart the kernel to use updated packages.\n"
     ]
    },
    {
     "name": "stderr",
     "output_type": "stream",
     "text": [
      "WARNING: Skipping spacy-nightly as it is not installed.\n"
     ]
    }
   ],
   "source": [
    "pip uninstall spacy-nightly"
   ]
  },
  {
   "cell_type": "code",
   "execution_count": 1,
   "metadata": {},
   "outputs": [
    {
     "name": "stderr",
     "output_type": "stream",
     "text": [
      "C:\\Users\\ASUS\\Anaconda3\\lib\\site-packages\\spacy\\util.py:275: UserWarning: [W031] Model 'en_core_web_sm' (3.0.0) requires spaCy v3.0 and is incompatible with the current spaCy version (2.3.2). This may lead to unexpected results or runtime errors. To resolve this, download a newer compatible model or retrain your custom model with the current spaCy version. For more details and available updates, run: python -m spacy validate\n",
      "  warnings.warn(warn_msg)\n"
     ]
    },
    {
     "ename": "KeyError",
     "evalue": "\"[E002] Can't find factory for 'tok2vec'. This usually happens when spaCy calls `nlp.create_pipe` with a component name that's not built in - for example, when constructing the pipeline from a model's meta.json. If you're using a custom component, you can write to `Language.factories['tok2vec']` or remove it from the model meta and add it via `nlp.add_pipe` instead.\"",
     "output_type": "error",
     "traceback": [
      "\u001b[1;31m---------------------------------------------------------------------------\u001b[0m",
      "\u001b[1;31mKeyError\u001b[0m                                  Traceback (most recent call last)",
      "\u001b[1;32m<ipython-input-1-1fe87e142217>\u001b[0m in \u001b[0;36m<module>\u001b[1;34m\u001b[0m\n\u001b[0;32m      1\u001b[0m \u001b[1;32mfrom\u001b[0m \u001b[0mpyresparser\u001b[0m \u001b[1;32mimport\u001b[0m \u001b[0mResumeParser\u001b[0m\u001b[1;33m\u001b[0m\u001b[1;33m\u001b[0m\u001b[0m\n\u001b[1;32m----> 2\u001b[1;33m \u001b[0mdata\u001b[0m \u001b[1;33m=\u001b[0m \u001b[0mResumeParser\u001b[0m\u001b[1;33m(\u001b[0m\u001b[1;34m'C:/Users/ASUS/Downloads/Documents/0914.pdf'\u001b[0m\u001b[1;33m)\u001b[0m\u001b[1;33m.\u001b[0m\u001b[0mget_extracted_data\u001b[0m\u001b[1;33m(\u001b[0m\u001b[1;33m)\u001b[0m\u001b[1;33m\u001b[0m\u001b[1;33m\u001b[0m\u001b[0m\n\u001b[0m",
      "\u001b[1;32m~\\Anaconda3\\lib\\site-packages\\pyresparser\\resume_parser.py\u001b[0m in \u001b[0;36m__init__\u001b[1;34m(self, resume, skills_file, custom_regex)\u001b[0m\n\u001b[0;32m     18\u001b[0m         \u001b[0mcustom_regex\u001b[0m\u001b[1;33m=\u001b[0m\u001b[1;32mNone\u001b[0m\u001b[1;33m\u001b[0m\u001b[1;33m\u001b[0m\u001b[0m\n\u001b[0;32m     19\u001b[0m     ):\n\u001b[1;32m---> 20\u001b[1;33m         \u001b[0mnlp\u001b[0m \u001b[1;33m=\u001b[0m \u001b[0mspacy\u001b[0m\u001b[1;33m.\u001b[0m\u001b[0mload\u001b[0m\u001b[1;33m(\u001b[0m\u001b[1;34m'en_core_web_sm'\u001b[0m\u001b[1;33m)\u001b[0m\u001b[1;33m\u001b[0m\u001b[1;33m\u001b[0m\u001b[0m\n\u001b[0m\u001b[0;32m     21\u001b[0m         \u001b[0mcustom_nlp\u001b[0m \u001b[1;33m=\u001b[0m \u001b[0mspacy\u001b[0m\u001b[1;33m.\u001b[0m\u001b[0mload\u001b[0m\u001b[1;33m(\u001b[0m\u001b[0mos\u001b[0m\u001b[1;33m.\u001b[0m\u001b[0mpath\u001b[0m\u001b[1;33m.\u001b[0m\u001b[0mdirname\u001b[0m\u001b[1;33m(\u001b[0m\u001b[0mos\u001b[0m\u001b[1;33m.\u001b[0m\u001b[0mpath\u001b[0m\u001b[1;33m.\u001b[0m\u001b[0mabspath\u001b[0m\u001b[1;33m(\u001b[0m\u001b[0m__file__\u001b[0m\u001b[1;33m)\u001b[0m\u001b[1;33m)\u001b[0m\u001b[1;33m)\u001b[0m\u001b[1;33m\u001b[0m\u001b[1;33m\u001b[0m\u001b[0m\n\u001b[0;32m     22\u001b[0m         \u001b[0mself\u001b[0m\u001b[1;33m.\u001b[0m\u001b[0m__skills_file\u001b[0m \u001b[1;33m=\u001b[0m \u001b[0mskills_file\u001b[0m\u001b[1;33m\u001b[0m\u001b[1;33m\u001b[0m\u001b[0m\n",
      "\u001b[1;32m~\\Anaconda3\\lib\\site-packages\\spacy\\__init__.py\u001b[0m in \u001b[0;36mload\u001b[1;34m(name, **overrides)\u001b[0m\n\u001b[0;32m     28\u001b[0m     \u001b[1;32mif\u001b[0m \u001b[0mdepr_path\u001b[0m \u001b[1;32mnot\u001b[0m \u001b[1;32min\u001b[0m \u001b[1;33m(\u001b[0m\u001b[1;32mTrue\u001b[0m\u001b[1;33m,\u001b[0m \u001b[1;32mFalse\u001b[0m\u001b[1;33m,\u001b[0m \u001b[1;32mNone\u001b[0m\u001b[1;33m)\u001b[0m\u001b[1;33m:\u001b[0m\u001b[1;33m\u001b[0m\u001b[1;33m\u001b[0m\u001b[0m\n\u001b[0;32m     29\u001b[0m         \u001b[0mwarnings\u001b[0m\u001b[1;33m.\u001b[0m\u001b[0mwarn\u001b[0m\u001b[1;33m(\u001b[0m\u001b[0mWarnings\u001b[0m\u001b[1;33m.\u001b[0m\u001b[0mW001\u001b[0m\u001b[1;33m.\u001b[0m\u001b[0mformat\u001b[0m\u001b[1;33m(\u001b[0m\u001b[0mpath\u001b[0m\u001b[1;33m=\u001b[0m\u001b[0mdepr_path\u001b[0m\u001b[1;33m)\u001b[0m\u001b[1;33m,\u001b[0m \u001b[0mDeprecationWarning\u001b[0m\u001b[1;33m)\u001b[0m\u001b[1;33m\u001b[0m\u001b[1;33m\u001b[0m\u001b[0m\n\u001b[1;32m---> 30\u001b[1;33m     \u001b[1;32mreturn\u001b[0m \u001b[0mutil\u001b[0m\u001b[1;33m.\u001b[0m\u001b[0mload_model\u001b[0m\u001b[1;33m(\u001b[0m\u001b[0mname\u001b[0m\u001b[1;33m,\u001b[0m \u001b[1;33m**\u001b[0m\u001b[0moverrides\u001b[0m\u001b[1;33m)\u001b[0m\u001b[1;33m\u001b[0m\u001b[1;33m\u001b[0m\u001b[0m\n\u001b[0m\u001b[0;32m     31\u001b[0m \u001b[1;33m\u001b[0m\u001b[0m\n\u001b[0;32m     32\u001b[0m \u001b[1;33m\u001b[0m\u001b[0m\n",
      "\u001b[1;32m~\\Anaconda3\\lib\\site-packages\\spacy\\util.py\u001b[0m in \u001b[0;36mload_model\u001b[1;34m(name, **overrides)\u001b[0m\n\u001b[0;32m    168\u001b[0m             \u001b[1;32mreturn\u001b[0m \u001b[0mload_model_from_link\u001b[0m\u001b[1;33m(\u001b[0m\u001b[0mname\u001b[0m\u001b[1;33m,\u001b[0m \u001b[1;33m**\u001b[0m\u001b[0moverrides\u001b[0m\u001b[1;33m)\u001b[0m\u001b[1;33m\u001b[0m\u001b[1;33m\u001b[0m\u001b[0m\n\u001b[0;32m    169\u001b[0m         \u001b[1;32mif\u001b[0m \u001b[0mis_package\u001b[0m\u001b[1;33m(\u001b[0m\u001b[0mname\u001b[0m\u001b[1;33m)\u001b[0m\u001b[1;33m:\u001b[0m  \u001b[1;31m# installed as package\u001b[0m\u001b[1;33m\u001b[0m\u001b[1;33m\u001b[0m\u001b[0m\n\u001b[1;32m--> 170\u001b[1;33m             \u001b[1;32mreturn\u001b[0m \u001b[0mload_model_from_package\u001b[0m\u001b[1;33m(\u001b[0m\u001b[0mname\u001b[0m\u001b[1;33m,\u001b[0m \u001b[1;33m**\u001b[0m\u001b[0moverrides\u001b[0m\u001b[1;33m)\u001b[0m\u001b[1;33m\u001b[0m\u001b[1;33m\u001b[0m\u001b[0m\n\u001b[0m\u001b[0;32m    171\u001b[0m         \u001b[1;32mif\u001b[0m \u001b[0mPath\u001b[0m\u001b[1;33m(\u001b[0m\u001b[0mname\u001b[0m\u001b[1;33m)\u001b[0m\u001b[1;33m.\u001b[0m\u001b[0mexists\u001b[0m\u001b[1;33m(\u001b[0m\u001b[1;33m)\u001b[0m\u001b[1;33m:\u001b[0m  \u001b[1;31m# path to model data directory\u001b[0m\u001b[1;33m\u001b[0m\u001b[1;33m\u001b[0m\u001b[0m\n\u001b[0;32m    172\u001b[0m             \u001b[1;32mreturn\u001b[0m \u001b[0mload_model_from_path\u001b[0m\u001b[1;33m(\u001b[0m\u001b[0mPath\u001b[0m\u001b[1;33m(\u001b[0m\u001b[0mname\u001b[0m\u001b[1;33m)\u001b[0m\u001b[1;33m,\u001b[0m \u001b[1;33m**\u001b[0m\u001b[0moverrides\u001b[0m\u001b[1;33m)\u001b[0m\u001b[1;33m\u001b[0m\u001b[1;33m\u001b[0m\u001b[0m\n",
      "\u001b[1;32m~\\Anaconda3\\lib\\site-packages\\spacy\\util.py\u001b[0m in \u001b[0;36mload_model_from_package\u001b[1;34m(name, **overrides)\u001b[0m\n\u001b[0;32m    189\u001b[0m     \u001b[1;34m\"\"\"Load a model from an installed package.\"\"\"\u001b[0m\u001b[1;33m\u001b[0m\u001b[1;33m\u001b[0m\u001b[0m\n\u001b[0;32m    190\u001b[0m     \u001b[0mcls\u001b[0m \u001b[1;33m=\u001b[0m \u001b[0mimportlib\u001b[0m\u001b[1;33m.\u001b[0m\u001b[0mimport_module\u001b[0m\u001b[1;33m(\u001b[0m\u001b[0mname\u001b[0m\u001b[1;33m)\u001b[0m\u001b[1;33m\u001b[0m\u001b[1;33m\u001b[0m\u001b[0m\n\u001b[1;32m--> 191\u001b[1;33m     \u001b[1;32mreturn\u001b[0m \u001b[0mcls\u001b[0m\u001b[1;33m.\u001b[0m\u001b[0mload\u001b[0m\u001b[1;33m(\u001b[0m\u001b[1;33m**\u001b[0m\u001b[0moverrides\u001b[0m\u001b[1;33m)\u001b[0m\u001b[1;33m\u001b[0m\u001b[1;33m\u001b[0m\u001b[0m\n\u001b[0m\u001b[0;32m    192\u001b[0m \u001b[1;33m\u001b[0m\u001b[0m\n\u001b[0;32m    193\u001b[0m \u001b[1;33m\u001b[0m\u001b[0m\n",
      "\u001b[1;32m~\\Anaconda3\\lib\\site-packages\\en_core_web_sm\\__init__.py\u001b[0m in \u001b[0;36mload\u001b[1;34m(**overrides)\u001b[0m\n\u001b[0;32m      8\u001b[0m \u001b[1;33m\u001b[0m\u001b[0m\n\u001b[0;32m      9\u001b[0m \u001b[1;32mdef\u001b[0m \u001b[0mload\u001b[0m\u001b[1;33m(\u001b[0m\u001b[1;33m**\u001b[0m\u001b[0moverrides\u001b[0m\u001b[1;33m)\u001b[0m\u001b[1;33m:\u001b[0m\u001b[1;33m\u001b[0m\u001b[1;33m\u001b[0m\u001b[0m\n\u001b[1;32m---> 10\u001b[1;33m     \u001b[1;32mreturn\u001b[0m \u001b[0mload_model_from_init_py\u001b[0m\u001b[1;33m(\u001b[0m\u001b[0m__file__\u001b[0m\u001b[1;33m,\u001b[0m \u001b[1;33m**\u001b[0m\u001b[0moverrides\u001b[0m\u001b[1;33m)\u001b[0m\u001b[1;33m\u001b[0m\u001b[1;33m\u001b[0m\u001b[0m\n\u001b[0m",
      "\u001b[1;32m~\\Anaconda3\\lib\\site-packages\\spacy\\util.py\u001b[0m in \u001b[0;36mload_model_from_init_py\u001b[1;34m(init_file, **overrides)\u001b[0m\n\u001b[0;32m    237\u001b[0m     \u001b[1;32mif\u001b[0m \u001b[1;32mnot\u001b[0m \u001b[0mmodel_path\u001b[0m\u001b[1;33m.\u001b[0m\u001b[0mexists\u001b[0m\u001b[1;33m(\u001b[0m\u001b[1;33m)\u001b[0m\u001b[1;33m:\u001b[0m\u001b[1;33m\u001b[0m\u001b[1;33m\u001b[0m\u001b[0m\n\u001b[0;32m    238\u001b[0m         \u001b[1;32mraise\u001b[0m \u001b[0mIOError\u001b[0m\u001b[1;33m(\u001b[0m\u001b[0mErrors\u001b[0m\u001b[1;33m.\u001b[0m\u001b[0mE052\u001b[0m\u001b[1;33m.\u001b[0m\u001b[0mformat\u001b[0m\u001b[1;33m(\u001b[0m\u001b[0mpath\u001b[0m\u001b[1;33m=\u001b[0m\u001b[0mpath2str\u001b[0m\u001b[1;33m(\u001b[0m\u001b[0mdata_path\u001b[0m\u001b[1;33m)\u001b[0m\u001b[1;33m)\u001b[0m\u001b[1;33m)\u001b[0m\u001b[1;33m\u001b[0m\u001b[1;33m\u001b[0m\u001b[0m\n\u001b[1;32m--> 239\u001b[1;33m     \u001b[1;32mreturn\u001b[0m \u001b[0mload_model_from_path\u001b[0m\u001b[1;33m(\u001b[0m\u001b[0mdata_path\u001b[0m\u001b[1;33m,\u001b[0m \u001b[0mmeta\u001b[0m\u001b[1;33m,\u001b[0m \u001b[1;33m**\u001b[0m\u001b[0moverrides\u001b[0m\u001b[1;33m)\u001b[0m\u001b[1;33m\u001b[0m\u001b[1;33m\u001b[0m\u001b[0m\n\u001b[0m\u001b[0;32m    240\u001b[0m \u001b[1;33m\u001b[0m\u001b[0m\n\u001b[0;32m    241\u001b[0m \u001b[1;33m\u001b[0m\u001b[0m\n",
      "\u001b[1;32m~\\Anaconda3\\lib\\site-packages\\spacy\\util.py\u001b[0m in \u001b[0;36mload_model_from_path\u001b[1;34m(model_path, meta, **overrides)\u001b[0m\n\u001b[0;32m    218\u001b[0m             \u001b[0mconfig\u001b[0m\u001b[1;33m.\u001b[0m\u001b[0mupdate\u001b[0m\u001b[1;33m(\u001b[0m\u001b[0moverrides\u001b[0m\u001b[1;33m)\u001b[0m\u001b[1;33m\u001b[0m\u001b[1;33m\u001b[0m\u001b[0m\n\u001b[0;32m    219\u001b[0m             \u001b[0mfactory\u001b[0m \u001b[1;33m=\u001b[0m \u001b[0mfactories\u001b[0m\u001b[1;33m.\u001b[0m\u001b[0mget\u001b[0m\u001b[1;33m(\u001b[0m\u001b[0mname\u001b[0m\u001b[1;33m,\u001b[0m \u001b[0mname\u001b[0m\u001b[1;33m)\u001b[0m\u001b[1;33m\u001b[0m\u001b[1;33m\u001b[0m\u001b[0m\n\u001b[1;32m--> 220\u001b[1;33m             \u001b[0mcomponent\u001b[0m \u001b[1;33m=\u001b[0m \u001b[0mnlp\u001b[0m\u001b[1;33m.\u001b[0m\u001b[0mcreate_pipe\u001b[0m\u001b[1;33m(\u001b[0m\u001b[0mfactory\u001b[0m\u001b[1;33m,\u001b[0m \u001b[0mconfig\u001b[0m\u001b[1;33m=\u001b[0m\u001b[0mconfig\u001b[0m\u001b[1;33m)\u001b[0m\u001b[1;33m\u001b[0m\u001b[1;33m\u001b[0m\u001b[0m\n\u001b[0m\u001b[0;32m    221\u001b[0m             \u001b[0mnlp\u001b[0m\u001b[1;33m.\u001b[0m\u001b[0madd_pipe\u001b[0m\u001b[1;33m(\u001b[0m\u001b[0mcomponent\u001b[0m\u001b[1;33m,\u001b[0m \u001b[0mname\u001b[0m\u001b[1;33m=\u001b[0m\u001b[0mname\u001b[0m\u001b[1;33m)\u001b[0m\u001b[1;33m\u001b[0m\u001b[1;33m\u001b[0m\u001b[0m\n\u001b[0;32m    222\u001b[0m     \u001b[1;32mreturn\u001b[0m \u001b[0mnlp\u001b[0m\u001b[1;33m.\u001b[0m\u001b[0mfrom_disk\u001b[0m\u001b[1;33m(\u001b[0m\u001b[0mmodel_path\u001b[0m\u001b[1;33m,\u001b[0m \u001b[0mexclude\u001b[0m\u001b[1;33m=\u001b[0m\u001b[0mdisable\u001b[0m\u001b[1;33m)\u001b[0m\u001b[1;33m\u001b[0m\u001b[1;33m\u001b[0m\u001b[0m\n",
      "\u001b[1;32m~\\Anaconda3\\lib\\site-packages\\spacy\\language.py\u001b[0m in \u001b[0;36mcreate_pipe\u001b[1;34m(self, name, config)\u001b[0m\n\u001b[0;32m    308\u001b[0m                 \u001b[1;32mraise\u001b[0m \u001b[0mKeyError\u001b[0m\u001b[1;33m(\u001b[0m\u001b[0mErrors\u001b[0m\u001b[1;33m.\u001b[0m\u001b[0mE108\u001b[0m\u001b[1;33m.\u001b[0m\u001b[0mformat\u001b[0m\u001b[1;33m(\u001b[0m\u001b[0mname\u001b[0m\u001b[1;33m=\u001b[0m\u001b[0mname\u001b[0m\u001b[1;33m)\u001b[0m\u001b[1;33m)\u001b[0m\u001b[1;33m\u001b[0m\u001b[1;33m\u001b[0m\u001b[0m\n\u001b[0;32m    309\u001b[0m             \u001b[1;32melse\u001b[0m\u001b[1;33m:\u001b[0m\u001b[1;33m\u001b[0m\u001b[1;33m\u001b[0m\u001b[0m\n\u001b[1;32m--> 310\u001b[1;33m                 \u001b[1;32mraise\u001b[0m \u001b[0mKeyError\u001b[0m\u001b[1;33m(\u001b[0m\u001b[0mErrors\u001b[0m\u001b[1;33m.\u001b[0m\u001b[0mE002\u001b[0m\u001b[1;33m.\u001b[0m\u001b[0mformat\u001b[0m\u001b[1;33m(\u001b[0m\u001b[0mname\u001b[0m\u001b[1;33m=\u001b[0m\u001b[0mname\u001b[0m\u001b[1;33m)\u001b[0m\u001b[1;33m)\u001b[0m\u001b[1;33m\u001b[0m\u001b[1;33m\u001b[0m\u001b[0m\n\u001b[0m\u001b[0;32m    311\u001b[0m         \u001b[0mfactory\u001b[0m \u001b[1;33m=\u001b[0m \u001b[0mself\u001b[0m\u001b[1;33m.\u001b[0m\u001b[0mfactories\u001b[0m\u001b[1;33m[\u001b[0m\u001b[0mname\u001b[0m\u001b[1;33m]\u001b[0m\u001b[1;33m\u001b[0m\u001b[1;33m\u001b[0m\u001b[0m\n\u001b[0;32m    312\u001b[0m         \u001b[1;32mreturn\u001b[0m \u001b[0mfactory\u001b[0m\u001b[1;33m(\u001b[0m\u001b[0mself\u001b[0m\u001b[1;33m,\u001b[0m \u001b[1;33m**\u001b[0m\u001b[0mconfig\u001b[0m\u001b[1;33m)\u001b[0m\u001b[1;33m\u001b[0m\u001b[1;33m\u001b[0m\u001b[0m\n",
      "\u001b[1;31mKeyError\u001b[0m: \"[E002] Can't find factory for 'tok2vec'. This usually happens when spaCy calls `nlp.create_pipe` with a component name that's not built in - for example, when constructing the pipeline from a model's meta.json. If you're using a custom component, you can write to `Language.factories['tok2vec']` or remove it from the model meta and add it via `nlp.add_pipe` instead.\""
     ]
    }
   ],
   "source": [
    "from pyresparser import ResumeParser\n",
    "data = ResumeParser('C:/Users/ASUS/Downloads/Documents/0914.pdf').get_extracted_data()"
   ]
  },
  {
   "cell_type": "code",
   "execution_count": null,
   "metadata": {},
   "outputs": [],
   "source": []
  }
 ],
 "metadata": {
  "kernelspec": {
   "display_name": "Python 3",
   "language": "python",
   "name": "python3"
  },
  "language_info": {
   "codemirror_mode": {
    "name": "ipython",
    "version": 3
   },
   "file_extension": ".py",
   "mimetype": "text/x-python",
   "name": "python",
   "nbconvert_exporter": "python",
   "pygments_lexer": "ipython3",
   "version": "3.8.5"
  }
 },
 "nbformat": 4,
 "nbformat_minor": 4
}
