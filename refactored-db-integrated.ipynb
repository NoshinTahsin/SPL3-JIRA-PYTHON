{
 "cells": [
  {
   "cell_type": "code",
   "execution_count": 75,
   "metadata": {},
   "outputs": [],
   "source": [
    "import json\n",
    "import nltk\n",
    "import math\n",
    "from nltk.corpus import stopwords\n",
    "from nltk.tokenize import word_tokenize\n",
    "from nltk.stem import PorterStemmer\n",
    "from nltk.stem import WordNetLemmatizer"
   ]
  },
  {
   "cell_type": "code",
   "execution_count": 76,
   "metadata": {},
   "outputs": [],
   "source": [
    "#Python library for interacting with JIRA via REST APIs.\n",
    "from jira import JIRA\n",
    "#connect to the jira server using HTTP basic auth\n",
    "jira = JIRA(basic_auth=('bsse0914@iit.du.ac.bd', 'MbaYDePZRnDgAdL062r83605'), options={'server':'https://pg-req.atlassian.net'})"
   ]
  },
  {
   "cell_type": "code",
   "execution_count": 77,
   "metadata": {},
   "outputs": [
    {
     "name": "stdout",
     "output_type": "stream",
     "text": [
      "C1R\n",
      "12\n",
      "FAZ\n",
      "5\n",
      "FEP\n",
      "4\n",
      "RMS\n",
      "0\n",
      "SAAJ\n",
      "8\n",
      "29\n"
     ]
    }
   ],
   "source": [
    "projects = jira.projects()\n",
    "num_of_projects=len(projects)\n",
    "issueCount=0\n",
    "for i in range(0,num_of_projects):\n",
    "    print(projects[i])\n",
    "    #jql\n",
    "    issues_in_proj = jira.search_issues('project='+str(projects[i]))\n",
    "    print(len(issues_in_proj))\n",
    "    issueCount+=len(issues_in_proj)\n",
    "print(issueCount)"
   ]
  },
  {
   "cell_type": "code",
   "execution_count": 78,
   "metadata": {},
   "outputs": [],
   "source": [
    "import re\n",
    "import string \n",
    "def remove_punctuation(text):\n",
    "    no_punc = \"\".join([c for c in text if c not in string.punctuation])\n",
    "    return no_punc.lower()\n",
    "\n",
    "def tokenize(text):\n",
    "    stop_words = set(stopwords.words('english'))\n",
    "    word_tokens = word_tokenize(text)\n",
    "    porter_stemmer= PorterStemmer()\n",
    "    lemmatizer=WordNetLemmatizer()\n",
    "\n",
    "    filtered_sentence = [w for w in word_tokens if not w in stop_words]\n",
    "    terms_list = []\n",
    "    #stemmed_sentence = []\n",
    "    \n",
    "    #Stemming is a little more aggressive. It cuts off prefixes and/or endings of words\n",
    "    #based on common ones. It can sometimes be helpful, but not always because often times \n",
    "    #the new word is so much a root that it loses its actual meaning. \n",
    "    #Lemmatizing, on the other hand, maps common words into one base. \n",
    "    #Unlike stemming though, it always still returns a proper word that can be found in the dictionary.\n",
    "    for w in word_tokens:\n",
    "        if w not in stop_words:\n",
    "            #w=porter_stemmer.stem(w)\n",
    "            w=lemmatizer.lemmatize(w)\n",
    "            terms_list.append(w)\n",
    "\n",
    "    #print(word_tokens)\n",
    "    #print(\"terms list\")\n",
    "    #print(terms_list)\n",
    "    \n",
    "    return terms_list"
   ]
  },
  {
   "cell_type": "code",
   "execution_count": 79,
   "metadata": {
    "scrolled": true
   },
   "outputs": [
    {
     "name": "stdout",
     "output_type": "stream",
     "text": [
      "137\n",
      "Final terms assignee map:\n",
      "{'write': [{'assignee': 'Moumita Asad', 'date': '2020-09-08T03:58:33.865-0700'}, {'assignee': 'Noshin Tahsin', 'date': '2020-09-08T03:57:26.760-0700'}, {'assignee': 'Moumita Asad', 'date': '2020-09-08T03:56:19.414-0700'}, {'assignee': 'Mridha Md. Nafis Fuad', 'date': '2020-09-05T03:57:46.757-0700'}], 'icse': [{'assignee': 'Moumita Asad', 'date': '2020-09-08T03:58:33.865-0700'}], 'paper': [{'assignee': 'Moumita Asad', 'date': '2020-09-08T03:58:33.865-0700'}, {'assignee': 'Noshin Tahsin', 'date': '2020-09-08T03:57:26.760-0700'}, {'assignee': 'Noshin Tahsin', 'date': '2020-09-08T03:44:53.680-0700'}, {'assignee': 'Moumita Asad', 'date': '2020-09-08T03:42:59.028-0700'}, {'assignee': 'Mridha Md. Nafis Fuad', 'date': '2020-09-05T03:57:46.757-0700'}], 'including': [{'assignee': 'Moumita Asad', 'date': '2020-09-08T03:58:33.865-0700'}], 'finding': [{'assignee': 'Moumita Asad', 'date': '2020-09-08T03:58:33.865-0700'}, {'assignee': 'Noshin Tahsin', 'date': '2020-09-08T03:57:26.760-0700'}], 'regression': [{'assignee': 'Moumita Asad', 'date': '2020-09-08T03:58:33.865-0700'}, {'assignee': 'Noshin Tahsin', 'date': '2020-09-08T03:58:02.767-0700'}], 'analysis': [{'assignee': 'Moumita Asad', 'date': '2020-09-08T03:58:33.865-0700'}, {'assignee': 'Noshin Tahsin', 'date': '2020-09-08T03:58:02.767-0700'}], 'data': [{'assignee': 'Noshin Tahsin', 'date': '2020-09-08T03:58:02.767-0700'}, {'assignee': 'Noshin Tahsin', 'date': '2020-09-08T03:55:48.827-0700'}, {'assignee': 'Mridha Md. Nafis Fuad', 'date': '2020-09-08T03:54:32.405-0700'}, {'assignee': 'Noshin Tahsin', 'date': '2020-09-08T03:53:42.167-0700'}, {'assignee': 'Toukir Ahammed', 'date': '2020-09-08T03:53:11.871-0700'}], 'far': [{'assignee': 'Noshin Tahsin', 'date': '2020-09-08T03:57:26.760-0700'}], 'arxiv': [{'assignee': 'Noshin Tahsin', 'date': '2020-09-08T03:57:26.760-0700'}], 'primary': [{'assignee': 'Moumita Asad', 'date': '2020-09-08T03:56:19.414-0700'}], 'demonstration': [{'assignee': 'Moumita Asad', 'date': '2020-09-08T03:56:19.414-0700'}], 'blog': [{'assignee': 'Moumita Asad', 'date': '2020-09-08T03:56:19.414-0700'}], 'productivity': [{'assignee': 'Moumita Asad', 'date': '2020-09-08T03:56:19.414-0700'}, {'assignee': 'Moumita Asad', 'date': '2020-09-08T03:42:59.028-0700'}], 'employee': [{'assignee': 'Moumita Asad', 'date': '2020-09-08T03:56:19.414-0700'}, {'assignee': 'Moumita Asad', 'date': '2020-09-08T03:42:59.028-0700'}], 'wfh': [{'assignee': 'Moumita Asad', 'date': '2020-09-08T03:56:19.414-0700'}], 'publish': [{'assignee': 'Moumita Asad', 'date': '2020-09-08T03:56:19.414-0700'}], 'dsse': [{'assignee': 'Moumita Asad', 'date': '2020-09-08T03:56:19.414-0700'}], 'website': [{'assignee': 'Moumita Asad', 'date': '2020-09-08T03:56:19.414-0700'}], 'create': [{'assignee': 'Noshin Tahsin', 'date': '2020-09-08T03:55:48.827-0700'}, {'assignee': 'Mridha Md. Nafis Fuad', 'date': '2020-09-08T03:54:32.405-0700'}], 'pie': [{'assignee': 'Noshin Tahsin', 'date': '2020-09-08T03:55:48.827-0700'}], 'chart': [{'assignee': 'Noshin Tahsin', 'date': '2020-09-08T03:55:48.827-0700'}, {'assignee': 'Mridha Md. Nafis Fuad', 'date': '2020-09-08T03:54:32.405-0700'}], 'visualization': [{'assignee': 'Noshin Tahsin', 'date': '2020-09-08T03:55:48.827-0700'}, {'assignee': 'Mridha Md. Nafis Fuad', 'date': '2020-09-08T03:54:32.405-0700'}], 'bar': [{'assignee': 'Mridha Md. Nafis Fuad', 'date': '2020-09-08T03:54:32.405-0700'}], 'stackedbars': [{'assignee': 'Mridha Md. Nafis Fuad', 'date': '2020-09-08T03:54:32.405-0700'}], 'visualizing': [{'assignee': 'Mridha Md. Nafis Fuad', 'date': '2020-09-08T03:54:32.405-0700'}], 'clean': [{'assignee': 'Noshin Tahsin', 'date': '2020-09-08T03:53:42.167-0700'}], 'preprocess': [{'assignee': 'Noshin Tahsin', 'date': '2020-09-08T03:53:42.167-0700'}], 'change': [{'assignee': 'Noshin Tahsin', 'date': '2020-09-08T03:53:42.167-0700'}, {'assignee': 'Toukir Ahammed', 'date': '2020-09-08T03:46:00.806-0700'}, {'assignee': 'Noshin Tahsin', 'date': '2020-09-06T09:29:11.791-0700'}], 'column': [{'assignee': 'Noshin Tahsin', 'date': '2020-09-08T03:53:42.167-0700'}], 'name': [{'assignee': 'Noshin Tahsin', 'date': '2020-09-08T03:53:42.167-0700'}, {'assignee': 'Noshin Tahsin', 'date': '2020-09-06T09:29:11.791-0700'}], 'drop': [{'assignee': 'Noshin Tahsin', 'date': '2020-09-08T03:53:42.167-0700'}], 'invalid': [{'assignee': 'Noshin Tahsin', 'date': '2020-09-08T03:53:42.167-0700'}], 'encode': [{'assignee': 'Noshin Tahsin', 'date': '2020-09-08T03:53:42.167-0700'}], 'categorical': [{'assignee': 'Noshin Tahsin', 'date': '2020-09-08T03:53:42.167-0700'}], 'conduct': [{'assignee': 'Toukir Ahammed', 'date': '2020-09-08T03:53:11.871-0700'}], 'survey': [{'assignee': 'Toukir Ahammed', 'date': '2020-09-08T03:53:11.871-0700'}, {'assignee': 'Toukir Ahammed', 'date': '2020-09-08T03:46:00.806-0700'}, {'assignee': 'Noshin Tahsin', 'date': '2020-09-08T03:44:53.680-0700'}], 'collect': [{'assignee': 'Toukir Ahammed', 'date': '2020-09-08T03:53:11.871-0700'}], 'convey': [{'assignee': 'Toukir Ahammed', 'date': '2020-09-08T03:46:00.806-0700'}], 'pilot': [{'assignee': 'Toukir Ahammed', 'date': '2020-09-08T03:46:00.806-0700'}], 'industry': [{'assignee': 'Toukir Ahammed', 'date': '2020-09-08T03:46:00.806-0700'}], 'professional': [{'assignee': 'Toukir Ahammed', 'date': '2020-09-08T03:46:00.806-0700'}], 'incorporate': [{'assignee': 'Toukir Ahammed', 'date': '2020-09-08T03:46:00.806-0700'}], 'feedback': [{'assignee': 'Toukir Ahammed', 'date': '2020-09-08T03:46:00.806-0700'}], 'questionnaire': [{'assignee': 'Toukir Ahammed', 'date': '2020-09-08T03:46:00.806-0700'}], 'accordingly': [{'assignee': 'Toukir Ahammed', 'date': '2020-09-08T03:46:00.806-0700'}], 'find': [{'assignee': 'Noshin Tahsin', 'date': '2020-09-08T03:44:53.680-0700'}, {'assignee': 'Moumita Asad', 'date': '2020-09-08T03:42:59.028-0700'}], 'productivityrelated': [{'assignee': 'Noshin Tahsin', 'date': '2020-09-08T03:44:53.680-0700'}], 'factor': [{'assignee': 'Noshin Tahsin', 'date': '2020-09-08T03:44:53.680-0700'}], 'related': [{'assignee': 'Noshin Tahsin', 'date': '2020-09-08T03:44:53.680-0700'}, {'assignee': 'Moumita Asad', 'date': '2020-09-08T03:42:59.028-0700'}], 'prepare': [{'assignee': 'Noshin Tahsin', 'date': '2020-09-08T03:44:53.680-0700'}], 'questionnare': [{'assignee': 'Noshin Tahsin', 'date': '2020-09-08T03:44:53.680-0700'}], 'explore': [{'assignee': 'Moumita Asad', 'date': '2020-09-08T03:42:59.028-0700'}], 'literature': [{'assignee': 'Moumita Asad', 'date': '2020-09-08T03:42:59.028-0700'}], 'work': [{'assignee': 'Moumita Asad', 'date': '2020-09-08T03:42:59.028-0700'}], 'home': [{'assignee': 'Moumita Asad', 'date': '2020-09-08T03:42:59.028-0700'}], 'getting': [{'assignee': 'Noshin Tahsin', 'date': '2020-09-08T03:37:02.399-0700'}, {'assignee': 'A. T. M. Fazlay Rabbi', 'date': '2020-09-08T03:36:34.188-0700'}, {'assignee': 'A. T. M. Fazlay Rabbi', 'date': '2020-09-06T09:32:06.928-0700'}], 'list': [{'assignee': 'Noshin Tahsin', 'date': '2020-09-08T03:37:02.399-0700'}], 'view': [{'assignee': 'Noshin Tahsin', 'date': '2020-09-08T03:37:02.399-0700'}], 'queried': [{'assignee': 'Noshin Tahsin', 'date': '2020-09-08T03:37:02.399-0700'}], 'result': [{'assignee': 'Noshin Tahsin', 'date': '2020-09-08T03:37:02.399-0700'}], 'user': [{'assignee': 'Noshin Tahsin', 'date': '2020-09-08T03:37:02.399-0700'}], 'vscode': [{'assignee': 'Noshin Tahsin', 'date': '2020-09-08T03:37:02.399-0700'}], 'extension': [{'assignee': 'Noshin Tahsin', 'date': '2020-09-08T03:37:02.399-0700'}], 'exploring': [{'assignee': 'Noshin Tahsin', 'date': '2020-09-08T03:37:02.399-0700'}], 'feature': [{'assignee': 'Noshin Tahsin', 'date': '2020-09-08T03:37:02.399-0700'}], 'better': [{'assignee': 'Noshin Tahsin', 'date': '2020-09-08T03:37:02.399-0700'}], 'strategy': [{'assignee': 'Noshin Tahsin', 'date': '2020-09-08T03:37:02.399-0700'}], 'viewing': [{'assignee': 'Noshin Tahsin', 'date': '2020-09-08T03:37:02.399-0700'}], 'implementing': [{'assignee': 'Noshin Tahsin', 'date': '2020-09-08T03:37:02.399-0700'}], 'search': [{'assignee': 'Noshin Tahsin', 'date': '2020-09-08T03:37:02.399-0700'}], 'viewer': [{'assignee': 'Noshin Tahsin', 'date': '2020-09-08T03:37:02.399-0700'}], 'exception': [{'assignee': 'A. T. M. Fazlay Rabbi', 'date': '2020-09-08T03:36:34.188-0700'}], 'unknown': [{'assignee': 'A. T. M. Fazlay Rabbi', 'date': '2020-09-08T03:36:34.188-0700'}], 'token': [{'assignee': 'A. T. M. Fazlay Rabbi', 'date': '2020-09-08T03:36:34.188-0700'}], 'test': [{'assignee': 'A. T. M. Fazlay Rabbi', 'date': '2020-09-08T03:36:34.188-0700'}], 'input': [{'assignee': 'A. T. M. Fazlay Rabbi', 'date': '2020-09-08T03:36:34.188-0700'}, {'assignee': 'A. T. M. Fazlay Rabbi', 'date': '2020-09-06T09:32:06.928-0700'}], 'java': [{'assignee': 'A. T. M. Fazlay Rabbi', 'date': '2020-09-08T03:36:34.188-0700'}], 'method': [{'assignee': 'A. T. M. Fazlay Rabbi', 'date': '2020-09-08T03:36:34.188-0700'}], 'fixing': [{'assignee': 'A. T. M. Fazlay Rabbi', 'date': '2020-09-08T03:36:34.188-0700'}], 'tokenizer': [{'assignee': 'A. T. M. Fazlay Rabbi', 'date': '2020-09-08T03:36:34.188-0700'}], 'setting': [{'assignee': 'Mridha Md. Nafis Fuad', 'date': '2020-09-08T03:35:59.251-0700'}], 'encoder': [{'assignee': 'Mridha Md. Nafis Fuad', 'date': '2020-09-08T03:35:59.251-0700'}], 'decoder': [{'assignee': 'Mridha Md. Nafis Fuad', 'date': '2020-09-08T03:35:59.251-0700'}], 'attention': [{'assignee': 'Mridha Md. Nafis Fuad', 'date': '2020-09-08T03:35:59.251-0700'}], 'mechanism': [{'assignee': 'Mridha Md. Nafis Fuad', 'date': '2020-09-08T03:35:59.251-0700'}], 'train': [{'assignee': 'Mridha Md. Nafis Fuad', 'date': '2020-09-08T03:35:59.251-0700'}], 'model': [{'assignee': 'Mridha Md. Nafis Fuad', 'date': '2020-09-08T03:35:59.251-0700'}], 'get': [{'assignee': 'Mridha Md. Nafis Fuad', 'date': '2020-09-08T03:35:59.251-0700'}], 'context': [{'assignee': 'Mridha Md. Nafis Fuad', 'date': '2020-09-08T03:35:59.251-0700'}], 'vector': [{'assignee': 'Mridha Md. Nafis Fuad', 'date': '2020-09-08T03:35:59.251-0700'}], 'pyhton': [{'assignee': 'Mridha Md. Nafis Fuad', 'date': '2020-09-08T03:35:59.251-0700'}], 'neural': [{'assignee': 'Mridha Md. Nafis Fuad', 'date': '2020-09-08T03:35:59.251-0700'}], 'structure': [{'assignee': 'Mridha Md. Nafis Fuad', 'date': '2020-09-08T03:35:59.251-0700'}], 'parse': [{'assignee': 'Mridha Md. Nafis Fuad', 'date': '2020-09-08T03:35:02.341-0700'}], 'ast': [{'assignee': 'Mridha Md. Nafis Fuad', 'date': '2020-09-08T03:35:02.341-0700'}], 'code': [{'assignee': 'Mridha Md. Nafis Fuad', 'date': '2020-09-08T03:35:02.341-0700'}], 'snippet': [{'assignee': 'Mridha Md. Nafis Fuad', 'date': '2020-09-08T03:35:02.341-0700'}], 'sbt': [{'assignee': 'Mridha Md. Nafis Fuad', 'date': '2020-09-08T03:35:02.341-0700'}], 'way': [{'assignee': 'Mridha Md. Nafis Fuad', 'date': '2020-09-08T03:35:02.341-0700'}], 'python': [{'assignee': 'Mridha Md. Nafis Fuad', 'date': '2020-09-08T03:35:02.341-0700'}], 'parsing': [{'assignee': 'Mridha Md. Nafis Fuad', 'date': '2020-09-08T03:35:02.341-0700'}], 'tool': [{'assignee': 'Mridha Md. Nafis Fuad', 'date': '2020-09-05T03:57:46.757-0700'}], 'quickly': [{'assignee': 'Mridha Md. Nafis Fuad', 'date': '2020-09-05T03:57:46.757-0700'}], 'methodology': [{'assignee': 'Mridha Md. Nafis Fuad', 'date': '2020-09-05T03:57:46.757-0700'}], 'done': [{'assignee': 'Mridha Md. Nafis Fuad', 'date': '2020-09-05T03:57:46.757-0700'}], 'error': [{'assignee': 'Noshin Tahsin', 'date': '2020-09-05T02:58:20.639-0700'}], 'need': [{'assignee': 'Noshin Tahsin', 'date': '2020-09-05T02:58:20.639-0700'}], 'solve': [{'assignee': 'Noshin Tahsin', 'date': '2020-09-05T02:58:20.639-0700'}], 'add': [{'assignee': 'Noshin Tahsin', 'date': '2021-02-20T00:14:00.264-0800'}, {'assignee': 'Noshin Tahsin', 'date': '2020-09-06T09:29:11.791-0700'}], 'new': [{'assignee': 'Noshin Tahsin', 'date': '2021-02-20T00:14:00.264-0800'}], 'table': [{'assignee': 'Noshin Tahsin', 'date': '2021-02-20T00:14:00.264-0800'}, {'assignee': 'Noshin Tahsin', 'date': '2020-09-06T09:29:11.791-0700'}], 'ui': [{'assignee': 'Noshin Tahsin', 'date': '2021-02-20T00:14:00.264-0800'}, {'assignee': 'Noshin Tahsin', 'date': '2020-09-06T09:29:11.791-0700'}, {'assignee': 'Noshin Tahsin', 'date': '2020-09-05T02:55:07.811-0700'}], 'deploy': [{'assignee': 'A. T. M. Fazlay Rabbi', 'date': '2020-12-25T07:29:57.045-0800'}, {'assignee': 'Noshin Tahsin', 'date': '2020-09-06T09:29:51.314-0700'}], 'backend': [{'assignee': 'A. T. M. Fazlay Rabbi', 'date': '2020-12-25T07:29:57.045-0800'}, {'assignee': 'A. T. M. Fazlay Rabbi', 'date': '2020-09-06T09:32:06.928-0700'}, {'assignee': 'Noshin Tahsin', 'date': '2020-09-06T09:29:51.314-0700'}], 'heroku': [{'assignee': 'A. T. M. Fazlay Rabbi', 'date': '2020-12-25T07:29:57.045-0800'}, {'assignee': 'A. T. M. Fazlay Rabbi', 'date': '2020-09-06T09:32:06.928-0700'}, {'assignee': 'Noshin Tahsin', 'date': '2020-09-06T09:29:51.314-0700'}], '404': [{'assignee': 'A. T. M. Fazlay Rabbi', 'date': '2020-09-06T09:32:06.928-0700'}], 'form': [{'assignee': 'A. T. M. Fazlay Rabbi', 'date': '2020-09-06T09:32:06.928-0700'}], 'provided': [{'assignee': 'A. T. M. Fazlay Rabbi', 'date': '2020-09-06T09:32:06.928-0700'}], 'issue': [{'assignee': 'A. T. M. Fazlay Rabbi', 'date': '2020-09-06T09:32:06.928-0700'}], 'fix': [{'assignee': 'A. T. M. Fazlay Rabbi', 'date': '2020-09-06T09:32:06.928-0700'}], 'assignee': [{'assignee': 'Noshin Tahsin', 'date': '2020-09-06T09:29:11.791-0700'}], 'suggestion': [{'assignee': 'Noshin Tahsin', 'date': '2020-09-06T09:29:11.791-0700'}], 'image': [{'assignee': 'Noshin Tahsin', 'date': '2020-09-06T09:29:11.791-0700'}], 'along': [{'assignee': 'Noshin Tahsin', 'date': '2020-09-06T09:29:11.791-0700'}], 'make': [{'assignee': 'Noshin Tahsin', 'date': '2020-09-06T09:29:11.791-0700'}], 'attractive': [{'assignee': 'Noshin Tahsin', 'date': '2020-09-06T09:29:11.791-0700'}], 'design': [{'assignee': 'Noshin Tahsin', 'date': '2020-09-05T02:55:07.811-0700'}], 'jira': [{'assignee': 'Noshin Tahsin', 'date': '2020-09-05T02:55:07.811-0700'}], 'addon': [{'assignee': 'Noshin Tahsin', 'date': '2020-09-05T02:55:07.811-0700'}], 'using': [{'assignee': 'Noshin Tahsin', 'date': '2020-09-05T02:55:07.811-0700'}], 'ace': [{'assignee': 'Noshin Tahsin', 'date': '2020-09-05T02:55:07.811-0700'}], 'framework': [{'assignee': 'Noshin Tahsin', 'date': '2020-09-05T02:55:07.811-0700'}], 'guideline': [{'assignee': 'Noshin Tahsin', 'date': '2020-09-05T02:55:07.811-0700'}], 'component': [{'assignee': 'Noshin Tahsin', 'date': '2020-09-05T02:55:07.811-0700'}], 'found': [{'assignee': 'Noshin Tahsin', 'date': '2020-09-05T02:55:07.811-0700'}], 'atlassian': [{'assignee': 'Noshin Tahsin', 'date': '2020-09-05T02:55:07.811-0700'}]}\n",
      "Account ID map:\n",
      "{'Moumita Asad': '5f5764e4bea5be0068101b9a', 'Noshin Tahsin': '5e299526bf04010e70c42927', 'Mridha Md. Nafis Fuad': '5ae1622f027e7a2ebfcc12d1', 'Toukir Ahammed': '5ca99ba2e929a772795e4ac9', 'A. T. M. Fazlay Rabbi': '5e9412627bc0680c2ca4dd39'}\n"
     ]
    }
   ],
   "source": [
    "cnt=0\n",
    "assignee_terms_map={}\n",
    "terms_assignee_map={}\n",
    "terms_assignee_list=[]\n",
    "account_id_map={}\n",
    "\n",
    "for p in projects:\n",
    "    pro_key='project='\n",
    "    pro_key+=str(p.key)\n",
    "    project_key=pro_key\n",
    "    size = 100\n",
    "    initial = 0\n",
    "    issueCount=0\n",
    "    while True:\n",
    "        start= initial*size\n",
    "        issues = jira.search_issues(project_key,  start,size)\n",
    "        issueCount+=len(issues)\n",
    "        if len(issues) == 0:\n",
    "            break\n",
    "        initial += 1\n",
    "        for issue in issues:\n",
    "            if issue.fields.assignee and issue.fields.assignee!=None:\n",
    "                cnt+=1\n",
    "                summary = issue.fields.summary\n",
    "                des = issue.fields.description\n",
    "                assignee = str(issue.fields.assignee)\n",
    "                account_id = str(issue.fields.assignee.accountId)\n",
    "                #email = str(issue.fields.assignee.emailAddress)\n",
    "                creation_date = str(issue.fields.created)\n",
    "            \n",
    "                assignee_date = {}\n",
    "                assignee_date['assignee']=assignee\n",
    "                assignee_date['date']=creation_date\n",
    "                \n",
    "                des=remove_punctuation(des)\n",
    " \n",
    "                bad_chars=['!','@', '#', '$','%', '^', '&','*','(',')','-','+']\n",
    "                des = ''.join(i for i in des if not i in bad_chars)\n",
    "                tokenized_des=tokenize(des)\n",
    "        \n",
    "                summary=remove_punctuation(summary)\n",
    " \n",
    "                bad_chars=['!','@', '#', '$','%', '^', '&','*','(',')','-','+']\n",
    "                summary = ''.join(i for i in summary if not i in bad_chars)\n",
    "                tokenized_summary=tokenize(summary)\n",
    "               \n",
    "                #list of all terms existing in an issue\n",
    "                dupli_terms=tokenized_des+tokenized_summary\n",
    "            \n",
    "                terms = list(dict.fromkeys(dupli_terms))\n",
    "                \n",
    "                keylist=[]\n",
    "                for key,val in assignee_terms_map.items():\n",
    "                    keylist.append(key)\n",
    "                                \n",
    "                if assignee in keylist:\n",
    "                    assignee_terms_map[assignee]=assignee_terms_map[assignee]+terms\n",
    "                else:\n",
    "                    assignee_terms_map[assignee]=terms\n",
    "                    account_id_map[assignee]=account_id\n",
    "                    #account_id_map[assignee]['email']=email\n",
    "    \n",
    "                #terms_assignee_list.append(assignee)\n",
    "                terms_assignee_list.append(assignee_date)\n",
    "                \n",
    "                for term in terms:\n",
    "                    if term in terms_assignee_map:\n",
    "                        terms_assignee_map[term]=terms_assignee_map[term]+terms_assignee_list\n",
    "                    else:\n",
    "                        terms_assignee_map[term]=terms_assignee_list  \n",
    "                                        \n",
    "                terms_assignee_list=[]\n",
    "\n",
    "#print(\"Final assignee terms map:\")\n",
    "#print(assignee_terms_map)\n",
    "\n",
    "print(len(terms_assignee_map))\n",
    "print(\"Final terms assignee map:\")\n",
    "print(terms_assignee_map)\n",
    "\n",
    "print(\"Account ID map:\")\n",
    "print(account_id_map)"
   ]
  },
  {
   "cell_type": "code",
   "execution_count": 80,
   "metadata": {},
   "outputs": [
    {
     "name": "stdout",
     "output_type": "stream",
     "text": [
      "[{'name': 'Moumita Asad', 'assignee_id': '5f5764e4bea5be0068101b9a'}, {'name': 'Noshin Tahsin', 'assignee_id': '5e299526bf04010e70c42927'}, {'name': 'Mridha Md. Nafis Fuad', 'assignee_id': '5ae1622f027e7a2ebfcc12d1'}, {'name': 'Toukir Ahammed', 'assignee_id': '5ca99ba2e929a772795e4ac9'}, {'name': 'A. T. M. Fazlay Rabbi', 'assignee_id': '5e9412627bc0680c2ca4dd39'}]\n"
     ]
    }
   ],
   "source": [
    "db_assignee_list = []\n",
    "for key in account_id_map:\n",
    "    temp_dict={}\n",
    "    temp_dict['name'] = key\n",
    "    temp_dict['assignee_id'] = account_id_map[key]\n",
    "    db_assignee_list.append(temp_dict)\n",
    "\n",
    "print(db_assignee_list)\n",
    "\n",
    "mycol = mydb[\"Assignee\"]\n",
    "x = mycol.insert_many(db_assignee_list)"
   ]
  },
  {
   "cell_type": "code",
   "execution_count": 81,
   "metadata": {},
   "outputs": [
    {
     "name": "stdout",
     "output_type": "stream",
     "text": [
      "{'404': [{'assignee': 'A. T. M. Fazlay Rabbi',\n",
      "          'date': '2020-09-06T09:32:06.928-0700'}],\n",
      " 'accordingly': [{'assignee': 'Toukir Ahammed',\n",
      "                  'date': '2020-09-08T03:46:00.806-0700'}],\n",
      " 'ace': [{'assignee': 'Noshin Tahsin', 'date': '2020-09-05T02:55:07.811-0700'}],\n",
      " 'add': [{'assignee': 'Noshin Tahsin', 'date': '2021-02-20T00:14:00.264-0800'},\n",
      "         {'assignee': 'Noshin Tahsin', 'date': '2020-09-06T09:29:11.791-0700'}],\n",
      " 'addon': [{'assignee': 'Noshin Tahsin',\n",
      "            'date': '2020-09-05T02:55:07.811-0700'}],\n",
      " 'along': [{'assignee': 'Noshin Tahsin',\n",
      "            'date': '2020-09-06T09:29:11.791-0700'}],\n",
      " 'analysis': [{'assignee': 'Moumita Asad',\n",
      "               'date': '2020-09-08T03:58:33.865-0700'},\n",
      "              {'assignee': 'Noshin Tahsin',\n",
      "               'date': '2020-09-08T03:58:02.767-0700'}],\n",
      " 'arxiv': [{'assignee': 'Noshin Tahsin',\n",
      "            'date': '2020-09-08T03:57:26.760-0700'}],\n",
      " 'assignee': [{'assignee': 'Noshin Tahsin',\n",
      "               'date': '2020-09-06T09:29:11.791-0700'}],\n",
      " 'ast': [{'assignee': 'Mridha Md. Nafis Fuad',\n",
      "          'date': '2020-09-08T03:35:02.341-0700'}],\n",
      " 'atlassian': [{'assignee': 'Noshin Tahsin',\n",
      "                'date': '2020-09-05T02:55:07.811-0700'}],\n",
      " 'attention': [{'assignee': 'Mridha Md. Nafis Fuad',\n",
      "                'date': '2020-09-08T03:35:59.251-0700'}],\n",
      " 'attractive': [{'assignee': 'Noshin Tahsin',\n",
      "                 'date': '2020-09-06T09:29:11.791-0700'}],\n",
      " 'backend': [{'assignee': 'A. T. M. Fazlay Rabbi',\n",
      "              'date': '2020-12-25T07:29:57.045-0800'},\n",
      "             {'assignee': 'A. T. M. Fazlay Rabbi',\n",
      "              'date': '2020-09-06T09:32:06.928-0700'},\n",
      "             {'assignee': 'Noshin Tahsin',\n",
      "              'date': '2020-09-06T09:29:51.314-0700'}],\n",
      " 'bar': [{'assignee': 'Mridha Md. Nafis Fuad',\n",
      "          'date': '2020-09-08T03:54:32.405-0700'}],\n",
      " 'better': [{'assignee': 'Noshin Tahsin',\n",
      "             'date': '2020-09-08T03:37:02.399-0700'}],\n",
      " 'blog': [{'assignee': 'Moumita Asad', 'date': '2020-09-08T03:56:19.414-0700'}],\n",
      " 'categorical': [{'assignee': 'Noshin Tahsin',\n",
      "                  'date': '2020-09-08T03:53:42.167-0700'}],\n",
      " 'change': [{'assignee': 'Noshin Tahsin',\n",
      "             'date': '2020-09-08T03:53:42.167-0700'},\n",
      "            {'assignee': 'Toukir Ahammed',\n",
      "             'date': '2020-09-08T03:46:00.806-0700'},\n",
      "            {'assignee': 'Noshin Tahsin',\n",
      "             'date': '2020-09-06T09:29:11.791-0700'}],\n",
      " 'chart': [{'assignee': 'Noshin Tahsin',\n",
      "            'date': '2020-09-08T03:55:48.827-0700'},\n",
      "           {'assignee': 'Mridha Md. Nafis Fuad',\n",
      "            'date': '2020-09-08T03:54:32.405-0700'}],\n",
      " 'clean': [{'assignee': 'Noshin Tahsin',\n",
      "            'date': '2020-09-08T03:53:42.167-0700'}],\n",
      " 'code': [{'assignee': 'Mridha Md. Nafis Fuad',\n",
      "           'date': '2020-09-08T03:35:02.341-0700'}],\n",
      " 'collect': [{'assignee': 'Toukir Ahammed',\n",
      "              'date': '2020-09-08T03:53:11.871-0700'}],\n",
      " 'column': [{'assignee': 'Noshin Tahsin',\n",
      "             'date': '2020-09-08T03:53:42.167-0700'}],\n",
      " 'component': [{'assignee': 'Noshin Tahsin',\n",
      "                'date': '2020-09-05T02:55:07.811-0700'}],\n",
      " 'conduct': [{'assignee': 'Toukir Ahammed',\n",
      "              'date': '2020-09-08T03:53:11.871-0700'}],\n",
      " 'context': [{'assignee': 'Mridha Md. Nafis Fuad',\n",
      "              'date': '2020-09-08T03:35:59.251-0700'}],\n",
      " 'convey': [{'assignee': 'Toukir Ahammed',\n",
      "             'date': '2020-09-08T03:46:00.806-0700'}],\n",
      " 'create': [{'assignee': 'Noshin Tahsin',\n",
      "             'date': '2020-09-08T03:55:48.827-0700'},\n",
      "            {'assignee': 'Mridha Md. Nafis Fuad',\n",
      "             'date': '2020-09-08T03:54:32.405-0700'}],\n",
      " 'data': [{'assignee': 'Noshin Tahsin', 'date': '2020-09-08T03:58:02.767-0700'},\n",
      "          {'assignee': 'Noshin Tahsin', 'date': '2020-09-08T03:55:48.827-0700'},\n",
      "          {'assignee': 'Mridha Md. Nafis Fuad',\n",
      "           'date': '2020-09-08T03:54:32.405-0700'},\n",
      "          {'assignee': 'Noshin Tahsin', 'date': '2020-09-08T03:53:42.167-0700'},\n",
      "          {'assignee': 'Toukir Ahammed',\n",
      "           'date': '2020-09-08T03:53:11.871-0700'}],\n",
      " 'decoder': [{'assignee': 'Mridha Md. Nafis Fuad',\n",
      "              'date': '2020-09-08T03:35:59.251-0700'}],\n",
      " 'demonstration': [{'assignee': 'Moumita Asad',\n",
      "                    'date': '2020-09-08T03:56:19.414-0700'}],\n",
      " 'deploy': [{'assignee': 'A. T. M. Fazlay Rabbi',\n",
      "             'date': '2020-12-25T07:29:57.045-0800'},\n",
      "            {'assignee': 'Noshin Tahsin',\n",
      "             'date': '2020-09-06T09:29:51.314-0700'}],\n",
      " 'design': [{'assignee': 'Noshin Tahsin',\n",
      "             'date': '2020-09-05T02:55:07.811-0700'}],\n",
      " 'done': [{'assignee': 'Mridha Md. Nafis Fuad',\n",
      "           'date': '2020-09-05T03:57:46.757-0700'}],\n",
      " 'drop': [{'assignee': 'Noshin Tahsin',\n",
      "           'date': '2020-09-08T03:53:42.167-0700'}],\n",
      " 'dsse': [{'assignee': 'Moumita Asad', 'date': '2020-09-08T03:56:19.414-0700'}],\n",
      " 'employee': [{'assignee': 'Moumita Asad',\n",
      "               'date': '2020-09-08T03:56:19.414-0700'},\n",
      "              {'assignee': 'Moumita Asad',\n",
      "               'date': '2020-09-08T03:42:59.028-0700'}],\n",
      " 'encode': [{'assignee': 'Noshin Tahsin',\n",
      "             'date': '2020-09-08T03:53:42.167-0700'}],\n",
      " 'encoder': [{'assignee': 'Mridha Md. Nafis Fuad',\n",
      "              'date': '2020-09-08T03:35:59.251-0700'}],\n",
      " 'error': [{'assignee': 'Noshin Tahsin',\n",
      "            'date': '2020-09-05T02:58:20.639-0700'}],\n",
      " 'exception': [{'assignee': 'A. T. M. Fazlay Rabbi',\n",
      "                'date': '2020-09-08T03:36:34.188-0700'}],\n",
      " 'explore': [{'assignee': 'Moumita Asad',\n",
      "              'date': '2020-09-08T03:42:59.028-0700'}],\n",
      " 'exploring': [{'assignee': 'Noshin Tahsin',\n",
      "                'date': '2020-09-08T03:37:02.399-0700'}],\n",
      " 'extension': [{'assignee': 'Noshin Tahsin',\n",
      "                'date': '2020-09-08T03:37:02.399-0700'}],\n",
      " 'factor': [{'assignee': 'Noshin Tahsin',\n",
      "             'date': '2020-09-08T03:44:53.680-0700'}],\n",
      " 'far': [{'assignee': 'Noshin Tahsin', 'date': '2020-09-08T03:57:26.760-0700'}],\n",
      " 'feature': [{'assignee': 'Noshin Tahsin',\n",
      "              'date': '2020-09-08T03:37:02.399-0700'}],\n",
      " 'feedback': [{'assignee': 'Toukir Ahammed',\n",
      "               'date': '2020-09-08T03:46:00.806-0700'}],\n",
      " 'find': [{'assignee': 'Noshin Tahsin', 'date': '2020-09-08T03:44:53.680-0700'},\n",
      "          {'assignee': 'Moumita Asad', 'date': '2020-09-08T03:42:59.028-0700'}],\n",
      " 'finding': [{'assignee': 'Moumita Asad',\n",
      "              'date': '2020-09-08T03:58:33.865-0700'},\n",
      "             {'assignee': 'Noshin Tahsin',\n",
      "              'date': '2020-09-08T03:57:26.760-0700'}],\n",
      " 'fix': [{'assignee': 'A. T. M. Fazlay Rabbi',\n",
      "          'date': '2020-09-06T09:32:06.928-0700'}],\n",
      " 'fixing': [{'assignee': 'A. T. M. Fazlay Rabbi',\n",
      "             'date': '2020-09-08T03:36:34.188-0700'}],\n",
      " 'form': [{'assignee': 'A. T. M. Fazlay Rabbi',\n",
      "           'date': '2020-09-06T09:32:06.928-0700'}],\n",
      " 'found': [{'assignee': 'Noshin Tahsin',\n",
      "            'date': '2020-09-05T02:55:07.811-0700'}],\n",
      " 'framework': [{'assignee': 'Noshin Tahsin',\n",
      "                'date': '2020-09-05T02:55:07.811-0700'}],\n",
      " 'get': [{'assignee': 'Mridha Md. Nafis Fuad',\n",
      "          'date': '2020-09-08T03:35:59.251-0700'}],\n",
      " 'getting': [{'assignee': 'Noshin Tahsin',\n",
      "              'date': '2020-09-08T03:37:02.399-0700'},\n",
      "             {'assignee': 'A. T. M. Fazlay Rabbi',\n",
      "              'date': '2020-09-08T03:36:34.188-0700'},\n",
      "             {'assignee': 'A. T. M. Fazlay Rabbi',\n",
      "              'date': '2020-09-06T09:32:06.928-0700'}],\n",
      " 'guideline': [{'assignee': 'Noshin Tahsin',\n",
      "                'date': '2020-09-05T02:55:07.811-0700'}],\n",
      " 'heroku': [{'assignee': 'A. T. M. Fazlay Rabbi',\n",
      "             'date': '2020-12-25T07:29:57.045-0800'},\n",
      "            {'assignee': 'A. T. M. Fazlay Rabbi',\n",
      "             'date': '2020-09-06T09:32:06.928-0700'},\n",
      "            {'assignee': 'Noshin Tahsin',\n",
      "             'date': '2020-09-06T09:29:51.314-0700'}],\n",
      " 'home': [{'assignee': 'Moumita Asad', 'date': '2020-09-08T03:42:59.028-0700'}],\n",
      " 'icse': [{'assignee': 'Moumita Asad', 'date': '2020-09-08T03:58:33.865-0700'}],\n",
      " 'image': [{'assignee': 'Noshin Tahsin',\n",
      "            'date': '2020-09-06T09:29:11.791-0700'}],\n",
      " 'implementing': [{'assignee': 'Noshin Tahsin',\n",
      "                   'date': '2020-09-08T03:37:02.399-0700'}],\n",
      " 'including': [{'assignee': 'Moumita Asad',\n",
      "                'date': '2020-09-08T03:58:33.865-0700'}],\n",
      " 'incorporate': [{'assignee': 'Toukir Ahammed',\n",
      "                  'date': '2020-09-08T03:46:00.806-0700'}],\n",
      " 'industry': [{'assignee': 'Toukir Ahammed',\n",
      "               'date': '2020-09-08T03:46:00.806-0700'}],\n",
      " 'input': [{'assignee': 'A. T. M. Fazlay Rabbi',\n",
      "            'date': '2020-09-08T03:36:34.188-0700'},\n",
      "           {'assignee': 'A. T. M. Fazlay Rabbi',\n",
      "            'date': '2020-09-06T09:32:06.928-0700'}],\n",
      " 'invalid': [{'assignee': 'Noshin Tahsin',\n",
      "              'date': '2020-09-08T03:53:42.167-0700'}],\n",
      " 'issue': [{'assignee': 'A. T. M. Fazlay Rabbi',\n",
      "            'date': '2020-09-06T09:32:06.928-0700'}],\n",
      " 'java': [{'assignee': 'A. T. M. Fazlay Rabbi',\n",
      "           'date': '2020-09-08T03:36:34.188-0700'}],\n",
      " 'jira': [{'assignee': 'Noshin Tahsin',\n",
      "           'date': '2020-09-05T02:55:07.811-0700'}],\n",
      " 'list': [{'assignee': 'Noshin Tahsin',\n",
      "           'date': '2020-09-08T03:37:02.399-0700'}],\n",
      " 'literature': [{'assignee': 'Moumita Asad',\n",
      "                 'date': '2020-09-08T03:42:59.028-0700'}],\n",
      " 'make': [{'assignee': 'Noshin Tahsin',\n",
      "           'date': '2020-09-06T09:29:11.791-0700'}],\n",
      " 'mechanism': [{'assignee': 'Mridha Md. Nafis Fuad',\n",
      "                'date': '2020-09-08T03:35:59.251-0700'}],\n",
      " 'method': [{'assignee': 'A. T. M. Fazlay Rabbi',\n",
      "             'date': '2020-09-08T03:36:34.188-0700'}],\n",
      " 'methodology': [{'assignee': 'Mridha Md. Nafis Fuad',\n",
      "                  'date': '2020-09-05T03:57:46.757-0700'}],\n",
      " 'model': [{'assignee': 'Mridha Md. Nafis Fuad',\n",
      "            'date': '2020-09-08T03:35:59.251-0700'}],\n",
      " 'name': [{'assignee': 'Noshin Tahsin', 'date': '2020-09-08T03:53:42.167-0700'},\n",
      "          {'assignee': 'Noshin Tahsin',\n",
      "           'date': '2020-09-06T09:29:11.791-0700'}],\n",
      " 'need': [{'assignee': 'Noshin Tahsin',\n",
      "           'date': '2020-09-05T02:58:20.639-0700'}],\n",
      " 'neural': [{'assignee': 'Mridha Md. Nafis Fuad',\n",
      "             'date': '2020-09-08T03:35:59.251-0700'}],\n",
      " 'new': [{'assignee': 'Noshin Tahsin', 'date': '2021-02-20T00:14:00.264-0800'}],\n",
      " 'paper': [{'assignee': 'Moumita Asad', 'date': '2020-09-08T03:58:33.865-0700'},\n",
      "           {'assignee': 'Noshin Tahsin',\n",
      "            'date': '2020-09-08T03:57:26.760-0700'},\n",
      "           {'assignee': 'Noshin Tahsin',\n",
      "            'date': '2020-09-08T03:44:53.680-0700'},\n",
      "           {'assignee': 'Moumita Asad', 'date': '2020-09-08T03:42:59.028-0700'},\n",
      "           {'assignee': 'Mridha Md. Nafis Fuad',\n",
      "            'date': '2020-09-05T03:57:46.757-0700'}],\n",
      " 'parse': [{'assignee': 'Mridha Md. Nafis Fuad',\n",
      "            'date': '2020-09-08T03:35:02.341-0700'}],\n",
      " 'parsing': [{'assignee': 'Mridha Md. Nafis Fuad',\n",
      "              'date': '2020-09-08T03:35:02.341-0700'}],\n",
      " 'pie': [{'assignee': 'Noshin Tahsin', 'date': '2020-09-08T03:55:48.827-0700'}],\n",
      " 'pilot': [{'assignee': 'Toukir Ahammed',\n",
      "            'date': '2020-09-08T03:46:00.806-0700'}],\n",
      " 'prepare': [{'assignee': 'Noshin Tahsin',\n",
      "              'date': '2020-09-08T03:44:53.680-0700'}],\n",
      " 'preprocess': [{'assignee': 'Noshin Tahsin',\n",
      "                 'date': '2020-09-08T03:53:42.167-0700'}],\n",
      " 'primary': [{'assignee': 'Moumita Asad',\n",
      "              'date': '2020-09-08T03:56:19.414-0700'}],\n",
      " 'productivity': [{'assignee': 'Moumita Asad',\n",
      "                   'date': '2020-09-08T03:56:19.414-0700'},\n",
      "                  {'assignee': 'Moumita Asad',\n",
      "                   'date': '2020-09-08T03:42:59.028-0700'}],\n",
      " 'productivityrelated': [{'assignee': 'Noshin Tahsin',\n",
      "                          'date': '2020-09-08T03:44:53.680-0700'}],\n",
      " 'professional': [{'assignee': 'Toukir Ahammed',\n",
      "                   'date': '2020-09-08T03:46:00.806-0700'}],\n",
      " 'provided': [{'assignee': 'A. T. M. Fazlay Rabbi',\n",
      "               'date': '2020-09-06T09:32:06.928-0700'}],\n",
      " 'publish': [{'assignee': 'Moumita Asad',\n",
      "              'date': '2020-09-08T03:56:19.414-0700'}],\n",
      " 'pyhton': [{'assignee': 'Mridha Md. Nafis Fuad',\n",
      "             'date': '2020-09-08T03:35:59.251-0700'}],\n",
      " 'python': [{'assignee': 'Mridha Md. Nafis Fuad',\n",
      "             'date': '2020-09-08T03:35:02.341-0700'}],\n",
      " 'queried': [{'assignee': 'Noshin Tahsin',\n",
      "              'date': '2020-09-08T03:37:02.399-0700'}],\n",
      " 'questionnaire': [{'assignee': 'Toukir Ahammed',\n",
      "                    'date': '2020-09-08T03:46:00.806-0700'}],\n",
      " 'questionnare': [{'assignee': 'Noshin Tahsin',\n",
      "                   'date': '2020-09-08T03:44:53.680-0700'}],\n",
      " 'quickly': [{'assignee': 'Mridha Md. Nafis Fuad',\n",
      "              'date': '2020-09-05T03:57:46.757-0700'}],\n",
      " 'regression': [{'assignee': 'Moumita Asad',\n",
      "                 'date': '2020-09-08T03:58:33.865-0700'},\n",
      "                {'assignee': 'Noshin Tahsin',\n",
      "                 'date': '2020-09-08T03:58:02.767-0700'}],\n",
      " 'related': [{'assignee': 'Noshin Tahsin',\n",
      "              'date': '2020-09-08T03:44:53.680-0700'},\n",
      "             {'assignee': 'Moumita Asad',\n",
      "              'date': '2020-09-08T03:42:59.028-0700'}],\n",
      " 'result': [{'assignee': 'Noshin Tahsin',\n",
      "             'date': '2020-09-08T03:37:02.399-0700'}],\n",
      " 'sbt': [{'assignee': 'Mridha Md. Nafis Fuad',\n",
      "          'date': '2020-09-08T03:35:02.341-0700'}],\n",
      " 'search': [{'assignee': 'Noshin Tahsin',\n",
      "             'date': '2020-09-08T03:37:02.399-0700'}],\n",
      " 'setting': [{'assignee': 'Mridha Md. Nafis Fuad',\n",
      "              'date': '2020-09-08T03:35:59.251-0700'}],\n",
      " 'snippet': [{'assignee': 'Mridha Md. Nafis Fuad',\n",
      "              'date': '2020-09-08T03:35:02.341-0700'}],\n",
      " 'solve': [{'assignee': 'Noshin Tahsin',\n",
      "            'date': '2020-09-05T02:58:20.639-0700'}],\n",
      " 'stackedbars': [{'assignee': 'Mridha Md. Nafis Fuad',\n",
      "                  'date': '2020-09-08T03:54:32.405-0700'}],\n",
      " 'strategy': [{'assignee': 'Noshin Tahsin',\n",
      "               'date': '2020-09-08T03:37:02.399-0700'}],\n",
      " 'structure': [{'assignee': 'Mridha Md. Nafis Fuad',\n",
      "                'date': '2020-09-08T03:35:59.251-0700'}],\n",
      " 'suggestion': [{'assignee': 'Noshin Tahsin',\n",
      "                 'date': '2020-09-06T09:29:11.791-0700'}],\n",
      " 'survey': [{'assignee': 'Toukir Ahammed',\n",
      "             'date': '2020-09-08T03:53:11.871-0700'},\n",
      "            {'assignee': 'Toukir Ahammed',\n",
      "             'date': '2020-09-08T03:46:00.806-0700'},\n",
      "            {'assignee': 'Noshin Tahsin',\n",
      "             'date': '2020-09-08T03:44:53.680-0700'}],\n",
      " 'table': [{'assignee': 'Noshin Tahsin',\n",
      "            'date': '2021-02-20T00:14:00.264-0800'},\n",
      "           {'assignee': 'Noshin Tahsin',\n",
      "            'date': '2020-09-06T09:29:11.791-0700'}],\n",
      " 'test': [{'assignee': 'A. T. M. Fazlay Rabbi',\n",
      "           'date': '2020-09-08T03:36:34.188-0700'}],\n",
      " 'token': [{'assignee': 'A. T. M. Fazlay Rabbi',\n",
      "            'date': '2020-09-08T03:36:34.188-0700'}],\n",
      " 'tokenizer': [{'assignee': 'A. T. M. Fazlay Rabbi',\n",
      "                'date': '2020-09-08T03:36:34.188-0700'}],\n",
      " 'tool': [{'assignee': 'Mridha Md. Nafis Fuad',\n",
      "           'date': '2020-09-05T03:57:46.757-0700'}],\n",
      " 'train': [{'assignee': 'Mridha Md. Nafis Fuad',\n",
      "            'date': '2020-09-08T03:35:59.251-0700'}],\n",
      " 'ui': [{'assignee': 'Noshin Tahsin', 'date': '2021-02-20T00:14:00.264-0800'},\n",
      "        {'assignee': 'Noshin Tahsin', 'date': '2020-09-06T09:29:11.791-0700'},\n",
      "        {'assignee': 'Noshin Tahsin', 'date': '2020-09-05T02:55:07.811-0700'}],\n",
      " 'unknown': [{'assignee': 'A. T. M. Fazlay Rabbi',\n",
      "              'date': '2020-09-08T03:36:34.188-0700'}],\n",
      " 'user': [{'assignee': 'Noshin Tahsin',\n",
      "           'date': '2020-09-08T03:37:02.399-0700'}],\n",
      " 'using': [{'assignee': 'Noshin Tahsin',\n",
      "            'date': '2020-09-05T02:55:07.811-0700'}],\n",
      " 'vector': [{'assignee': 'Mridha Md. Nafis Fuad',\n",
      "             'date': '2020-09-08T03:35:59.251-0700'}],\n",
      " 'view': [{'assignee': 'Noshin Tahsin',\n",
      "           'date': '2020-09-08T03:37:02.399-0700'}],\n",
      " 'viewer': [{'assignee': 'Noshin Tahsin',\n",
      "             'date': '2020-09-08T03:37:02.399-0700'}],\n",
      " 'viewing': [{'assignee': 'Noshin Tahsin',\n",
      "              'date': '2020-09-08T03:37:02.399-0700'}],\n",
      " 'visualization': [{'assignee': 'Noshin Tahsin',\n",
      "                    'date': '2020-09-08T03:55:48.827-0700'},\n",
      "                   {'assignee': 'Mridha Md. Nafis Fuad',\n",
      "                    'date': '2020-09-08T03:54:32.405-0700'}],\n",
      " 'visualizing': [{'assignee': 'Mridha Md. Nafis Fuad',\n",
      "                  'date': '2020-09-08T03:54:32.405-0700'}],\n",
      " 'vscode': [{'assignee': 'Noshin Tahsin',\n",
      "             'date': '2020-09-08T03:37:02.399-0700'}],\n",
      " 'way': [{'assignee': 'Mridha Md. Nafis Fuad',\n",
      "          'date': '2020-09-08T03:35:02.341-0700'}],\n",
      " 'website': [{'assignee': 'Moumita Asad',\n",
      "              'date': '2020-09-08T03:56:19.414-0700'}],\n",
      " 'wfh': [{'assignee': 'Moumita Asad', 'date': '2020-09-08T03:56:19.414-0700'}],\n",
      " 'work': [{'assignee': 'Moumita Asad', 'date': '2020-09-08T03:42:59.028-0700'}],\n",
      " 'write': [{'assignee': 'Moumita Asad', 'date': '2020-09-08T03:58:33.865-0700'},\n",
      "           {'assignee': 'Noshin Tahsin',\n",
      "            'date': '2020-09-08T03:57:26.760-0700'},\n",
      "           {'assignee': 'Moumita Asad', 'date': '2020-09-08T03:56:19.414-0700'},\n",
      "           {'assignee': 'Mridha Md. Nafis Fuad',\n",
      "            'date': '2020-09-05T03:57:46.757-0700'}]}\n"
     ]
    }
   ],
   "source": [
    "from pprint import pprint\n",
    "pprint(terms_assignee_map)"
   ]
  },
  {
   "cell_type": "code",
   "execution_count": 82,
   "metadata": {},
   "outputs": [
    {
     "name": "stdout",
     "output_type": "stream",
     "text": [
      "now = 2021-04-01 06:20:37.994186\n",
      "2021-04-01T06:20:37.994186\n"
     ]
    }
   ],
   "source": [
    "from datetime import datetime\n",
    "# datetime object containing current date and time\n",
    "now = datetime.now()\n",
    "print(\"now =\", now)\n",
    "currentTime = now.strftime(\"%Y-%m-%dT%H:%M:%S.%f%z\")\n",
    "print(currentTime)"
   ]
  },
  {
   "cell_type": "code",
   "execution_count": 83,
   "metadata": {},
   "outputs": [
    {
     "name": "stdout",
     "output_type": "stream",
     "text": [
      "[{'term': 'write', 'developer_expertise': [{'assignee': 'Moumita Asad', 'date': '2020-09-08T03:58:33.865-0700'}, {'assignee': 'Noshin Tahsin', 'date': '2020-09-08T03:57:26.760-0700'}, {'assignee': 'Moumita Asad', 'date': '2020-09-08T03:56:19.414-0700'}, {'assignee': 'Mridha Md. Nafis Fuad', 'date': '2020-09-05T03:57:46.757-0700'}], 'last_updated': '2021-04-01T06:20:37.994186'}, {'term': 'icse', 'developer_expertise': [{'assignee': 'Moumita Asad', 'date': '2020-09-08T03:58:33.865-0700'}], 'last_updated': '2021-04-01T06:20:37.994186'}, {'term': 'paper', 'developer_expertise': [{'assignee': 'Moumita Asad', 'date': '2020-09-08T03:58:33.865-0700'}, {'assignee': 'Noshin Tahsin', 'date': '2020-09-08T03:57:26.760-0700'}, {'assignee': 'Noshin Tahsin', 'date': '2020-09-08T03:44:53.680-0700'}, {'assignee': 'Moumita Asad', 'date': '2020-09-08T03:42:59.028-0700'}, {'assignee': 'Mridha Md. Nafis Fuad', 'date': '2020-09-05T03:57:46.757-0700'}], 'last_updated': '2021-04-01T06:20:37.994186'}, {'term': 'including', 'developer_expertise': [{'assignee': 'Moumita Asad', 'date': '2020-09-08T03:58:33.865-0700'}], 'last_updated': '2021-04-01T06:20:37.994186'}, {'term': 'finding', 'developer_expertise': [{'assignee': 'Moumita Asad', 'date': '2020-09-08T03:58:33.865-0700'}, {'assignee': 'Noshin Tahsin', 'date': '2020-09-08T03:57:26.760-0700'}], 'last_updated': '2021-04-01T06:20:37.994186'}, {'term': 'regression', 'developer_expertise': [{'assignee': 'Moumita Asad', 'date': '2020-09-08T03:58:33.865-0700'}, {'assignee': 'Noshin Tahsin', 'date': '2020-09-08T03:58:02.767-0700'}], 'last_updated': '2021-04-01T06:20:37.994186'}, {'term': 'analysis', 'developer_expertise': [{'assignee': 'Moumita Asad', 'date': '2020-09-08T03:58:33.865-0700'}, {'assignee': 'Noshin Tahsin', 'date': '2020-09-08T03:58:02.767-0700'}], 'last_updated': '2021-04-01T06:20:37.994186'}, {'term': 'data', 'developer_expertise': [{'assignee': 'Noshin Tahsin', 'date': '2020-09-08T03:58:02.767-0700'}, {'assignee': 'Noshin Tahsin', 'date': '2020-09-08T03:55:48.827-0700'}, {'assignee': 'Mridha Md. Nafis Fuad', 'date': '2020-09-08T03:54:32.405-0700'}, {'assignee': 'Noshin Tahsin', 'date': '2020-09-08T03:53:42.167-0700'}, {'assignee': 'Toukir Ahammed', 'date': '2020-09-08T03:53:11.871-0700'}], 'last_updated': '2021-04-01T06:20:37.994186'}, {'term': 'far', 'developer_expertise': [{'assignee': 'Noshin Tahsin', 'date': '2020-09-08T03:57:26.760-0700'}], 'last_updated': '2021-04-01T06:20:37.994186'}, {'term': 'arxiv', 'developer_expertise': [{'assignee': 'Noshin Tahsin', 'date': '2020-09-08T03:57:26.760-0700'}], 'last_updated': '2021-04-01T06:20:37.994186'}, {'term': 'primary', 'developer_expertise': [{'assignee': 'Moumita Asad', 'date': '2020-09-08T03:56:19.414-0700'}], 'last_updated': '2021-04-01T06:20:37.994186'}, {'term': 'demonstration', 'developer_expertise': [{'assignee': 'Moumita Asad', 'date': '2020-09-08T03:56:19.414-0700'}], 'last_updated': '2021-04-01T06:20:37.994186'}, {'term': 'blog', 'developer_expertise': [{'assignee': 'Moumita Asad', 'date': '2020-09-08T03:56:19.414-0700'}], 'last_updated': '2021-04-01T06:20:37.994186'}, {'term': 'productivity', 'developer_expertise': [{'assignee': 'Moumita Asad', 'date': '2020-09-08T03:56:19.414-0700'}, {'assignee': 'Moumita Asad', 'date': '2020-09-08T03:42:59.028-0700'}], 'last_updated': '2021-04-01T06:20:37.994186'}, {'term': 'employee', 'developer_expertise': [{'assignee': 'Moumita Asad', 'date': '2020-09-08T03:56:19.414-0700'}, {'assignee': 'Moumita Asad', 'date': '2020-09-08T03:42:59.028-0700'}], 'last_updated': '2021-04-01T06:20:37.994186'}, {'term': 'wfh', 'developer_expertise': [{'assignee': 'Moumita Asad', 'date': '2020-09-08T03:56:19.414-0700'}], 'last_updated': '2021-04-01T06:20:37.994186'}, {'term': 'publish', 'developer_expertise': [{'assignee': 'Moumita Asad', 'date': '2020-09-08T03:56:19.414-0700'}], 'last_updated': '2021-04-01T06:20:37.994186'}, {'term': 'dsse', 'developer_expertise': [{'assignee': 'Moumita Asad', 'date': '2020-09-08T03:56:19.414-0700'}], 'last_updated': '2021-04-01T06:20:37.994186'}, {'term': 'website', 'developer_expertise': [{'assignee': 'Moumita Asad', 'date': '2020-09-08T03:56:19.414-0700'}], 'last_updated': '2021-04-01T06:20:37.994186'}, {'term': 'create', 'developer_expertise': [{'assignee': 'Noshin Tahsin', 'date': '2020-09-08T03:55:48.827-0700'}, {'assignee': 'Mridha Md. Nafis Fuad', 'date': '2020-09-08T03:54:32.405-0700'}], 'last_updated': '2021-04-01T06:20:37.994186'}, {'term': 'pie', 'developer_expertise': [{'assignee': 'Noshin Tahsin', 'date': '2020-09-08T03:55:48.827-0700'}], 'last_updated': '2021-04-01T06:20:37.994186'}, {'term': 'chart', 'developer_expertise': [{'assignee': 'Noshin Tahsin', 'date': '2020-09-08T03:55:48.827-0700'}, {'assignee': 'Mridha Md. Nafis Fuad', 'date': '2020-09-08T03:54:32.405-0700'}], 'last_updated': '2021-04-01T06:20:37.994186'}, {'term': 'visualization', 'developer_expertise': [{'assignee': 'Noshin Tahsin', 'date': '2020-09-08T03:55:48.827-0700'}, {'assignee': 'Mridha Md. Nafis Fuad', 'date': '2020-09-08T03:54:32.405-0700'}], 'last_updated': '2021-04-01T06:20:37.994186'}, {'term': 'bar', 'developer_expertise': [{'assignee': 'Mridha Md. Nafis Fuad', 'date': '2020-09-08T03:54:32.405-0700'}], 'last_updated': '2021-04-01T06:20:37.994186'}, {'term': 'stackedbars', 'developer_expertise': [{'assignee': 'Mridha Md. Nafis Fuad', 'date': '2020-09-08T03:54:32.405-0700'}], 'last_updated': '2021-04-01T06:20:37.994186'}, {'term': 'visualizing', 'developer_expertise': [{'assignee': 'Mridha Md. Nafis Fuad', 'date': '2020-09-08T03:54:32.405-0700'}], 'last_updated': '2021-04-01T06:20:37.994186'}, {'term': 'clean', 'developer_expertise': [{'assignee': 'Noshin Tahsin', 'date': '2020-09-08T03:53:42.167-0700'}], 'last_updated': '2021-04-01T06:20:37.994186'}, {'term': 'preprocess', 'developer_expertise': [{'assignee': 'Noshin Tahsin', 'date': '2020-09-08T03:53:42.167-0700'}], 'last_updated': '2021-04-01T06:20:37.994186'}, {'term': 'change', 'developer_expertise': [{'assignee': 'Noshin Tahsin', 'date': '2020-09-08T03:53:42.167-0700'}, {'assignee': 'Toukir Ahammed', 'date': '2020-09-08T03:46:00.806-0700'}, {'assignee': 'Noshin Tahsin', 'date': '2020-09-06T09:29:11.791-0700'}], 'last_updated': '2021-04-01T06:20:37.994186'}, {'term': 'column', 'developer_expertise': [{'assignee': 'Noshin Tahsin', 'date': '2020-09-08T03:53:42.167-0700'}], 'last_updated': '2021-04-01T06:20:37.994186'}, {'term': 'name', 'developer_expertise': [{'assignee': 'Noshin Tahsin', 'date': '2020-09-08T03:53:42.167-0700'}, {'assignee': 'Noshin Tahsin', 'date': '2020-09-06T09:29:11.791-0700'}], 'last_updated': '2021-04-01T06:20:37.994186'}, {'term': 'drop', 'developer_expertise': [{'assignee': 'Noshin Tahsin', 'date': '2020-09-08T03:53:42.167-0700'}], 'last_updated': '2021-04-01T06:20:37.994186'}, {'term': 'invalid', 'developer_expertise': [{'assignee': 'Noshin Tahsin', 'date': '2020-09-08T03:53:42.167-0700'}], 'last_updated': '2021-04-01T06:20:37.994186'}, {'term': 'encode', 'developer_expertise': [{'assignee': 'Noshin Tahsin', 'date': '2020-09-08T03:53:42.167-0700'}], 'last_updated': '2021-04-01T06:20:37.994186'}, {'term': 'categorical', 'developer_expertise': [{'assignee': 'Noshin Tahsin', 'date': '2020-09-08T03:53:42.167-0700'}], 'last_updated': '2021-04-01T06:20:37.994186'}, {'term': 'conduct', 'developer_expertise': [{'assignee': 'Toukir Ahammed', 'date': '2020-09-08T03:53:11.871-0700'}], 'last_updated': '2021-04-01T06:20:37.994186'}, {'term': 'survey', 'developer_expertise': [{'assignee': 'Toukir Ahammed', 'date': '2020-09-08T03:53:11.871-0700'}, {'assignee': 'Toukir Ahammed', 'date': '2020-09-08T03:46:00.806-0700'}, {'assignee': 'Noshin Tahsin', 'date': '2020-09-08T03:44:53.680-0700'}], 'last_updated': '2021-04-01T06:20:37.994186'}, {'term': 'collect', 'developer_expertise': [{'assignee': 'Toukir Ahammed', 'date': '2020-09-08T03:53:11.871-0700'}], 'last_updated': '2021-04-01T06:20:37.994186'}, {'term': 'convey', 'developer_expertise': [{'assignee': 'Toukir Ahammed', 'date': '2020-09-08T03:46:00.806-0700'}], 'last_updated': '2021-04-01T06:20:37.994186'}, {'term': 'pilot', 'developer_expertise': [{'assignee': 'Toukir Ahammed', 'date': '2020-09-08T03:46:00.806-0700'}], 'last_updated': '2021-04-01T06:20:37.994186'}, {'term': 'industry', 'developer_expertise': [{'assignee': 'Toukir Ahammed', 'date': '2020-09-08T03:46:00.806-0700'}], 'last_updated': '2021-04-01T06:20:37.994186'}, {'term': 'professional', 'developer_expertise': [{'assignee': 'Toukir Ahammed', 'date': '2020-09-08T03:46:00.806-0700'}], 'last_updated': '2021-04-01T06:20:37.994186'}, {'term': 'incorporate', 'developer_expertise': [{'assignee': 'Toukir Ahammed', 'date': '2020-09-08T03:46:00.806-0700'}], 'last_updated': '2021-04-01T06:20:37.994186'}, {'term': 'feedback', 'developer_expertise': [{'assignee': 'Toukir Ahammed', 'date': '2020-09-08T03:46:00.806-0700'}], 'last_updated': '2021-04-01T06:20:37.994186'}, {'term': 'questionnaire', 'developer_expertise': [{'assignee': 'Toukir Ahammed', 'date': '2020-09-08T03:46:00.806-0700'}], 'last_updated': '2021-04-01T06:20:37.994186'}, {'term': 'accordingly', 'developer_expertise': [{'assignee': 'Toukir Ahammed', 'date': '2020-09-08T03:46:00.806-0700'}], 'last_updated': '2021-04-01T06:20:37.994186'}, {'term': 'find', 'developer_expertise': [{'assignee': 'Noshin Tahsin', 'date': '2020-09-08T03:44:53.680-0700'}, {'assignee': 'Moumita Asad', 'date': '2020-09-08T03:42:59.028-0700'}], 'last_updated': '2021-04-01T06:20:37.994186'}, {'term': 'productivityrelated', 'developer_expertise': [{'assignee': 'Noshin Tahsin', 'date': '2020-09-08T03:44:53.680-0700'}], 'last_updated': '2021-04-01T06:20:37.994186'}, {'term': 'factor', 'developer_expertise': [{'assignee': 'Noshin Tahsin', 'date': '2020-09-08T03:44:53.680-0700'}], 'last_updated': '2021-04-01T06:20:37.994186'}, {'term': 'related', 'developer_expertise': [{'assignee': 'Noshin Tahsin', 'date': '2020-09-08T03:44:53.680-0700'}, {'assignee': 'Moumita Asad', 'date': '2020-09-08T03:42:59.028-0700'}], 'last_updated': '2021-04-01T06:20:37.994186'}, {'term': 'prepare', 'developer_expertise': [{'assignee': 'Noshin Tahsin', 'date': '2020-09-08T03:44:53.680-0700'}], 'last_updated': '2021-04-01T06:20:37.994186'}, {'term': 'questionnare', 'developer_expertise': [{'assignee': 'Noshin Tahsin', 'date': '2020-09-08T03:44:53.680-0700'}], 'last_updated': '2021-04-01T06:20:37.994186'}, {'term': 'explore', 'developer_expertise': [{'assignee': 'Moumita Asad', 'date': '2020-09-08T03:42:59.028-0700'}], 'last_updated': '2021-04-01T06:20:37.994186'}, {'term': 'literature', 'developer_expertise': [{'assignee': 'Moumita Asad', 'date': '2020-09-08T03:42:59.028-0700'}], 'last_updated': '2021-04-01T06:20:37.994186'}, {'term': 'work', 'developer_expertise': [{'assignee': 'Moumita Asad', 'date': '2020-09-08T03:42:59.028-0700'}], 'last_updated': '2021-04-01T06:20:37.994186'}, {'term': 'home', 'developer_expertise': [{'assignee': 'Moumita Asad', 'date': '2020-09-08T03:42:59.028-0700'}], 'last_updated': '2021-04-01T06:20:37.994186'}, {'term': 'getting', 'developer_expertise': [{'assignee': 'Noshin Tahsin', 'date': '2020-09-08T03:37:02.399-0700'}, {'assignee': 'A. T. M. Fazlay Rabbi', 'date': '2020-09-08T03:36:34.188-0700'}, {'assignee': 'A. T. M. Fazlay Rabbi', 'date': '2020-09-06T09:32:06.928-0700'}], 'last_updated': '2021-04-01T06:20:37.994186'}, {'term': 'list', 'developer_expertise': [{'assignee': 'Noshin Tahsin', 'date': '2020-09-08T03:37:02.399-0700'}], 'last_updated': '2021-04-01T06:20:37.994186'}, {'term': 'view', 'developer_expertise': [{'assignee': 'Noshin Tahsin', 'date': '2020-09-08T03:37:02.399-0700'}], 'last_updated': '2021-04-01T06:20:37.994186'}, {'term': 'queried', 'developer_expertise': [{'assignee': 'Noshin Tahsin', 'date': '2020-09-08T03:37:02.399-0700'}], 'last_updated': '2021-04-01T06:20:37.994186'}, {'term': 'result', 'developer_expertise': [{'assignee': 'Noshin Tahsin', 'date': '2020-09-08T03:37:02.399-0700'}], 'last_updated': '2021-04-01T06:20:37.994186'}, {'term': 'user', 'developer_expertise': [{'assignee': 'Noshin Tahsin', 'date': '2020-09-08T03:37:02.399-0700'}], 'last_updated': '2021-04-01T06:20:37.994186'}, {'term': 'vscode', 'developer_expertise': [{'assignee': 'Noshin Tahsin', 'date': '2020-09-08T03:37:02.399-0700'}], 'last_updated': '2021-04-01T06:20:37.994186'}, {'term': 'extension', 'developer_expertise': [{'assignee': 'Noshin Tahsin', 'date': '2020-09-08T03:37:02.399-0700'}], 'last_updated': '2021-04-01T06:20:37.994186'}, {'term': 'exploring', 'developer_expertise': [{'assignee': 'Noshin Tahsin', 'date': '2020-09-08T03:37:02.399-0700'}], 'last_updated': '2021-04-01T06:20:37.994186'}, {'term': 'feature', 'developer_expertise': [{'assignee': 'Noshin Tahsin', 'date': '2020-09-08T03:37:02.399-0700'}], 'last_updated': '2021-04-01T06:20:37.994186'}, {'term': 'better', 'developer_expertise': [{'assignee': 'Noshin Tahsin', 'date': '2020-09-08T03:37:02.399-0700'}], 'last_updated': '2021-04-01T06:20:37.994186'}, {'term': 'strategy', 'developer_expertise': [{'assignee': 'Noshin Tahsin', 'date': '2020-09-08T03:37:02.399-0700'}], 'last_updated': '2021-04-01T06:20:37.994186'}, {'term': 'viewing', 'developer_expertise': [{'assignee': 'Noshin Tahsin', 'date': '2020-09-08T03:37:02.399-0700'}], 'last_updated': '2021-04-01T06:20:37.994186'}, {'term': 'implementing', 'developer_expertise': [{'assignee': 'Noshin Tahsin', 'date': '2020-09-08T03:37:02.399-0700'}], 'last_updated': '2021-04-01T06:20:37.994186'}, {'term': 'search', 'developer_expertise': [{'assignee': 'Noshin Tahsin', 'date': '2020-09-08T03:37:02.399-0700'}], 'last_updated': '2021-04-01T06:20:37.994186'}, {'term': 'viewer', 'developer_expertise': [{'assignee': 'Noshin Tahsin', 'date': '2020-09-08T03:37:02.399-0700'}], 'last_updated': '2021-04-01T06:20:37.994186'}, {'term': 'exception', 'developer_expertise': [{'assignee': 'A. T. M. Fazlay Rabbi', 'date': '2020-09-08T03:36:34.188-0700'}], 'last_updated': '2021-04-01T06:20:37.994186'}, {'term': 'unknown', 'developer_expertise': [{'assignee': 'A. T. M. Fazlay Rabbi', 'date': '2020-09-08T03:36:34.188-0700'}], 'last_updated': '2021-04-01T06:20:37.994186'}, {'term': 'token', 'developer_expertise': [{'assignee': 'A. T. M. Fazlay Rabbi', 'date': '2020-09-08T03:36:34.188-0700'}], 'last_updated': '2021-04-01T06:20:37.994186'}, {'term': 'test', 'developer_expertise': [{'assignee': 'A. T. M. Fazlay Rabbi', 'date': '2020-09-08T03:36:34.188-0700'}], 'last_updated': '2021-04-01T06:20:37.994186'}, {'term': 'input', 'developer_expertise': [{'assignee': 'A. T. M. Fazlay Rabbi', 'date': '2020-09-08T03:36:34.188-0700'}, {'assignee': 'A. T. M. Fazlay Rabbi', 'date': '2020-09-06T09:32:06.928-0700'}], 'last_updated': '2021-04-01T06:20:37.994186'}, {'term': 'java', 'developer_expertise': [{'assignee': 'A. T. M. Fazlay Rabbi', 'date': '2020-09-08T03:36:34.188-0700'}], 'last_updated': '2021-04-01T06:20:37.994186'}, {'term': 'method', 'developer_expertise': [{'assignee': 'A. T. M. Fazlay Rabbi', 'date': '2020-09-08T03:36:34.188-0700'}], 'last_updated': '2021-04-01T06:20:37.994186'}, {'term': 'fixing', 'developer_expertise': [{'assignee': 'A. T. M. Fazlay Rabbi', 'date': '2020-09-08T03:36:34.188-0700'}], 'last_updated': '2021-04-01T06:20:37.994186'}, {'term': 'tokenizer', 'developer_expertise': [{'assignee': 'A. T. M. Fazlay Rabbi', 'date': '2020-09-08T03:36:34.188-0700'}], 'last_updated': '2021-04-01T06:20:37.994186'}, {'term': 'setting', 'developer_expertise': [{'assignee': 'Mridha Md. Nafis Fuad', 'date': '2020-09-08T03:35:59.251-0700'}], 'last_updated': '2021-04-01T06:20:37.994186'}, {'term': 'encoder', 'developer_expertise': [{'assignee': 'Mridha Md. Nafis Fuad', 'date': '2020-09-08T03:35:59.251-0700'}], 'last_updated': '2021-04-01T06:20:37.994186'}, {'term': 'decoder', 'developer_expertise': [{'assignee': 'Mridha Md. Nafis Fuad', 'date': '2020-09-08T03:35:59.251-0700'}], 'last_updated': '2021-04-01T06:20:37.994186'}, {'term': 'attention', 'developer_expertise': [{'assignee': 'Mridha Md. Nafis Fuad', 'date': '2020-09-08T03:35:59.251-0700'}], 'last_updated': '2021-04-01T06:20:37.994186'}, {'term': 'mechanism', 'developer_expertise': [{'assignee': 'Mridha Md. Nafis Fuad', 'date': '2020-09-08T03:35:59.251-0700'}], 'last_updated': '2021-04-01T06:20:37.994186'}, {'term': 'train', 'developer_expertise': [{'assignee': 'Mridha Md. Nafis Fuad', 'date': '2020-09-08T03:35:59.251-0700'}], 'last_updated': '2021-04-01T06:20:37.994186'}, {'term': 'model', 'developer_expertise': [{'assignee': 'Mridha Md. Nafis Fuad', 'date': '2020-09-08T03:35:59.251-0700'}], 'last_updated': '2021-04-01T06:20:37.994186'}, {'term': 'get', 'developer_expertise': [{'assignee': 'Mridha Md. Nafis Fuad', 'date': '2020-09-08T03:35:59.251-0700'}], 'last_updated': '2021-04-01T06:20:37.994186'}, {'term': 'context', 'developer_expertise': [{'assignee': 'Mridha Md. Nafis Fuad', 'date': '2020-09-08T03:35:59.251-0700'}], 'last_updated': '2021-04-01T06:20:37.994186'}, {'term': 'vector', 'developer_expertise': [{'assignee': 'Mridha Md. Nafis Fuad', 'date': '2020-09-08T03:35:59.251-0700'}], 'last_updated': '2021-04-01T06:20:37.994186'}, {'term': 'pyhton', 'developer_expertise': [{'assignee': 'Mridha Md. Nafis Fuad', 'date': '2020-09-08T03:35:59.251-0700'}], 'last_updated': '2021-04-01T06:20:37.994186'}, {'term': 'neural', 'developer_expertise': [{'assignee': 'Mridha Md. Nafis Fuad', 'date': '2020-09-08T03:35:59.251-0700'}], 'last_updated': '2021-04-01T06:20:37.994186'}, {'term': 'structure', 'developer_expertise': [{'assignee': 'Mridha Md. Nafis Fuad', 'date': '2020-09-08T03:35:59.251-0700'}], 'last_updated': '2021-04-01T06:20:37.994186'}, {'term': 'parse', 'developer_expertise': [{'assignee': 'Mridha Md. Nafis Fuad', 'date': '2020-09-08T03:35:02.341-0700'}], 'last_updated': '2021-04-01T06:20:37.994186'}, {'term': 'ast', 'developer_expertise': [{'assignee': 'Mridha Md. Nafis Fuad', 'date': '2020-09-08T03:35:02.341-0700'}], 'last_updated': '2021-04-01T06:20:37.994186'}, {'term': 'code', 'developer_expertise': [{'assignee': 'Mridha Md. Nafis Fuad', 'date': '2020-09-08T03:35:02.341-0700'}], 'last_updated': '2021-04-01T06:20:37.994186'}, {'term': 'snippet', 'developer_expertise': [{'assignee': 'Mridha Md. Nafis Fuad', 'date': '2020-09-08T03:35:02.341-0700'}], 'last_updated': '2021-04-01T06:20:37.994186'}, {'term': 'sbt', 'developer_expertise': [{'assignee': 'Mridha Md. Nafis Fuad', 'date': '2020-09-08T03:35:02.341-0700'}], 'last_updated': '2021-04-01T06:20:37.994186'}, {'term': 'way', 'developer_expertise': [{'assignee': 'Mridha Md. Nafis Fuad', 'date': '2020-09-08T03:35:02.341-0700'}], 'last_updated': '2021-04-01T06:20:37.994186'}, {'term': 'python', 'developer_expertise': [{'assignee': 'Mridha Md. Nafis Fuad', 'date': '2020-09-08T03:35:02.341-0700'}], 'last_updated': '2021-04-01T06:20:37.994186'}, {'term': 'parsing', 'developer_expertise': [{'assignee': 'Mridha Md. Nafis Fuad', 'date': '2020-09-08T03:35:02.341-0700'}], 'last_updated': '2021-04-01T06:20:37.994186'}, {'term': 'tool', 'developer_expertise': [{'assignee': 'Mridha Md. Nafis Fuad', 'date': '2020-09-05T03:57:46.757-0700'}], 'last_updated': '2021-04-01T06:20:37.994186'}, {'term': 'quickly', 'developer_expertise': [{'assignee': 'Mridha Md. Nafis Fuad', 'date': '2020-09-05T03:57:46.757-0700'}], 'last_updated': '2021-04-01T06:20:37.994186'}, {'term': 'methodology', 'developer_expertise': [{'assignee': 'Mridha Md. Nafis Fuad', 'date': '2020-09-05T03:57:46.757-0700'}], 'last_updated': '2021-04-01T06:20:37.994186'}, {'term': 'done', 'developer_expertise': [{'assignee': 'Mridha Md. Nafis Fuad', 'date': '2020-09-05T03:57:46.757-0700'}], 'last_updated': '2021-04-01T06:20:37.994186'}, {'term': 'error', 'developer_expertise': [{'assignee': 'Noshin Tahsin', 'date': '2020-09-05T02:58:20.639-0700'}], 'last_updated': '2021-04-01T06:20:37.994186'}, {'term': 'need', 'developer_expertise': [{'assignee': 'Noshin Tahsin', 'date': '2020-09-05T02:58:20.639-0700'}], 'last_updated': '2021-04-01T06:20:37.994186'}, {'term': 'solve', 'developer_expertise': [{'assignee': 'Noshin Tahsin', 'date': '2020-09-05T02:58:20.639-0700'}], 'last_updated': '2021-04-01T06:20:37.994186'}, {'term': 'add', 'developer_expertise': [{'assignee': 'Noshin Tahsin', 'date': '2021-02-20T00:14:00.264-0800'}, {'assignee': 'Noshin Tahsin', 'date': '2020-09-06T09:29:11.791-0700'}], 'last_updated': '2021-04-01T06:20:37.994186'}, {'term': 'new', 'developer_expertise': [{'assignee': 'Noshin Tahsin', 'date': '2021-02-20T00:14:00.264-0800'}], 'last_updated': '2021-04-01T06:20:37.994186'}, {'term': 'table', 'developer_expertise': [{'assignee': 'Noshin Tahsin', 'date': '2021-02-20T00:14:00.264-0800'}, {'assignee': 'Noshin Tahsin', 'date': '2020-09-06T09:29:11.791-0700'}], 'last_updated': '2021-04-01T06:20:37.994186'}, {'term': 'ui', 'developer_expertise': [{'assignee': 'Noshin Tahsin', 'date': '2021-02-20T00:14:00.264-0800'}, {'assignee': 'Noshin Tahsin', 'date': '2020-09-06T09:29:11.791-0700'}, {'assignee': 'Noshin Tahsin', 'date': '2020-09-05T02:55:07.811-0700'}], 'last_updated': '2021-04-01T06:20:37.994186'}, {'term': 'deploy', 'developer_expertise': [{'assignee': 'A. T. M. Fazlay Rabbi', 'date': '2020-12-25T07:29:57.045-0800'}, {'assignee': 'Noshin Tahsin', 'date': '2020-09-06T09:29:51.314-0700'}], 'last_updated': '2021-04-01T06:20:37.994186'}, {'term': 'backend', 'developer_expertise': [{'assignee': 'A. T. M. Fazlay Rabbi', 'date': '2020-12-25T07:29:57.045-0800'}, {'assignee': 'A. T. M. Fazlay Rabbi', 'date': '2020-09-06T09:32:06.928-0700'}, {'assignee': 'Noshin Tahsin', 'date': '2020-09-06T09:29:51.314-0700'}], 'last_updated': '2021-04-01T06:20:37.994186'}, {'term': 'heroku', 'developer_expertise': [{'assignee': 'A. T. M. Fazlay Rabbi', 'date': '2020-12-25T07:29:57.045-0800'}, {'assignee': 'A. T. M. Fazlay Rabbi', 'date': '2020-09-06T09:32:06.928-0700'}, {'assignee': 'Noshin Tahsin', 'date': '2020-09-06T09:29:51.314-0700'}], 'last_updated': '2021-04-01T06:20:37.994186'}, {'term': '404', 'developer_expertise': [{'assignee': 'A. T. M. Fazlay Rabbi', 'date': '2020-09-06T09:32:06.928-0700'}], 'last_updated': '2021-04-01T06:20:37.994186'}, {'term': 'form', 'developer_expertise': [{'assignee': 'A. T. M. Fazlay Rabbi', 'date': '2020-09-06T09:32:06.928-0700'}], 'last_updated': '2021-04-01T06:20:37.994186'}, {'term': 'provided', 'developer_expertise': [{'assignee': 'A. T. M. Fazlay Rabbi', 'date': '2020-09-06T09:32:06.928-0700'}], 'last_updated': '2021-04-01T06:20:37.994186'}, {'term': 'issue', 'developer_expertise': [{'assignee': 'A. T. M. Fazlay Rabbi', 'date': '2020-09-06T09:32:06.928-0700'}], 'last_updated': '2021-04-01T06:20:37.994186'}, {'term': 'fix', 'developer_expertise': [{'assignee': 'A. T. M. Fazlay Rabbi', 'date': '2020-09-06T09:32:06.928-0700'}], 'last_updated': '2021-04-01T06:20:37.994186'}, {'term': 'assignee', 'developer_expertise': [{'assignee': 'Noshin Tahsin', 'date': '2020-09-06T09:29:11.791-0700'}], 'last_updated': '2021-04-01T06:20:37.994186'}, {'term': 'suggestion', 'developer_expertise': [{'assignee': 'Noshin Tahsin', 'date': '2020-09-06T09:29:11.791-0700'}], 'last_updated': '2021-04-01T06:20:37.994186'}, {'term': 'image', 'developer_expertise': [{'assignee': 'Noshin Tahsin', 'date': '2020-09-06T09:29:11.791-0700'}], 'last_updated': '2021-04-01T06:20:37.994186'}, {'term': 'along', 'developer_expertise': [{'assignee': 'Noshin Tahsin', 'date': '2020-09-06T09:29:11.791-0700'}], 'last_updated': '2021-04-01T06:20:37.994186'}, {'term': 'make', 'developer_expertise': [{'assignee': 'Noshin Tahsin', 'date': '2020-09-06T09:29:11.791-0700'}], 'last_updated': '2021-04-01T06:20:37.994186'}, {'term': 'attractive', 'developer_expertise': [{'assignee': 'Noshin Tahsin', 'date': '2020-09-06T09:29:11.791-0700'}], 'last_updated': '2021-04-01T06:20:37.994186'}, {'term': 'design', 'developer_expertise': [{'assignee': 'Noshin Tahsin', 'date': '2020-09-05T02:55:07.811-0700'}], 'last_updated': '2021-04-01T06:20:37.994186'}, {'term': 'jira', 'developer_expertise': [{'assignee': 'Noshin Tahsin', 'date': '2020-09-05T02:55:07.811-0700'}], 'last_updated': '2021-04-01T06:20:37.994186'}, {'term': 'addon', 'developer_expertise': [{'assignee': 'Noshin Tahsin', 'date': '2020-09-05T02:55:07.811-0700'}], 'last_updated': '2021-04-01T06:20:37.994186'}, {'term': 'using', 'developer_expertise': [{'assignee': 'Noshin Tahsin', 'date': '2020-09-05T02:55:07.811-0700'}], 'last_updated': '2021-04-01T06:20:37.994186'}, {'term': 'ace', 'developer_expertise': [{'assignee': 'Noshin Tahsin', 'date': '2020-09-05T02:55:07.811-0700'}], 'last_updated': '2021-04-01T06:20:37.994186'}, {'term': 'framework', 'developer_expertise': [{'assignee': 'Noshin Tahsin', 'date': '2020-09-05T02:55:07.811-0700'}], 'last_updated': '2021-04-01T06:20:37.994186'}, {'term': 'guideline', 'developer_expertise': [{'assignee': 'Noshin Tahsin', 'date': '2020-09-05T02:55:07.811-0700'}], 'last_updated': '2021-04-01T06:20:37.994186'}, {'term': 'component', 'developer_expertise': [{'assignee': 'Noshin Tahsin', 'date': '2020-09-05T02:55:07.811-0700'}], 'last_updated': '2021-04-01T06:20:37.994186'}, {'term': 'found', 'developer_expertise': [{'assignee': 'Noshin Tahsin', 'date': '2020-09-05T02:55:07.811-0700'}], 'last_updated': '2021-04-01T06:20:37.994186'}, {'term': 'atlassian', 'developer_expertise': [{'assignee': 'Noshin Tahsin', 'date': '2020-09-05T02:55:07.811-0700'}], 'last_updated': '2021-04-01T06:20:37.994186'}]\n"
     ]
    }
   ],
   "source": [
    "import copy\n",
    "\n",
    "db_term_assignee_list = []\n",
    "for key in terms_assignee_map:\n",
    "    temp_dict={}\n",
    "    temp_dict['term'] = key\n",
    "    val_list = []\n",
    "    val_list = copy.deepcopy(terms_assignee_map[key])\n",
    "    temp_dict['developer_expertise'] = val_list\n",
    "    temp_dict['last_updated'] = currentTime\n",
    "    db_term_assignee_list.append(temp_dict)\n",
    "\n",
    "print(db_term_assignee_list)"
   ]
  },
  {
   "cell_type": "code",
   "execution_count": 84,
   "metadata": {},
   "outputs": [
    {
     "name": "stdout",
     "output_type": "stream",
     "text": [
      "['JiraPlugin', 'admin', 'config', 'local']\n"
     ]
    }
   ],
   "source": [
    "import pymongo\n",
    "myclient = pymongo.MongoClient(\"mongodb://localhost:27017/\")\n",
    "mydb = myclient[\"JiraPlugin\"]\n",
    "print(myclient.list_database_names())"
   ]
  },
  {
   "cell_type": "code",
   "execution_count": 85,
   "metadata": {},
   "outputs": [],
   "source": [
    "mycol = mydb[\"TermAssigneeMap\"]\n",
    "x = mycol.insert_many(db_term_assignee_list)\n",
    "#print list of the _id values of the inserted documents:\n",
    "#print(x.inserted_ids)"
   ]
  },
  {
   "cell_type": "code",
   "execution_count": 86,
   "metadata": {},
   "outputs": [
    {
     "name": "stdout",
     "output_type": "stream",
     "text": [
      "{'_id': ObjectId('6065c2527c14cf70f6546ad8'), 'term': 'backend', 'developer_expertise': [{'assignee': 'A. T. M. Fazlay Rabbi', 'date': '2020-12-25T07:29:57.045-0800'}, {'assignee': 'A. T. M. Fazlay Rabbi', 'date': '2020-09-06T09:32:06.928-0700'}, {'assignee': 'Noshin Tahsin', 'date': '2020-09-06T09:29:51.314-0700'}], 'last_updated': datetime.datetime(2021, 4, 1, 5, 48, 4, 567000)}\n",
      "{'_id': ObjectId('6065c7bb7c14cf70f6546b6e'), 'term': 'backend', 'developer_expertise': [{'assignee': 'A. T. M. Fazlay Rabbi', 'date': '2020-12-25T07:29:57.045-0800'}, {'assignee': 'A. T. M. Fazlay Rabbi', 'date': '2020-09-06T09:32:06.928-0700'}, {'assignee': 'Noshin Tahsin', 'date': '2020-09-06T09:29:51.314-0700'}], 'last_updated': '2021-04-01T06:16:21.567200'}\n",
      "{'_id': ObjectId('6065c8a67c14cf70f6546c03'), 'term': 'backend', 'developer_expertise': [{'assignee': 'A. T. M. Fazlay Rabbi', 'date': '2020-12-25T07:29:57.045-0800'}, {'assignee': 'A. T. M. Fazlay Rabbi', 'date': '2020-09-06T09:32:06.928-0700'}, {'assignee': 'Noshin Tahsin', 'date': '2020-09-06T09:29:51.314-0700'}], 'last_updated': '2021-04-01T06:20:37.994186'}\n"
     ]
    }
   ],
   "source": [
    "myquery = { \"term\": \"backend\" }\n",
    "mydoc = mycol.find(myquery)\n",
    "for x in mydoc:\n",
    "    print(x)"
   ]
  },
  {
   "cell_type": "code",
   "execution_count": 87,
   "metadata": {},
   "outputs": [
    {
     "name": "stdout",
     "output_type": "stream",
     "text": [
      "5\n",
      "['Moumita Asad', 'Noshin Tahsin', 'Mridha Md. Nafis Fuad', 'Toukir Ahammed', 'A. T. M. Fazlay Rabbi']\n",
      "Moumita Asad => ['write', 'icse', 'paper', 'including', 'finding', 'regression', 'analysis', 'primary', 'demonstration', 'write', 'blog', 'productivity', 'employee', 'wfh', 'publish', 'dsse', 'website', 'explore', 'literature', 'find', 'paper', 'related', 'employee', 'productivity', 'work', 'home']\n",
      "Noshin Tahsin => ['regression', 'analysis', 'data', 'write', 'paper', 'finding', 'far', 'arxiv', 'create', 'pie', 'chart', 'data', 'visualization', 'clean', 'preprocess', 'data', 'change', 'column', 'name', 'drop', 'invalid', 'encode', 'categorical', 'find', 'productivityrelated', 'factor', 'related', 'paper', 'prepare', 'survey', 'questionnare', 'getting', 'list', 'view', 'queried', 'result', 'user', 'vscode', 'extension', 'exploring', 'feature', 'better', 'strategy', 'viewing', 'implementing', 'search', 'viewer', 'error', 'need', 'solve', 'add', 'new', 'table', 'ui', 'deploy', 'backend', 'heroku', 'assignee', 'suggestion', 'table', 'add', 'image', 'along', 'name', 'make', 'ui', 'attractive', 'change', 'design', 'ui', 'jira', 'addon', 'using', 'ace', 'framework', 'guideline', 'component', 'found', 'atlassian']\n",
      "Mridha Md. Nafis Fuad => ['create', 'bar', 'chart', 'stackedbars', 'visualizing', 'data', 'visualization', 'setting', 'encoder', 'decoder', 'attention', 'mechanism', 'train', 'model', 'get', 'context', 'vector', 'pyhton', 'neural', 'structure', 'parse', 'ast', 'code', 'snippet', 'sbt', 'way', 'python', 'parsing', 'write', 'tool', 'paper', 'quickly', 'methodology', 'done']\n",
      "Toukir Ahammed => ['conduct', 'survey', 'collect', 'data', 'convey', 'pilot', 'survey', 'industry', 'professional', 'incorporate', 'feedback', 'change', 'questionnaire', 'accordingly']\n",
      "A. T. M. Fazlay Rabbi => ['getting', 'exception', 'unknown', 'token', 'test', 'input', 'java', 'method', 'fixing', 'tokenizer', 'deploy', 'backend', 'heroku', 'getting', '404', 'form', 'input', 'provided', 'issue', 'heroku', 'fix', 'backend']\n"
     ]
    }
   ],
   "source": [
    "print(len(assignee_terms_map))\n",
    "available_devlist=[]\n",
    "\n",
    "for key,val in assignee_terms_map.items():\n",
    "    available_devlist.append(key)\n",
    "print(available_devlist) \n",
    "#del assignee_terms_map[\"None\"]\n",
    "for key,val in  assignee_terms_map.items():\n",
    "    print(key, \"=>\", val)\n",
    "    #print(key)\n",
    "    #print(len(val))   "
   ]
  },
  {
   "cell_type": "code",
   "execution_count": 88,
   "metadata": {},
   "outputs": [
    {
     "name": "stdout",
     "output_type": "stream",
     "text": [
      "[{'assignee': 'Moumita Asad', 'term_info': ['write', 'icse', 'paper', 'including', 'finding', 'regression', 'analysis', 'primary', 'demonstration', 'write', 'blog', 'productivity', 'employee', 'wfh', 'publish', 'dsse', 'website', 'explore', 'literature', 'find', 'paper', 'related', 'employee', 'productivity', 'work', 'home']}, {'assignee': 'Noshin Tahsin', 'term_info': ['regression', 'analysis', 'data', 'write', 'paper', 'finding', 'far', 'arxiv', 'create', 'pie', 'chart', 'data', 'visualization', 'clean', 'preprocess', 'data', 'change', 'column', 'name', 'drop', 'invalid', 'encode', 'categorical', 'find', 'productivityrelated', 'factor', 'related', 'paper', 'prepare', 'survey', 'questionnare', 'getting', 'list', 'view', 'queried', 'result', 'user', 'vscode', 'extension', 'exploring', 'feature', 'better', 'strategy', 'viewing', 'implementing', 'search', 'viewer', 'error', 'need', 'solve', 'add', 'new', 'table', 'ui', 'deploy', 'backend', 'heroku', 'assignee', 'suggestion', 'table', 'add', 'image', 'along', 'name', 'make', 'ui', 'attractive', 'change', 'design', 'ui', 'jira', 'addon', 'using', 'ace', 'framework', 'guideline', 'component', 'found', 'atlassian']}, {'assignee': 'Mridha Md. Nafis Fuad', 'term_info': ['create', 'bar', 'chart', 'stackedbars', 'visualizing', 'data', 'visualization', 'setting', 'encoder', 'decoder', 'attention', 'mechanism', 'train', 'model', 'get', 'context', 'vector', 'pyhton', 'neural', 'structure', 'parse', 'ast', 'code', 'snippet', 'sbt', 'way', 'python', 'parsing', 'write', 'tool', 'paper', 'quickly', 'methodology', 'done']}, {'assignee': 'Toukir Ahammed', 'term_info': ['conduct', 'survey', 'collect', 'data', 'convey', 'pilot', 'survey', 'industry', 'professional', 'incorporate', 'feedback', 'change', 'questionnaire', 'accordingly']}, {'assignee': 'A. T. M. Fazlay Rabbi', 'term_info': ['getting', 'exception', 'unknown', 'token', 'test', 'input', 'java', 'method', 'fixing', 'tokenizer', 'deploy', 'backend', 'heroku', 'getting', '404', 'form', 'input', 'provided', 'issue', 'heroku', 'fix', 'backend']}]\n"
     ]
    }
   ],
   "source": [
    "db_assignee_terms_list = []\n",
    "for key in assignee_terms_map:\n",
    "    temp_dict={}\n",
    "    temp_dict['assignee'] = key\n",
    "    val_list = []\n",
    "    val_list = copy.deepcopy(assignee_terms_map[key])\n",
    "    temp_dict['term_info'] = val_list\n",
    "    db_assignee_terms_list.append(temp_dict)\n",
    "\n",
    "print(db_assignee_terms_list)\n",
    "\n",
    "mycol = mydb[\"AssigneeTermsMap\"]\n",
    "x = mycol.insert_many(db_assignee_terms_list)"
   ]
  },
  {
   "cell_type": "code",
   "execution_count": 89,
   "metadata": {},
   "outputs": [
    {
     "name": "stdout",
     "output_type": "stream",
     "text": [
      "['explore', 'literature', 'find', 'tool', 'paper', 'icse', 'related', 'regression', 'analysis', 'related', 'data', 'find', 'tool', 'paper', 'icse']\n"
     ]
    }
   ],
   "source": [
    "#tokenizing the new issue\n",
    "#new_des=data[\"projects\"][0]['issues'][14]['description']\n",
    "#all_new_issues=jira.search_issues('project='+str(projects[0]))\n",
    "#new_issue=all_new_issues[0]\n",
    "new_issue_key = 'C1R-12'\n",
    "new_issue=jira.issue(new_issue_key)\n",
    "new_issue_creation_date = new_issue.fields.created\n",
    "#issue=jira.issue('SAAJ-4')\n",
    "#print(\"issue status: \",issue.fields.status.name)\n",
    "creation_date = new_issue.fields.created\n",
    "current_time = creation_date\n",
    "#print(\"creation date: \",creation_date)\n",
    "#resolution_date=issue.fields.resolutiondate\n",
    "#print(\"resolution date:\",resolution_date)\n",
    "#print(\"date\")\n",
    "#print(new_issue_creation_date)\n",
    "new_des=new_issue.fields.description\n",
    "\n",
    "new_des=remove_punctuation(new_des)\n",
    "bad_chars=['!','@', '#', '$','%', '^', '&','*','(',')','-','+']\n",
    "new_des = ''.join(i for i in new_des if not i in bad_chars)\n",
    "tokenized_new_des=tokenize(new_des)\n",
    "\n",
    "new_summary=new_issue.fields.summary\n",
    "\n",
    "new_summary=remove_punctuation(new_summary)\n",
    "bad_chars=['!','@', '#', '$','%', '^', '&','*','(',')','-','+']\n",
    "new_summary = ''.join(i for i in new_summary if not i in bad_chars)\n",
    "tokenized_new_summary=tokenize(new_summary)\n",
    "\n",
    "new_terms=tokenized_new_des+tokenized_new_summary\n",
    "print(new_terms)\n",
    "\n",
    "#now I have the new issue terms"
   ]
  },
  {
   "cell_type": "code",
   "execution_count": 90,
   "metadata": {},
   "outputs": [
    {
     "name": "stdout",
     "output_type": "stream",
     "text": [
      "{'explore': [{'assignee': 'Moumita Asad', 'date': '2020-09-08T03:42:59.028-0700'}], 'literature': [{'assignee': 'Moumita Asad', 'date': '2020-09-08T03:42:59.028-0700'}], 'find': [{'assignee': 'Noshin Tahsin', 'date': '2020-09-08T03:44:53.680-0700'}, {'assignee': 'Moumita Asad', 'date': '2020-09-08T03:42:59.028-0700'}], 'tool': [{'assignee': 'Mridha Md. Nafis Fuad', 'date': '2020-09-05T03:57:46.757-0700'}], 'paper': [{'assignee': 'Moumita Asad', 'date': '2020-09-08T03:58:33.865-0700'}, {'assignee': 'Noshin Tahsin', 'date': '2020-09-08T03:57:26.760-0700'}, {'assignee': 'Noshin Tahsin', 'date': '2020-09-08T03:44:53.680-0700'}, {'assignee': 'Moumita Asad', 'date': '2020-09-08T03:42:59.028-0700'}, {'assignee': 'Mridha Md. Nafis Fuad', 'date': '2020-09-05T03:57:46.757-0700'}], 'icse': [{'assignee': 'Moumita Asad', 'date': '2020-09-08T03:58:33.865-0700'}], 'related': [{'assignee': 'Noshin Tahsin', 'date': '2020-09-08T03:44:53.680-0700'}, {'assignee': 'Moumita Asad', 'date': '2020-09-08T03:42:59.028-0700'}], 'regression': [{'assignee': 'Moumita Asad', 'date': '2020-09-08T03:58:33.865-0700'}, {'assignee': 'Noshin Tahsin', 'date': '2020-09-08T03:58:02.767-0700'}], 'analysis': [{'assignee': 'Moumita Asad', 'date': '2020-09-08T03:58:33.865-0700'}, {'assignee': 'Noshin Tahsin', 'date': '2020-09-08T03:58:02.767-0700'}], 'data': [{'assignee': 'Noshin Tahsin', 'date': '2020-09-08T03:58:02.767-0700'}, {'assignee': 'Noshin Tahsin', 'date': '2020-09-08T03:55:48.827-0700'}, {'assignee': 'Mridha Md. Nafis Fuad', 'date': '2020-09-08T03:54:32.405-0700'}, {'assignee': 'Noshin Tahsin', 'date': '2020-09-08T03:53:42.167-0700'}, {'assignee': 'Toukir Ahammed', 'date': '2020-09-08T03:53:11.871-0700'}]}\n"
     ]
    }
   ],
   "source": [
    "#now calculate score for developer suggestion\n",
    "#print(len(new_terms))\n",
    "newterm_dev_map={}\n",
    "#def getDevTermUsageInfo():\n",
    "cnt=0\n",
    "for newterm in new_terms:\n",
    "    if newterm in terms_assignee_map:\n",
    "        cnt=cnt+1\n",
    "        #print(newterm)\n",
    "        #print(terms_assignee_map[newterm])\n",
    "        newterm_dev_map[newterm]=terms_assignee_map[newterm]\n",
    "        #returns a devlist for a single newterm\n",
    "        #developers who has previously worked on that term\n",
    "        #one dev name can occur multiple times\n",
    "        #which implies he has worked on that term multiple times-more experienced!\n",
    "\n",
    "#print(newterm_dev_map['everything'])\n",
    "print(newterm_dev_map)"
   ]
  },
  {
   "cell_type": "code",
   "execution_count": 91,
   "metadata": {},
   "outputs": [
    {
     "name": "stdout",
     "output_type": "stream",
     "text": [
      "current date and time = 2020-09-08T04:32:18.147-0700\n"
     ]
    }
   ],
   "source": [
    "from datetime import datetime\n",
    "# datetime object containing current date and time\n",
    "now = datetime.now()\n",
    "#print(\"now =\", now)\n",
    "currentTime = now.strftime(\"%Y-%m-%dT%H:%M:%S.%f%z\")\n",
    "print(\"current date and time =\", current_time)\t"
   ]
  },
  {
   "cell_type": "code",
   "execution_count": 92,
   "metadata": {},
   "outputs": [
    {
     "name": "stdout",
     "output_type": "stream",
     "text": [
      "{'explore': [{'assignee': 'Moumita Asad', 'date': '2020-09-08T03:42:59.028-0700'}], 'literature': [{'assignee': 'Moumita Asad', 'date': '2020-09-08T03:42:59.028-0700'}], 'find': [{'assignee': 'Noshin Tahsin', 'date': '2020-09-08T03:44:53.680-0700'}, {'assignee': 'Moumita Asad', 'date': '2020-09-08T03:42:59.028-0700'}], 'tool': [{'assignee': 'Mridha Md. Nafis Fuad', 'date': '2020-09-05T03:57:46.757-0700'}], 'paper': [{'assignee': 'Moumita Asad', 'date': '2020-09-08T03:58:33.865-0700'}, {'assignee': 'Noshin Tahsin', 'date': '2020-09-08T03:57:26.760-0700'}, {'assignee': 'Noshin Tahsin', 'date': '2020-09-08T03:44:53.680-0700'}, {'assignee': 'Moumita Asad', 'date': '2020-09-08T03:42:59.028-0700'}, {'assignee': 'Mridha Md. Nafis Fuad', 'date': '2020-09-05T03:57:46.757-0700'}], 'icse': [{'assignee': 'Moumita Asad', 'date': '2020-09-08T03:58:33.865-0700'}], 'related': [{'assignee': 'Noshin Tahsin', 'date': '2020-09-08T03:44:53.680-0700'}, {'assignee': 'Moumita Asad', 'date': '2020-09-08T03:42:59.028-0700'}], 'regression': [{'assignee': 'Moumita Asad', 'date': '2020-09-08T03:58:33.865-0700'}, {'assignee': 'Noshin Tahsin', 'date': '2020-09-08T03:58:02.767-0700'}], 'analysis': [{'assignee': 'Moumita Asad', 'date': '2020-09-08T03:58:33.865-0700'}, {'assignee': 'Noshin Tahsin', 'date': '2020-09-08T03:58:02.767-0700'}], 'data': [{'assignee': 'Noshin Tahsin', 'date': '2020-09-08T03:58:02.767-0700'}, {'assignee': 'Noshin Tahsin', 'date': '2020-09-08T03:55:48.827-0700'}, {'assignee': 'Mridha Md. Nafis Fuad', 'date': '2020-09-08T03:54:32.405-0700'}, {'assignee': 'Noshin Tahsin', 'date': '2020-09-08T03:53:42.167-0700'}, {'assignee': 'Toukir Ahammed', 'date': '2020-09-08T03:53:11.871-0700'}]}\n"
     ]
    }
   ],
   "source": [
    "print(newterm_dev_map)"
   ]
  },
  {
   "cell_type": "code",
   "execution_count": 93,
   "metadata": {},
   "outputs": [
    {
     "name": "stdout",
     "output_type": "stream",
     "text": [
      "{'Moumita Asad': {'explore': {'devcount': 1, 'lastuse': '2020-09-08T03:42:59.028-0700'}, 'literature': {'devcount': 1, 'lastuse': '2020-09-08T03:42:59.028-0700'}, 'find': {'devcount': 1, 'lastuse': '2020-09-08T03:42:59.028-0700'}, 'paper': {'devcount': 2, 'lastuse': '2020-09-05T03:57:46.757-0700'}, 'icse': {'devcount': 1, 'lastuse': '2020-09-08T03:58:33.865-0700'}, 'related': {'devcount': 1, 'lastuse': '2020-09-08T03:42:59.028-0700'}, 'regression': {'devcount': 1, 'lastuse': '2020-09-08T03:58:02.767-0700'}, 'analysis': {'devcount': 1, 'lastuse': '2020-09-08T03:58:02.767-0700'}}}\n",
      "{'Moumita Asad': {'explore': {'devcount': 1, 'lastuse': '2020-09-08T03:42:59.028-0700'}, 'literature': {'devcount': 1, 'lastuse': '2020-09-08T03:42:59.028-0700'}, 'find': {'devcount': 1, 'lastuse': '2020-09-08T03:42:59.028-0700'}, 'paper': {'devcount': 2, 'lastuse': '2020-09-05T03:57:46.757-0700'}, 'icse': {'devcount': 1, 'lastuse': '2020-09-08T03:58:33.865-0700'}, 'related': {'devcount': 1, 'lastuse': '2020-09-08T03:42:59.028-0700'}, 'regression': {'devcount': 1, 'lastuse': '2020-09-08T03:58:02.767-0700'}, 'analysis': {'devcount': 1, 'lastuse': '2020-09-08T03:58:02.767-0700'}}, 'Noshin Tahsin': {'find': {'devcount': 1, 'lastuse': '2020-09-08T03:42:59.028-0700'}, 'paper': {'devcount': 2, 'lastuse': '2020-09-05T03:57:46.757-0700'}, 'related': {'devcount': 1, 'lastuse': '2020-09-08T03:42:59.028-0700'}, 'regression': {'devcount': 1, 'lastuse': '2020-09-08T03:58:02.767-0700'}, 'analysis': {'devcount': 1, 'lastuse': '2020-09-08T03:58:02.767-0700'}, 'data': {'devcount': 3, 'lastuse': '2020-09-08T03:53:11.871-0700'}}}\n",
      "{'Moumita Asad': {'explore': {'devcount': 1, 'lastuse': '2020-09-08T03:42:59.028-0700'}, 'literature': {'devcount': 1, 'lastuse': '2020-09-08T03:42:59.028-0700'}, 'find': {'devcount': 1, 'lastuse': '2020-09-08T03:42:59.028-0700'}, 'paper': {'devcount': 2, 'lastuse': '2020-09-05T03:57:46.757-0700'}, 'icse': {'devcount': 1, 'lastuse': '2020-09-08T03:58:33.865-0700'}, 'related': {'devcount': 1, 'lastuse': '2020-09-08T03:42:59.028-0700'}, 'regression': {'devcount': 1, 'lastuse': '2020-09-08T03:58:02.767-0700'}, 'analysis': {'devcount': 1, 'lastuse': '2020-09-08T03:58:02.767-0700'}}, 'Noshin Tahsin': {'find': {'devcount': 1, 'lastuse': '2020-09-08T03:42:59.028-0700'}, 'paper': {'devcount': 2, 'lastuse': '2020-09-05T03:57:46.757-0700'}, 'related': {'devcount': 1, 'lastuse': '2020-09-08T03:42:59.028-0700'}, 'regression': {'devcount': 1, 'lastuse': '2020-09-08T03:58:02.767-0700'}, 'analysis': {'devcount': 1, 'lastuse': '2020-09-08T03:58:02.767-0700'}, 'data': {'devcount': 3, 'lastuse': '2020-09-08T03:53:11.871-0700'}}, 'Mridha Md. Nafis Fuad': {'tool': {'devcount': 1, 'lastuse': '2020-09-05T03:57:46.757-0700'}, 'paper': {'devcount': 1, 'lastuse': '2020-09-05T03:57:46.757-0700'}, 'data': {'devcount': 1, 'lastuse': '2020-09-08T03:53:11.871-0700'}}}\n",
      "{'Moumita Asad': {'explore': {'devcount': 1, 'lastuse': '2020-09-08T03:42:59.028-0700'}, 'literature': {'devcount': 1, 'lastuse': '2020-09-08T03:42:59.028-0700'}, 'find': {'devcount': 1, 'lastuse': '2020-09-08T03:42:59.028-0700'}, 'paper': {'devcount': 2, 'lastuse': '2020-09-05T03:57:46.757-0700'}, 'icse': {'devcount': 1, 'lastuse': '2020-09-08T03:58:33.865-0700'}, 'related': {'devcount': 1, 'lastuse': '2020-09-08T03:42:59.028-0700'}, 'regression': {'devcount': 1, 'lastuse': '2020-09-08T03:58:02.767-0700'}, 'analysis': {'devcount': 1, 'lastuse': '2020-09-08T03:58:02.767-0700'}}, 'Noshin Tahsin': {'find': {'devcount': 1, 'lastuse': '2020-09-08T03:42:59.028-0700'}, 'paper': {'devcount': 2, 'lastuse': '2020-09-05T03:57:46.757-0700'}, 'related': {'devcount': 1, 'lastuse': '2020-09-08T03:42:59.028-0700'}, 'regression': {'devcount': 1, 'lastuse': '2020-09-08T03:58:02.767-0700'}, 'analysis': {'devcount': 1, 'lastuse': '2020-09-08T03:58:02.767-0700'}, 'data': {'devcount': 3, 'lastuse': '2020-09-08T03:53:11.871-0700'}}, 'Mridha Md. Nafis Fuad': {'tool': {'devcount': 1, 'lastuse': '2020-09-05T03:57:46.757-0700'}, 'paper': {'devcount': 1, 'lastuse': '2020-09-05T03:57:46.757-0700'}, 'data': {'devcount': 1, 'lastuse': '2020-09-08T03:53:11.871-0700'}}, 'Toukir Ahammed': {'data': {'devcount': 1, 'lastuse': '2020-09-08T03:53:11.871-0700'}}}\n",
      "{'Moumita Asad': {'explore': {'devcount': 1, 'lastuse': '2020-09-08T03:42:59.028-0700'}, 'literature': {'devcount': 1, 'lastuse': '2020-09-08T03:42:59.028-0700'}, 'find': {'devcount': 1, 'lastuse': '2020-09-08T03:42:59.028-0700'}, 'paper': {'devcount': 2, 'lastuse': '2020-09-05T03:57:46.757-0700'}, 'icse': {'devcount': 1, 'lastuse': '2020-09-08T03:58:33.865-0700'}, 'related': {'devcount': 1, 'lastuse': '2020-09-08T03:42:59.028-0700'}, 'regression': {'devcount': 1, 'lastuse': '2020-09-08T03:58:02.767-0700'}, 'analysis': {'devcount': 1, 'lastuse': '2020-09-08T03:58:02.767-0700'}}, 'Noshin Tahsin': {'find': {'devcount': 1, 'lastuse': '2020-09-08T03:42:59.028-0700'}, 'paper': {'devcount': 2, 'lastuse': '2020-09-05T03:57:46.757-0700'}, 'related': {'devcount': 1, 'lastuse': '2020-09-08T03:42:59.028-0700'}, 'regression': {'devcount': 1, 'lastuse': '2020-09-08T03:58:02.767-0700'}, 'analysis': {'devcount': 1, 'lastuse': '2020-09-08T03:58:02.767-0700'}, 'data': {'devcount': 3, 'lastuse': '2020-09-08T03:53:11.871-0700'}}, 'Mridha Md. Nafis Fuad': {'tool': {'devcount': 1, 'lastuse': '2020-09-05T03:57:46.757-0700'}, 'paper': {'devcount': 1, 'lastuse': '2020-09-05T03:57:46.757-0700'}, 'data': {'devcount': 1, 'lastuse': '2020-09-08T03:53:11.871-0700'}}, 'Toukir Ahammed': {'data': {'devcount': 1, 'lastuse': '2020-09-08T03:53:11.871-0700'}}, 'A. T. M. Fazlay Rabbi': {}}\n"
     ]
    }
   ],
   "source": [
    "dev_termInfo={}\n",
    "newterm_dev_list =[]\n",
    "newterm_dev_date = []\n",
    "\n",
    "for dev in available_devlist:\n",
    "    #print(dev)\n",
    "    term_info={}\n",
    "    #check if he has used a newterm and get the newterm\n",
    "    for key in newterm_dev_map:\n",
    "        new_time_diff=798798090\n",
    "        newterm_dev_list =[]\n",
    "        term_list_len = len(newterm_dev_map[key])\n",
    "        for i in range (0,term_list_len):\n",
    "            #print(newterm_dev_map[nterm][i])\n",
    "            newterm_dev_list.append(newterm_dev_map[key][i]['assignee'])\n",
    "            newterm_dev_date.append(newterm_dev_map[key][i]['date'])\n",
    "            \n",
    "        if dev in newterm_dev_list:\n",
    "            #now i need the key-key is the newterm\n",
    "            #calculate term info for the key\n",
    "            #just need the fixfrequency\n",
    "            #how many times dev is in newterm_dev_map[key]\n",
    "            devnames=newterm_dev_list       \n",
    "            #print(devnames)\n",
    "            dev_count=devnames.count(dev)\n",
    "            #print(key)\n",
    "            #print(dev_count)\n",
    "            #List-devcount,termusedate\n",
    "            for d in newterm_dev_date:\n",
    "                datetrack=d\n",
    "                #ekhn er date thke shb thke kache jeta first e init inf diye\n",
    "                current_time_converted = datetime.strptime(current_time,'%Y-%m-%dT%H:%M:%S.%f%z')\n",
    "                datetrack_converted = datetime.strptime(datetrack,'%Y-%m-%dT%H:%M:%S.%f%z')\n",
    "            \n",
    "                time_diff = current_time_converted - datetrack_converted\n",
    "                if(time_diff.days<new_time_diff):\n",
    "                    kept_datetrack = datetrack \n",
    "                \n",
    "            devcount_lastuse = {}\n",
    "            devcount_lastuse['devcount']=dev_count\n",
    "            devcount_lastuse['lastuse']=kept_datetrack\n",
    "            \n",
    "            term_info[key]=devcount_lastuse #add term_use_date : last fixing time of a term by a developer\n",
    "            #print(term_info)\n",
    "            \n",
    "    dev_termInfo[dev]=term_info\n",
    "\n",
    "    print(dev_termInfo)"
   ]
  },
  {
   "cell_type": "code",
   "execution_count": 94,
   "metadata": {
    "scrolled": true
   },
   "outputs": [
    {
     "name": "stdout",
     "output_type": "stream",
     "text": [
      "Moumita Asad  =>  {'explore': {'devcount': 1, 'lastuse': '2020-09-08T03:42:59.028-0700'}, 'literature': {'devcount': 1, 'lastuse': '2020-09-08T03:42:59.028-0700'}, 'find': {'devcount': 1, 'lastuse': '2020-09-08T03:42:59.028-0700'}, 'paper': {'devcount': 2, 'lastuse': '2020-09-05T03:57:46.757-0700'}, 'icse': {'devcount': 1, 'lastuse': '2020-09-08T03:58:33.865-0700'}, 'related': {'devcount': 1, 'lastuse': '2020-09-08T03:42:59.028-0700'}, 'regression': {'devcount': 1, 'lastuse': '2020-09-08T03:58:02.767-0700'}, 'analysis': {'devcount': 1, 'lastuse': '2020-09-08T03:58:02.767-0700'}}\n",
      "Noshin Tahsin  =>  {'find': {'devcount': 1, 'lastuse': '2020-09-08T03:42:59.028-0700'}, 'paper': {'devcount': 2, 'lastuse': '2020-09-05T03:57:46.757-0700'}, 'related': {'devcount': 1, 'lastuse': '2020-09-08T03:42:59.028-0700'}, 'regression': {'devcount': 1, 'lastuse': '2020-09-08T03:58:02.767-0700'}, 'analysis': {'devcount': 1, 'lastuse': '2020-09-08T03:58:02.767-0700'}, 'data': {'devcount': 3, 'lastuse': '2020-09-08T03:53:11.871-0700'}}\n",
      "Mridha Md. Nafis Fuad  =>  {'tool': {'devcount': 1, 'lastuse': '2020-09-05T03:57:46.757-0700'}, 'paper': {'devcount': 1, 'lastuse': '2020-09-05T03:57:46.757-0700'}, 'data': {'devcount': 1, 'lastuse': '2020-09-08T03:53:11.871-0700'}}\n",
      "Toukir Ahammed  =>  {'data': {'devcount': 1, 'lastuse': '2020-09-08T03:53:11.871-0700'}}\n",
      "A. T. M. Fazlay Rabbi  =>  {}\n"
     ]
    }
   ],
   "source": [
    "for key,value in dev_termInfo.items():\n",
    "    print(key,\" => \",value)\n",
    "#Moumita Asad  =>  {'data': 2, (date last worked)}\n",
    "#now i have the complex map of dev term term-info"
   ]
  },
  {
   "cell_type": "code",
   "execution_count": 95,
   "metadata": {},
   "outputs": [
    {
     "name": "stdout",
     "output_type": "stream",
     "text": [
      "{'explore': {'devcount': 1, 'lastuse': '2020-09-08T03:42:59.028-0700'}, 'literature': {'devcount': 1, 'lastuse': '2020-09-08T03:42:59.028-0700'}, 'find': {'devcount': 1, 'lastuse': '2020-09-08T03:42:59.028-0700'}, 'paper': {'devcount': 2, 'lastuse': '2020-09-05T03:57:46.757-0700'}, 'icse': {'devcount': 1, 'lastuse': '2020-09-08T03:58:33.865-0700'}, 'related': {'devcount': 1, 'lastuse': '2020-09-08T03:42:59.028-0700'}, 'regression': {'devcount': 1, 'lastuse': '2020-09-08T03:58:02.767-0700'}, 'analysis': {'devcount': 1, 'lastuse': '2020-09-08T03:58:02.767-0700'}}\n",
      "{'find': {'devcount': 1, 'lastuse': '2020-09-08T03:42:59.028-0700'}, 'paper': {'devcount': 2, 'lastuse': '2020-09-05T03:57:46.757-0700'}, 'related': {'devcount': 1, 'lastuse': '2020-09-08T03:42:59.028-0700'}, 'regression': {'devcount': 1, 'lastuse': '2020-09-08T03:58:02.767-0700'}, 'analysis': {'devcount': 1, 'lastuse': '2020-09-08T03:58:02.767-0700'}, 'data': {'devcount': 3, 'lastuse': '2020-09-08T03:53:11.871-0700'}}\n",
      "{'tool': {'devcount': 1, 'lastuse': '2020-09-05T03:57:46.757-0700'}, 'paper': {'devcount': 1, 'lastuse': '2020-09-05T03:57:46.757-0700'}, 'data': {'devcount': 1, 'lastuse': '2020-09-08T03:53:11.871-0700'}}\n",
      "{'data': {'devcount': 1, 'lastuse': '2020-09-08T03:53:11.871-0700'}}\n",
      "{}\n",
      "\n",
      "SCORE: \n",
      "{'Moumita Asad': 9.861273361263468, 'Noshin Tahsin': 4.662935793778088, 'Mridha Md. Nafis Fuad': 3.3106469422645524, 'Toukir Ahammed': 0.30679909853038445, 'A. T. M. Fazlay Rabbi': 0}\n"
     ]
    }
   ],
   "source": [
    "import time\n",
    "from datetime import datetime, timedelta\n",
    "\n",
    "prediction_list=[]\n",
    "\n",
    "def devFixFreq(term):\n",
    "    dev_use_count=0\n",
    "    for dev in assignee_terms_map:\n",
    "        terms_used=assignee_terms_map[dev]\n",
    "        if term in terms_used:#if term in terms used keylist\n",
    "            dev_use_count=dev_use_count+1\n",
    "    return dev_use_count\n",
    "    \n",
    "dev_score={} \n",
    "for key in dev_termInfo:\n",
    "    expertise=0\n",
    "    termInfo=dev_termInfo[key]\n",
    "    print(termInfo)\n",
    "    for each_term in termInfo:\n",
    "        term_freq=termInfo[each_term]['devcount']\n",
    "        term_using_date_latest = termInfo[each_term]['lastuse']\n",
    "        #print(info_term)\n",
    "        #print(term_freq)\n",
    "        ##dev=number of devs in the project \n",
    "        #len(available_devlist)\n",
    "        \n",
    "        #devfixfreq() : returns numof devs who fixed the term related bugs\n",
    "        num_of_devs=len(available_devlist)\n",
    "        tfIdf=term_freq*math.log(num_of_devs/devFixFreq(each_term))\n",
    "        #difff = new issue creation - term using date\n",
    "       \n",
    "        c_new_issue_creation_date = datetime.strptime(new_issue_creation_date,'%Y-%m-%dT%H:%M:%S.%f%z')\n",
    "        c_term_using_date_latest = datetime.strptime(term_using_date_latest,'%Y-%m-%dT%H:%M:%S.%f%z')\n",
    "\n",
    "        difff = c_new_issue_creation_date - c_term_using_date_latest\n",
    "        #print(difff.days)\n",
    "        if difff.days!=0:\n",
    "            fix_date=(1/devFixFreq(each_term))+(1/(difff.days**(1/2)))\n",
    "        else:\n",
    "            difff = 14 #one-sprint\n",
    "            fix_date=(1/devFixFreq(each_term))+(1/(difff**(1/2)))\n",
    "        expertise+=tfIdf*fix_date\n",
    "    #end of for\n",
    "    dev_score[key]=expertise\n",
    "#end of for\n",
    "print(\"\\nSCORE: \")\n",
    "print(dev_score)\n",
    "    "
   ]
  },
  {
   "cell_type": "code",
   "execution_count": 100,
   "metadata": {},
   "outputs": [
    {
     "name": "stdout",
     "output_type": "stream",
     "text": [
      "Moumita Asad  :: 9.861273361263468\n",
      "Noshin Tahsin  :: 4.662935793778088\n",
      "Mridha Md. Nafis Fuad  :: 3.3106469422645524\n",
      "Toukir Ahammed  :: 0.30679909853038445\n",
      "A. T. M. Fazlay Rabbi  :: 0\n"
     ]
    }
   ],
   "source": [
    "sorted_dev_score = sorted(dev_score.items() , reverse=True, key=lambda x: x[1])\n",
    "# Iterate over the sorted sequence\n",
    "scoreList = []\n",
    "for elem in sorted_dev_score :\n",
    "    print(elem[0] , \" ::\" , elem[1] )\n",
    "    scoreList.append(elem[1])"
   ]
  },
  {
   "cell_type": "code",
   "execution_count": 101,
   "metadata": {},
   "outputs": [
    {
     "name": "stdout",
     "output_type": "stream",
     "text": [
      "Moumita Asad\n",
      "Account ID\n",
      "5f5764e4bea5be0068101b9a\n",
      "\n",
      "\n",
      "Noshin Tahsin\n",
      "Account ID\n",
      "5e299526bf04010e70c42927\n",
      "\n",
      "\n",
      "Mridha Md. Nafis Fuad\n",
      "Account ID\n",
      "5ae1622f027e7a2ebfcc12d1\n",
      "\n",
      "\n",
      "Toukir Ahammed\n",
      "Account ID\n",
      "5ca99ba2e929a772795e4ac9\n",
      "\n",
      "\n",
      "A. T. M. Fazlay Rabbi\n",
      "Account ID\n",
      "5e9412627bc0680c2ca4dd39\n",
      "\n",
      "\n",
      "['Moumita Asad', 'Noshin Tahsin', 'Mridha Md. Nafis Fuad', 'Toukir Ahammed', 'A. T. M. Fazlay Rabbi']\n",
      "['5f5764e4bea5be0068101b9a', '5e299526bf04010e70c42927', '5ae1622f027e7a2ebfcc12d1', '5ca99ba2e929a772795e4ac9', '5e9412627bc0680c2ca4dd39']\n"
     ]
    }
   ],
   "source": [
    "a=[]\n",
    "a_id=[]\n",
    "for i in range (0,len(sorted_dev_score)):\n",
    "    a.append(sorted_dev_score[i][0])\n",
    "    a_id.append(account_id_map[sorted_dev_score[i][0]])\n",
    "    print(sorted_dev_score[i][0])\n",
    "    print(\"Account ID\")\n",
    "    print(account_id_map[sorted_dev_score[i][0]])\n",
    "    print(\"\\n\")\n",
    "\n",
    "print(a)\n",
    "print(a_id)"
   ]
  },
  {
   "cell_type": "code",
   "execution_count": 104,
   "metadata": {},
   "outputs": [
    {
     "name": "stdout",
     "output_type": "stream",
     "text": [
      "[{'project_id': 'C1R', 'issue_id': 'C1R-12', 'suggestion_list_id': ['5f5764e4bea5be0068101b9a', '5e299526bf04010e70c42927', '5ae1622f027e7a2ebfcc12d1', '5ca99ba2e929a772795e4ac9', '5e9412627bc0680c2ca4dd39'], 'suggestion_list_name': ['Moumita Asad', 'Noshin Tahsin', 'Mridha Md. Nafis Fuad', 'Toukir Ahammed', 'A. T. M. Fazlay Rabbi'], 'score_list': [9.861273361263468, 4.662935793778088, 3.3106469422645524, 0.30679909853038445, 0], 'assignee_id': '5f5764e4bea5be0068101b9a', 'assignee_name': 'Moumita Asad', 'assigning_date': '2021-04-01T06:20:38.521479'}]\n"
     ]
    }
   ],
   "source": [
    "db_suggestion_list = []\n",
    "temp_dict={}\n",
    "#project_id: ‘RP’\n",
    "#issue_id: ‘RP-1’\n",
    "project_id = new_issue_key.split('-')\n",
    "temp_dict['project_id'] = project_id[0]\n",
    "temp_dict['issue_id'] = new_issue_key\n",
    "temp_dict['suggestion_list_id'] = a_id\n",
    "temp_dict['suggestion_list_name'] = a\n",
    "temp_dict['score_list'] = scoreList\n",
    "temp_dict['assignee_id'] = a_id[0]\n",
    "temp_dict['assignee_name'] = a[0]\n",
    "temp_dict['assigning_date'] = currentTime\n",
    "db_suggestion_list.append(temp_dict)\n",
    "\n",
    "print(db_suggestion_list)\n",
    "\n",
    "mycol = mydb[\"Suggestions\"]\n",
    "x = mycol.insert_many(db_suggestion_list)"
   ]
  },
  {
   "cell_type": "code",
   "execution_count": null,
   "metadata": {},
   "outputs": [],
   "source": []
  }
 ],
 "metadata": {
  "kernelspec": {
   "display_name": "Python 3",
   "language": "python",
   "name": "python3"
  },
  "language_info": {
   "codemirror_mode": {
    "name": "ipython",
    "version": 3
   },
   "file_extension": ".py",
   "mimetype": "text/x-python",
   "name": "python",
   "nbconvert_exporter": "python",
   "pygments_lexer": "ipython3",
   "version": "3.8.5"
  }
 },
 "nbformat": 4,
 "nbformat_minor": 4
}
