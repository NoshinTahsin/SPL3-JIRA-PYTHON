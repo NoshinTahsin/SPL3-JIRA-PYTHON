{
 "cells": [
  {
   "cell_type": "code",
   "execution_count": 2,
   "metadata": {},
   "outputs": [],
   "source": [
    "from jira import JIRA\n",
    "jira = JIRA(basic_auth=('bsse0914@iit.du.ac.bd', 'MbaYDePZRnDgAdL062r83605'), options={'server':'https://pg-req.atlassian.net'})"
   ]
  },
  {
   "cell_type": "code",
   "execution_count": 13,
   "metadata": {},
   "outputs": [
    {
     "name": "stdout",
     "output_type": "stream",
     "text": [
      "issue status:  Done\n",
      "creation date:  2020-09-06T09:29:11.791-0700\n",
      "resolution date: 2021-02-22T09:37:09.508-0800\n",
      "2021-02-22 09:37:09\n"
     ]
    }
   ],
   "source": [
    "import time\n",
    "from datetime import datetime, timedelta\n",
    "issue=jira.issue('SAAJ-4')\n",
    "print(\"issue status: \",issue.fields.status.name)\n",
    "creation_date = issue.fields.created\n",
    "print(\"creation date: \",creation_date)\n",
    "resolution_date=issue.fields.resolutiondate\n",
    "print(\"resolution date:\",resolution_date)\n",
    "\n",
    "print(datetime.strptime(resolution_date[:19], \"%Y-%m-%dT%H:%M:%S\"))"
   ]
  },
  {
   "cell_type": "code",
   "execution_count": 8,
   "metadata": {},
   "outputs": [
    {
     "name": "stdout",
     "output_type": "stream",
     "text": [
      "2021-04-03T06:09:08.289270\n"
     ]
    }
   ],
   "source": [
    "now = datetime.now()\n",
    "currentTime = now.strftime(\"%Y-%m-%dT%H:%M:%S.%f%z\")\n",
    "print(currentTime)"
   ]
  },
  {
   "cell_type": "code",
   "execution_count": 4,
   "metadata": {},
   "outputs": [
    {
     "name": "stdout",
     "output_type": "stream",
     "text": [
      "2020-09-06 09:29:11.791000-07:00\n",
      "2021-02-22 09:37:09.508000-08:00\n",
      "169 days, 1:07:57.717000\n",
      "169\n"
     ]
    }
   ],
   "source": [
    "import time\n",
    "from datetime import datetime, timedelta\n",
    "\n",
    "creation_date = datetime.strptime(creation_date,'%Y-%m-%dT%H:%M:%S.%f%z')\n",
    "print(creation_date)\n",
    "resolution_date = datetime.strptime(resolution_date,'%Y-%m-%dT%H:%M:%S.%f%z')\n",
    "print(resolution_date)\n",
    "\n",
    "dt=resolution_date-creation_date\n",
    "print(dt)\n",
    "print(dt.days)"
   ]
  },
  {
   "cell_type": "code",
   "execution_count": null,
   "metadata": {},
   "outputs": [],
   "source": []
  }
 ],
 "metadata": {
  "kernelspec": {
   "display_name": "Python 3",
   "language": "python",
   "name": "python3"
  },
  "language_info": {
   "codemirror_mode": {
    "name": "ipython",
    "version": 3
   },
   "file_extension": ".py",
   "mimetype": "text/x-python",
   "name": "python",
   "nbconvert_exporter": "python",
   "pygments_lexer": "ipython3",
   "version": "3.8.5"
  }
 },
 "nbformat": 4,
 "nbformat_minor": 4
}
