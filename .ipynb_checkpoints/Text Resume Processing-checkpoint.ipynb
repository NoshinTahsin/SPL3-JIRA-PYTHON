{
 "cells": [
  {
   "cell_type": "code",
   "execution_count": 28,
   "metadata": {},
   "outputs": [],
   "source": [
    "import json\n",
    "import nltk\n",
    "import math\n",
    "from nltk.corpus import stopwords\n",
    "from nltk.tokenize import word_tokenize\n",
    "#stemming\n",
    "from nltk.stem import PorterStemmer\n",
    "from nltk.stem import WordNetLemmatizer\n",
    "import re\n",
    "import string \n",
    "def remove_punctuation(text):\n",
    "    no_punc = \"\".join([c for c in text if c not in string.punctuation])\n",
    "    return no_punc.lower()\n",
    "\n",
    "def tokenize(text):\n",
    "    pattern = r'[0-9]'\n",
    "    # Match all digits in the string and replace them by empty string\n",
    "    text = re.sub(pattern, '', text)\n",
    "    #print(text)\n",
    "    \n",
    "    stop_words = set(stopwords.words('english'))\n",
    "    word_tokens = word_tokenize(text)\n",
    "    porter_stemmer= PorterStemmer()\n",
    "    lemmatizer=WordNetLemmatizer()\n",
    "\n",
    "    filtered_sentence = [w for w in word_tokens if not w in stop_words]\n",
    "    \n",
    "    terms_list = []\n",
    "    #stemmed_sentence = []\n",
    "\n",
    "    #Stemming is a little more aggressive. It cuts off prefixes and/or endings of words\n",
    "    #based on common ones. It can sometimes be helpful, but not always because often times \n",
    "    #the new word is so much a root that it loses its actual meaning. \n",
    "    #Lemmatizing, on the other hand, maps common words into one base. \n",
    "    #Unlike stemming though, it always still returns a proper word that can be found in the dictionary.\n",
    "    for w in word_tokens:\n",
    "        if w not in stop_words:\n",
    "            #w=porter_stemmer.stem(w)\n",
    "            w=lemmatizer.lemmatize(w)\n",
    "            terms_list.append(w)\n",
    "\n",
    "    #print(word_tokens)\n",
    "    #print(\"terms list\")\n",
    "    #print(terms_list)\n",
    "    \n",
    "    return terms_list"
   ]
  },
  {
   "cell_type": "code",
   "execution_count": 29,
   "metadata": {},
   "outputs": [
    {
     "name": "stdout",
     "output_type": "stream",
     "text": [
      "['skill', 'programming', 'language', 'c', 'c', 'java', 'python', 'scripting', 'language', 'javascript', 'frontend', 'html', 'cs', 'bootstrap', 'material', 'bootstrap', 'backend', 'mysql', 'php', 'framework', 'django', 'project', 'experience', 'partocalc', 'app', 'app', 'receives', 'voice', 'command', 'user', 'midwife', 'nurse', 'develops', 'partograph', 'composite', 'graph', 'used', 'rural', 'area', 'labor', 'keep', 'track', 'motherâ€™s', 'condition', 'project', 'funded', 'terre', 'de', 'hommes', 'foundation', 'swedish', 'organization', 'part', 'project', 'also', 'done', 'real', 'life', 'testing', 'app', 'nurse', 'midwife', 'kurigram', 'simple', 'sql', 'engine', 'engine', 'able', 'create', 'table', 'database', 'insert', 'delete', 'update', 'row', 'table', 'make', 'query', 'using', 'select', 'command', 'brac', 'repository', 'done', 'bracathon', 'task', 'develop', 'repository', 'managing', 'document', 'brac', 'include', 'feature', 'like', 'efficient', 'searching', 'document', 'management', 'upload', 'download', 'view', 'many', 'designed', 'ui', 'project', 'ui', 'website', 'iit', 'debating', 'club', 'project', 'web', 'technology', 'course', 'testing', 'project', 'unit', 'testing', 'project', 'general', 'fixture', 'test', 'smell', 'detection', 'tool', 'detect', 'presence', 'general', 'fixture', 'test', 'smell', 'given', 'java', 'code', 'spamham', 'detection', 'python', 'detect', 'whether', 'email', 'spam', 'ham', 'skin', 'detection', 'python', 'detect', 'human', 'skin', 'input', 'image', 'ai', 'project', 'connect', 'game', 'ai', 'project', 'wumpusworld', 'game', 'ai', 'project', 'bangla', 'sign', 'language', 'detection', 'python', 'given', 'image', 'input', 'detect', 'corresponding', 'letter']\n"
     ]
    }
   ],
   "source": [
    "# load data\n",
    "filename = 'C:/Users/ASUS/Desktop/SPL3/Resume/Resume0914.txt'\n",
    "file = open(filename, 'rt')\n",
    "text = file.read()\n",
    "file.close()\n",
    "\n",
    "text=remove_punctuation(text)\n",
    "bad_chars=['!','@', '#', '$','%', '^', '&','*','(',')','-','+','\\']\n",
    "text = ''.join(i for i in text if not i in bad_chars)\n",
    "tokenized_text=tokenize(text)\n",
    "print(tokenized_text)"
   ]
  },
  {
   "cell_type": "code",
   "execution_count": null,
   "metadata": {},
   "outputs": [],
   "source": []
  }
 ],
 "metadata": {
  "kernelspec": {
   "display_name": "Python 3",
   "language": "python",
   "name": "python3"
  },
  "language_info": {
   "codemirror_mode": {
    "name": "ipython",
    "version": 3
   },
   "file_extension": ".py",
   "mimetype": "text/x-python",
   "name": "python",
   "nbconvert_exporter": "python",
   "pygments_lexer": "ipython3",
   "version": "3.8.5"
  }
 },
 "nbformat": 4,
 "nbformat_minor": 4
}
