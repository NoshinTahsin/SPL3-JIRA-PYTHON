{
 "cells": [
  {
   "cell_type": "code",
   "execution_count": 1,
   "metadata": {},
   "outputs": [],
   "source": [
    "from jira import JIRA\n",
    "\n",
    "jira = JIRA(basic_auth=('bsse0914@iit.du.ac.bd', 'MbaYDePZRnDgAdL062r83605'), options={'server':'https://pg-req.atlassian.net'})\n",
    "\n",
    "#print(jira)\n",
    "#issue = jira.issue('ADF-14')\n",
    "#print(issue.fields.project.key) \n",
    "##print(issue.fields.issuetype.name) \n",
    "#print(issue.fields.reporter.displayName)\n",
    "#print(issue.fields.summary)\n",
    "#print(issue.fields.comment.comments)"
   ]
  },
  {
   "cell_type": "code",
   "execution_count": 2,
   "metadata": {},
   "outputs": [
    {
     "name": "stdout",
     "output_type": "stream",
     "text": [
      "2\n"
     ]
    }
   ],
   "source": [
    "projects = jira.projects()\n",
    "print(len(projects))\n",
    "\n",
    "#for p in projects:\n",
    " #   print(p.key)\n",
    "  #  issues_in_proj = jira.search_issues(p.key)\n",
    "   # print(issues_in_proj)"
   ]
  },
  {
   "cell_type": "code",
   "execution_count": 6,
   "metadata": {},
   "outputs": [
    {
     "name": "stdout",
     "output_type": "stream",
     "text": [
      "SAAJ-1\n"
     ]
    }
   ],
   "source": [
    "issues_in_proj = jira.search_issues('project=SAAJ')\n",
    "print(issues_in_proj[2])"
   ]
  },
  {
   "cell_type": "code",
   "execution_count": 7,
   "metadata": {},
   "outputs": [
    {
     "name": "stdout",
     "output_type": "stream",
     "text": [
      "Design the UI for the Jira addon using ACE framework\n"
     ]
    }
   ],
   "source": [
    "issue=jira.issue('SEST-3')\n",
    "print(issue.fields.description)"
   ]
  },
  {
   "cell_type": "code",
   "execution_count": 10,
   "metadata": {},
   "outputs": [
    {
     "name": "stdout",
     "output_type": "stream",
     "text": [
      "#######ITERATION#######\n",
      "SAAJ\n",
      "SAAJ-3\n",
      "ticket-no= SAAJ-3\n",
      "IssueType= Story\n",
      "Status= To Do\n",
      "Summary= UI for the new page\n",
      "Description= Design the UI for the Jira addon using ACE  \n",
      "Assignee= None\n",
      "SAAJ-2\n",
      "ticket-no= SAAJ-2\n",
      "IssueType= Story\n",
      "Status= To Do\n",
      "Summary= Python backend for assignee suggestion\n",
      "Description= For assignee suggestion, develop tha backend in python that will get all existing issues from all existing projects in Jira and then find the assignees with top score\n",
      "Assignee= Noshin Tahsin\n",
      "SAAJ-1\n",
      "ticket-no= SAAJ-1\n",
      "IssueType= Story\n",
      "Status= To Do\n",
      "Summary= UI of the addon\n",
      "Description= Design the UI for the Jira addon using ACE framework\n",
      "Assignee= Noshin Tahsin\n",
      "#######ITERATION#######\n",
      "SEST\n",
      "SEST-3\n",
      "ticket-no= SEST-3\n",
      "IssueType= Task\n",
      "Status= To Do\n",
      "Summary= Write a new tool paper\n",
      "Description= Write the methodology part\n",
      "Assignee= None\n",
      "SEST-2\n",
      "ticket-no= SEST-2\n",
      "IssueType= Task\n",
      "Status= To Do\n",
      "Summary= Write tool paper\n",
      "Description= Write the tool paper quickly. Methodology done. \n",
      "Assignee= Mridha Md. Nafis Fuad\n",
      "SEST-1\n",
      "ticket-no= SEST-1\n",
      "IssueType= Task\n",
      "Status= To Do\n",
      "Summary= 404 khay onek..solve kor\n",
      "Description= 404 error, need to solve this\n",
      "Assignee= Noshin Tahsin\n"
     ]
    }
   ],
   "source": [
    "projects = jira.projects()\n",
    "#print(projects)\n",
    "for p in projects:\n",
    "    pro_key='project='\n",
    "    pro_key+=str(p.key)\n",
    "    print(\"#######ITERATION#######\")\n",
    "    print(p.key)\n",
    "    project_key=pro_key\n",
    "    size = 100\n",
    "    initial = 0\n",
    "    while True:\n",
    "        start= initial*size\n",
    "        issues = jira.search_issues(project_key,  start,size)\n",
    "        if len(issues) == 0:\n",
    "            break\n",
    "        initial += 1\n",
    "        for issue in issues:\n",
    "            print(issue)\n",
    "            #print(issue.fields[0])\n",
    "            print('ticket-no=',issue)\n",
    "            print('IssueType=',issue.fields.issuetype.name)\n",
    "            print('Status=',issue.fields.status.name)\n",
    "            print('Summary=',issue.fields.summary)\n",
    "            print('Description=',issue.fields.description)\n",
    "            print('Assignee=',issue.fields.assignee)"
   ]
  },
  {
   "cell_type": "code",
   "execution_count": null,
   "metadata": {},
   "outputs": [],
   "source": []
  }
 ],
 "metadata": {
  "kernelspec": {
   "display_name": "Python 3",
   "language": "python",
   "name": "python3"
  },
  "language_info": {
   "codemirror_mode": {
    "name": "ipython",
    "version": 3
   },
   "file_extension": ".py",
   "mimetype": "text/x-python",
   "name": "python",
   "nbconvert_exporter": "python",
   "pygments_lexer": "ipython3",
   "version": "3.7.6"
  }
 },
 "nbformat": 4,
 "nbformat_minor": 4
}
