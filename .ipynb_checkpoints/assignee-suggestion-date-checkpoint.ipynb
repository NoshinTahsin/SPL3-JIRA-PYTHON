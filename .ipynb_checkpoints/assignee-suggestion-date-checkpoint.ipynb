{
 "cells": [
  {
   "cell_type": "code",
   "execution_count": 1,
   "metadata": {},
   "outputs": [],
   "source": [
    "import json\n",
    "import nltk\n",
    "import math\n",
    "from nltk.corpus import stopwords\n",
    "from nltk.tokenize import word_tokenize\n",
    "from nltk.stem import PorterStemmer\n",
    "from nltk.stem import WordNetLemmatizer"
   ]
  },
  {
   "cell_type": "code",
   "execution_count": 2,
   "metadata": {},
   "outputs": [],
   "source": [
    "#Python library for interacting with JIRA via REST APIs.\n",
    "from jira import JIRA\n",
    "#connect to the jira server using HTTP basic auth\n",
    "jira = JIRA(basic_auth=('bsse0914@iit.du.ac.bd', 'MbaYDePZRnDgAdL062r83605'), options={'server':'https://pg-req.atlassian.net'})"
   ]
  },
  {
   "cell_type": "code",
   "execution_count": 3,
   "metadata": {},
   "outputs": [
    {
     "name": "stdout",
     "output_type": "stream",
     "text": [
      "C1R\n",
      "12\n",
      "FAZ\n",
      "5\n",
      "FEP\n",
      "4\n",
      "RMS\n",
      "0\n",
      "SAAJ\n",
      "8\n",
      "29\n"
     ]
    }
   ],
   "source": [
    "projects = jira.projects()\n",
    "num_of_projects=len(projects)\n",
    "issueCount=0\n",
    "for i in range(0,num_of_projects):\n",
    "    print(projects[i])\n",
    "    #jql\n",
    "    issues_in_proj = jira.search_issues('project='+str(projects[i]))\n",
    "    print(len(issues_in_proj))\n",
    "    issueCount+=len(issues_in_proj)\n",
    "print(issueCount)"
   ]
  },
  {
   "cell_type": "code",
   "execution_count": 4,
   "metadata": {},
   "outputs": [],
   "source": [
    "import re\n",
    "import string \n",
    "def remove_punctuation(text):\n",
    "    no_punc = \"\".join([c for c in text if c not in string.punctuation])\n",
    "    return no_punc.lower()\n",
    "\n",
    "def tokenize(text):\n",
    "    stop_words = set(stopwords.words('english'))\n",
    "    word_tokens = word_tokenize(text)\n",
    "    porter_stemmer= PorterStemmer()\n",
    "    lemmatizer=WordNetLemmatizer()\n",
    "\n",
    "    filtered_sentence = [w for w in word_tokens if not w in stop_words]\n",
    "    terms_list = []\n",
    "    #stemmed_sentence = []\n",
    "    \n",
    "    #Stemming is a little more aggressive. It cuts off prefixes and/or endings of words\n",
    "    #based on common ones. It can sometimes be helpful, but not always because often times \n",
    "    #the new word is so much a root that it loses its actual meaning. \n",
    "    #Lemmatizing, on the other hand, maps common words into one base. \n",
    "    #Unlike stemming though, it always still returns a proper word that can be found in the dictionary.\n",
    "    for w in word_tokens:\n",
    "        if w not in stop_words:\n",
    "            #w=porter_stemmer.stem(w)\n",
    "            w=lemmatizer.lemmatize(w)\n",
    "            terms_list.append(w)\n",
    "\n",
    "    #print(word_tokens)\n",
    "    #print(\"terms list\")\n",
    "    #print(terms_list)\n",
    "    \n",
    "    return terms_list"
   ]
  },
  {
   "cell_type": "code",
   "execution_count": 5,
   "metadata": {},
   "outputs": [
    {
     "name": "stdout",
     "output_type": "stream",
     "text": [
      "140\n",
      "Final terms assignee map:\n",
      "{'write': [{'assignee': 'Moumita Asad', 'date': '2020-09-08T03:58:33.865-0700'}, {'assignee': 'Noshin Tahsin', 'date': '2020-09-08T03:57:26.760-0700'}, {'assignee': 'Moumita Asad', 'date': '2020-09-08T03:56:19.414-0700'}, {'assignee': 'Mridha Md. Nafis Fuad', 'date': '2020-09-05T03:57:46.757-0700'}], 'icse': [{'assignee': 'Moumita Asad', 'date': '2020-09-08T03:58:33.865-0700'}], 'paper': [{'assignee': 'Moumita Asad', 'date': '2020-09-08T03:58:33.865-0700'}, {'assignee': 'Noshin Tahsin', 'date': '2020-09-08T03:57:26.760-0700'}, {'assignee': 'Noshin Tahsin', 'date': '2020-09-08T03:44:53.680-0700'}, {'assignee': 'Moumita Asad', 'date': '2020-09-08T03:42:59.028-0700'}, {'assignee': 'Mridha Md. Nafis Fuad', 'date': '2020-09-05T03:57:46.757-0700'}], 'including': [{'assignee': 'Moumita Asad', 'date': '2020-09-08T03:58:33.865-0700'}], 'finding': [{'assignee': 'Moumita Asad', 'date': '2020-09-08T03:58:33.865-0700'}, {'assignee': 'Noshin Tahsin', 'date': '2020-09-08T03:57:26.760-0700'}], 'regression': [{'assignee': 'Moumita Asad', 'date': '2020-09-08T03:58:33.865-0700'}, {'assignee': 'Noshin Tahsin', 'date': '2020-09-08T03:58:02.767-0700'}], 'analysis': [{'assignee': 'Moumita Asad', 'date': '2020-09-08T03:58:33.865-0700'}, {'assignee': 'Noshin Tahsin', 'date': '2020-09-08T03:58:02.767-0700'}], 'data': [{'assignee': 'Noshin Tahsin', 'date': '2020-09-08T03:58:02.767-0700'}, {'assignee': 'Noshin Tahsin', 'date': '2020-09-08T03:55:48.827-0700'}, {'assignee': 'Mridha Md. Nafis Fuad', 'date': '2020-09-08T03:54:32.405-0700'}, {'assignee': 'Noshin Tahsin', 'date': '2020-09-08T03:53:42.167-0700'}, {'assignee': 'Toukir Ahammed', 'date': '2020-09-08T03:53:11.871-0700'}], 'far': [{'assignee': 'Noshin Tahsin', 'date': '2020-09-08T03:57:26.760-0700'}], 'arxiv': [{'assignee': 'Noshin Tahsin', 'date': '2020-09-08T03:57:26.760-0700'}], 'primary': [{'assignee': 'Moumita Asad', 'date': '2020-09-08T03:56:19.414-0700'}], 'demonstration': [{'assignee': 'Moumita Asad', 'date': '2020-09-08T03:56:19.414-0700'}], 'blog': [{'assignee': 'Moumita Asad', 'date': '2020-09-08T03:56:19.414-0700'}], 'productivity': [{'assignee': 'Moumita Asad', 'date': '2020-09-08T03:56:19.414-0700'}, {'assignee': 'Moumita Asad', 'date': '2020-09-08T03:42:59.028-0700'}], 'employee': [{'assignee': 'Moumita Asad', 'date': '2020-09-08T03:56:19.414-0700'}, {'assignee': 'Moumita Asad', 'date': '2020-09-08T03:42:59.028-0700'}], 'wfh': [{'assignee': 'Moumita Asad', 'date': '2020-09-08T03:56:19.414-0700'}], 'publish': [{'assignee': 'Moumita Asad', 'date': '2020-09-08T03:56:19.414-0700'}], 'dsse': [{'assignee': 'Moumita Asad', 'date': '2020-09-08T03:56:19.414-0700'}], 'website': [{'assignee': 'Moumita Asad', 'date': '2020-09-08T03:56:19.414-0700'}], 'create': [{'assignee': 'Noshin Tahsin', 'date': '2020-09-08T03:55:48.827-0700'}, {'assignee': 'Mridha Md. Nafis Fuad', 'date': '2020-09-08T03:54:32.405-0700'}], 'pie': [{'assignee': 'Noshin Tahsin', 'date': '2020-09-08T03:55:48.827-0700'}], 'chart': [{'assignee': 'Noshin Tahsin', 'date': '2020-09-08T03:55:48.827-0700'}, {'assignee': 'Mridha Md. Nafis Fuad', 'date': '2020-09-08T03:54:32.405-0700'}], 'visualization': [{'assignee': 'Noshin Tahsin', 'date': '2020-09-08T03:55:48.827-0700'}, {'assignee': 'Mridha Md. Nafis Fuad', 'date': '2020-09-08T03:54:32.405-0700'}], 'bar': [{'assignee': 'Mridha Md. Nafis Fuad', 'date': '2020-09-08T03:54:32.405-0700'}], 'stackedbars': [{'assignee': 'Mridha Md. Nafis Fuad', 'date': '2020-09-08T03:54:32.405-0700'}], 'visualizing': [{'assignee': 'Mridha Md. Nafis Fuad', 'date': '2020-09-08T03:54:32.405-0700'}], 'clean': [{'assignee': 'Noshin Tahsin', 'date': '2020-09-08T03:53:42.167-0700'}], 'preprocess': [{'assignee': 'Noshin Tahsin', 'date': '2020-09-08T03:53:42.167-0700'}], 'change': [{'assignee': 'Noshin Tahsin', 'date': '2020-09-08T03:53:42.167-0700'}, {'assignee': 'Toukir Ahammed', 'date': '2020-09-08T03:46:00.806-0700'}, {'assignee': 'Noshin Tahsin', 'date': '2020-09-06T09:29:11.791-0700'}], 'column': [{'assignee': 'Noshin Tahsin', 'date': '2020-09-08T03:53:42.167-0700'}], 'name': [{'assignee': 'Noshin Tahsin', 'date': '2020-09-08T03:53:42.167-0700'}, {'assignee': 'Noshin Tahsin', 'date': '2020-09-06T09:29:11.791-0700'}], 'drop': [{'assignee': 'Noshin Tahsin', 'date': '2020-09-08T03:53:42.167-0700'}], 'invalid': [{'assignee': 'Noshin Tahsin', 'date': '2020-09-08T03:53:42.167-0700'}], 'encode': [{'assignee': 'Noshin Tahsin', 'date': '2020-09-08T03:53:42.167-0700'}], 'categorical': [{'assignee': 'Noshin Tahsin', 'date': '2020-09-08T03:53:42.167-0700'}], 'conduct': [{'assignee': 'Toukir Ahammed', 'date': '2020-09-08T03:53:11.871-0700'}], 'survey': [{'assignee': 'Toukir Ahammed', 'date': '2020-09-08T03:53:11.871-0700'}, {'assignee': 'Toukir Ahammed', 'date': '2020-09-08T03:46:00.806-0700'}, {'assignee': 'Noshin Tahsin', 'date': '2020-09-08T03:44:53.680-0700'}], 'collect': [{'assignee': 'Toukir Ahammed', 'date': '2020-09-08T03:53:11.871-0700'}], 'convey': [{'assignee': 'Toukir Ahammed', 'date': '2020-09-08T03:46:00.806-0700'}], 'pilot': [{'assignee': 'Toukir Ahammed', 'date': '2020-09-08T03:46:00.806-0700'}], 'industry': [{'assignee': 'Toukir Ahammed', 'date': '2020-09-08T03:46:00.806-0700'}], 'professional': [{'assignee': 'Toukir Ahammed', 'date': '2020-09-08T03:46:00.806-0700'}], 'incorporate': [{'assignee': 'Toukir Ahammed', 'date': '2020-09-08T03:46:00.806-0700'}], 'feedback': [{'assignee': 'Toukir Ahammed', 'date': '2020-09-08T03:46:00.806-0700'}], 'questionnaire': [{'assignee': 'Toukir Ahammed', 'date': '2020-09-08T03:46:00.806-0700'}], 'accordingly': [{'assignee': 'Toukir Ahammed', 'date': '2020-09-08T03:46:00.806-0700'}], 'find': [{'assignee': 'Noshin Tahsin', 'date': '2020-09-08T03:44:53.680-0700'}, {'assignee': 'Moumita Asad', 'date': '2020-09-08T03:42:59.028-0700'}], 'productivityrelated': [{'assignee': 'Noshin Tahsin', 'date': '2020-09-08T03:44:53.680-0700'}], 'factor': [{'assignee': 'Noshin Tahsin', 'date': '2020-09-08T03:44:53.680-0700'}], 'related': [{'assignee': 'Noshin Tahsin', 'date': '2020-09-08T03:44:53.680-0700'}, {'assignee': 'Moumita Asad', 'date': '2020-09-08T03:42:59.028-0700'}], 'prepare': [{'assignee': 'Noshin Tahsin', 'date': '2020-09-08T03:44:53.680-0700'}], 'questionnare': [{'assignee': 'Noshin Tahsin', 'date': '2020-09-08T03:44:53.680-0700'}], 'explore': [{'assignee': 'Moumita Asad', 'date': '2020-09-08T03:42:59.028-0700'}], 'literature': [{'assignee': 'Moumita Asad', 'date': '2020-09-08T03:42:59.028-0700'}], 'work': [{'assignee': 'Moumita Asad', 'date': '2020-09-08T03:42:59.028-0700'}], 'home': [{'assignee': 'Moumita Asad', 'date': '2020-09-08T03:42:59.028-0700'}], 'getting': [{'assignee': 'Noshin Tahsin', 'date': '2020-09-08T03:37:02.399-0700'}, {'assignee': 'A. T. M. Fazlay Rabbi', 'date': '2020-09-08T03:36:34.188-0700'}, {'assignee': 'A. T. M. Fazlay Rabbi', 'date': '2020-09-06T09:32:06.928-0700'}], 'list': [{'assignee': 'Noshin Tahsin', 'date': '2020-09-08T03:37:02.399-0700'}], 'view': [{'assignee': 'Noshin Tahsin', 'date': '2020-09-08T03:37:02.399-0700'}], 'queried': [{'assignee': 'Noshin Tahsin', 'date': '2020-09-08T03:37:02.399-0700'}], 'result': [{'assignee': 'Noshin Tahsin', 'date': '2020-09-08T03:37:02.399-0700'}], 'user': [{'assignee': 'Noshin Tahsin', 'date': '2020-09-08T03:37:02.399-0700'}], 'vscode': [{'assignee': 'Noshin Tahsin', 'date': '2020-09-08T03:37:02.399-0700'}], 'extension': [{'assignee': 'Noshin Tahsin', 'date': '2020-09-08T03:37:02.399-0700'}], 'exploring': [{'assignee': 'Noshin Tahsin', 'date': '2020-09-08T03:37:02.399-0700'}], 'feature': [{'assignee': 'Noshin Tahsin', 'date': '2020-09-08T03:37:02.399-0700'}], 'better': [{'assignee': 'Noshin Tahsin', 'date': '2020-09-08T03:37:02.399-0700'}], 'strategy': [{'assignee': 'Noshin Tahsin', 'date': '2020-09-08T03:37:02.399-0700'}], 'viewing': [{'assignee': 'Noshin Tahsin', 'date': '2020-09-08T03:37:02.399-0700'}], 'implementing': [{'assignee': 'Noshin Tahsin', 'date': '2020-09-08T03:37:02.399-0700'}], 'search': [{'assignee': 'Noshin Tahsin', 'date': '2020-09-08T03:37:02.399-0700'}], 'viewer': [{'assignee': 'Noshin Tahsin', 'date': '2020-09-08T03:37:02.399-0700'}], 'exception': [{'assignee': 'A. T. M. Fazlay Rabbi', 'date': '2020-09-08T03:36:34.188-0700'}], 'unknown': [{'assignee': 'A. T. M. Fazlay Rabbi', 'date': '2020-09-08T03:36:34.188-0700'}], 'token': [{'assignee': 'A. T. M. Fazlay Rabbi', 'date': '2020-09-08T03:36:34.188-0700'}], 'test': [{'assignee': 'A. T. M. Fazlay Rabbi', 'date': '2020-09-08T03:36:34.188-0700'}], 'input': [{'assignee': 'A. T. M. Fazlay Rabbi', 'date': '2020-09-08T03:36:34.188-0700'}, {'assignee': 'A. T. M. Fazlay Rabbi', 'date': '2020-09-06T09:32:06.928-0700'}], 'java': [{'assignee': 'A. T. M. Fazlay Rabbi', 'date': '2020-09-08T03:36:34.188-0700'}], 'method': [{'assignee': 'A. T. M. Fazlay Rabbi', 'date': '2020-09-08T03:36:34.188-0700'}], 'fixing': [{'assignee': 'A. T. M. Fazlay Rabbi', 'date': '2020-09-08T03:36:34.188-0700'}], 'tokenizer': [{'assignee': 'A. T. M. Fazlay Rabbi', 'date': '2020-09-08T03:36:34.188-0700'}], 'setting': [{'assignee': 'Mridha Md. Nafis Fuad', 'date': '2020-09-08T03:35:59.251-0700'}], 'encoder': [{'assignee': 'Mridha Md. Nafis Fuad', 'date': '2020-09-08T03:35:59.251-0700'}], 'decoder': [{'assignee': 'Mridha Md. Nafis Fuad', 'date': '2020-09-08T03:35:59.251-0700'}], 'attention': [{'assignee': 'Mridha Md. Nafis Fuad', 'date': '2020-09-08T03:35:59.251-0700'}], 'mechanism': [{'assignee': 'Mridha Md. Nafis Fuad', 'date': '2020-09-08T03:35:59.251-0700'}], 'train': [{'assignee': 'Mridha Md. Nafis Fuad', 'date': '2020-09-08T03:35:59.251-0700'}], 'model': [{'assignee': 'Mridha Md. Nafis Fuad', 'date': '2020-09-08T03:35:59.251-0700'}], 'get': [{'assignee': 'Mridha Md. Nafis Fuad', 'date': '2020-09-08T03:35:59.251-0700'}], 'context': [{'assignee': 'Mridha Md. Nafis Fuad', 'date': '2020-09-08T03:35:59.251-0700'}], 'vector': [{'assignee': 'Mridha Md. Nafis Fuad', 'date': '2020-09-08T03:35:59.251-0700'}], 'pyhton': [{'assignee': 'Mridha Md. Nafis Fuad', 'date': '2020-09-08T03:35:59.251-0700'}], 'neural': [{'assignee': 'Mridha Md. Nafis Fuad', 'date': '2020-09-08T03:35:59.251-0700'}], 'structure': [{'assignee': 'Mridha Md. Nafis Fuad', 'date': '2020-09-08T03:35:59.251-0700'}], 'parse': [{'assignee': 'Mridha Md. Nafis Fuad', 'date': '2020-09-08T03:35:02.341-0700'}], 'ast': [{'assignee': 'Mridha Md. Nafis Fuad', 'date': '2020-09-08T03:35:02.341-0700'}], 'code': [{'assignee': 'Mridha Md. Nafis Fuad', 'date': '2020-09-08T03:35:02.341-0700'}], 'snippet': [{'assignee': 'Mridha Md. Nafis Fuad', 'date': '2020-09-08T03:35:02.341-0700'}], 'sbt': [{'assignee': 'Mridha Md. Nafis Fuad', 'date': '2020-09-08T03:35:02.341-0700'}], 'way': [{'assignee': 'Mridha Md. Nafis Fuad', 'date': '2020-09-08T03:35:02.341-0700'}], 'python': [{'assignee': 'Mridha Md. Nafis Fuad', 'date': '2020-09-08T03:35:02.341-0700'}], 'parsing': [{'assignee': 'Mridha Md. Nafis Fuad', 'date': '2020-09-08T03:35:02.341-0700'}], 'tool': [{'assignee': 'Mridha Md. Nafis Fuad', 'date': '2020-09-05T03:57:46.757-0700'}], 'quickly': [{'assignee': 'Mridha Md. Nafis Fuad', 'date': '2020-09-05T03:57:46.757-0700'}], 'methodology': [{'assignee': 'Mridha Md. Nafis Fuad', 'date': '2020-09-05T03:57:46.757-0700'}], 'done': [{'assignee': 'Mridha Md. Nafis Fuad', 'date': '2020-09-05T03:57:46.757-0700'}], '404': [{'assignee': 'Noshin Tahsin', 'date': '2020-09-05T02:58:20.639-0700'}, {'assignee': 'A. T. M. Fazlay Rabbi', 'date': '2020-09-06T09:32:06.928-0700'}], 'error': [{'assignee': 'Noshin Tahsin', 'date': '2020-09-05T02:58:20.639-0700'}], 'need': [{'assignee': 'Noshin Tahsin', 'date': '2020-09-05T02:58:20.639-0700'}], 'solve': [{'assignee': 'Noshin Tahsin', 'date': '2020-09-05T02:58:20.639-0700'}], 'khay': [{'assignee': 'Noshin Tahsin', 'date': '2020-09-05T02:58:20.639-0700'}], 'oneksolve': [{'assignee': 'Noshin Tahsin', 'date': '2020-09-05T02:58:20.639-0700'}], 'kor': [{'assignee': 'Noshin Tahsin', 'date': '2020-09-05T02:58:20.639-0700'}], 'add': [{'assignee': 'Noshin Tahsin', 'date': '2021-02-20T00:14:00.264-0800'}, {'assignee': 'Noshin Tahsin', 'date': '2020-09-06T09:29:11.791-0700'}], 'new': [{'assignee': 'Noshin Tahsin', 'date': '2021-02-20T00:14:00.264-0800'}], 'table': [{'assignee': 'Noshin Tahsin', 'date': '2021-02-20T00:14:00.264-0800'}, {'assignee': 'Noshin Tahsin', 'date': '2020-09-06T09:29:11.791-0700'}], 'ui': [{'assignee': 'Noshin Tahsin', 'date': '2021-02-20T00:14:00.264-0800'}, {'assignee': 'Noshin Tahsin', 'date': '2020-09-06T09:29:11.791-0700'}, {'assignee': 'Noshin Tahsin', 'date': '2020-09-05T02:55:07.811-0700'}], 'deploy': [{'assignee': 'A. T. M. Fazlay Rabbi', 'date': '2020-12-25T07:29:57.045-0800'}, {'assignee': 'Noshin Tahsin', 'date': '2020-09-06T09:29:51.314-0700'}], 'backend': [{'assignee': 'A. T. M. Fazlay Rabbi', 'date': '2020-12-25T07:29:57.045-0800'}, {'assignee': 'A. T. M. Fazlay Rabbi', 'date': '2020-09-06T09:32:06.928-0700'}, {'assignee': 'Noshin Tahsin', 'date': '2020-09-06T09:29:51.314-0700'}], 'heroku': [{'assignee': 'A. T. M. Fazlay Rabbi', 'date': '2020-12-25T07:29:57.045-0800'}, {'assignee': 'A. T. M. Fazlay Rabbi', 'date': '2020-09-06T09:32:06.928-0700'}, {'assignee': 'Noshin Tahsin', 'date': '2020-09-06T09:29:51.314-0700'}], 'form': [{'assignee': 'A. T. M. Fazlay Rabbi', 'date': '2020-09-06T09:32:06.928-0700'}], 'provided': [{'assignee': 'A. T. M. Fazlay Rabbi', 'date': '2020-09-06T09:32:06.928-0700'}], 'issue': [{'assignee': 'A. T. M. Fazlay Rabbi', 'date': '2020-09-06T09:32:06.928-0700'}], 'fix': [{'assignee': 'A. T. M. Fazlay Rabbi', 'date': '2020-09-06T09:32:06.928-0700'}], 'assignee': [{'assignee': 'Noshin Tahsin', 'date': '2020-09-06T09:29:11.791-0700'}], 'suggestion': [{'assignee': 'Noshin Tahsin', 'date': '2020-09-06T09:29:11.791-0700'}], 'image': [{'assignee': 'Noshin Tahsin', 'date': '2020-09-06T09:29:11.791-0700'}], 'along': [{'assignee': 'Noshin Tahsin', 'date': '2020-09-06T09:29:11.791-0700'}], 'make': [{'assignee': 'Noshin Tahsin', 'date': '2020-09-06T09:29:11.791-0700'}], 'attractive': [{'assignee': 'Noshin Tahsin', 'date': '2020-09-06T09:29:11.791-0700'}], 'design': [{'assignee': 'Noshin Tahsin', 'date': '2020-09-05T02:55:07.811-0700'}], 'jira': [{'assignee': 'Noshin Tahsin', 'date': '2020-09-05T02:55:07.811-0700'}], 'addon': [{'assignee': 'Noshin Tahsin', 'date': '2020-09-05T02:55:07.811-0700'}], 'using': [{'assignee': 'Noshin Tahsin', 'date': '2020-09-05T02:55:07.811-0700'}], 'ace': [{'assignee': 'Noshin Tahsin', 'date': '2020-09-05T02:55:07.811-0700'}], 'framework': [{'assignee': 'Noshin Tahsin', 'date': '2020-09-05T02:55:07.811-0700'}], 'guideline': [{'assignee': 'Noshin Tahsin', 'date': '2020-09-05T02:55:07.811-0700'}], 'component': [{'assignee': 'Noshin Tahsin', 'date': '2020-09-05T02:55:07.811-0700'}], 'found': [{'assignee': 'Noshin Tahsin', 'date': '2020-09-05T02:55:07.811-0700'}], 'atlassian': [{'assignee': 'Noshin Tahsin', 'date': '2020-09-05T02:55:07.811-0700'}]}\n",
      "Account ID map:\n",
      "{'Moumita Asad': '5f5764e4bea5be0068101b9a', 'Noshin Tahsin': '5e299526bf04010e70c42927', 'Mridha Md. Nafis Fuad': '5ae1622f027e7a2ebfcc12d1', 'Toukir Ahammed': '5ca99ba2e929a772795e4ac9', 'A. T. M. Fazlay Rabbi': '5e9412627bc0680c2ca4dd39'}\n"
     ]
    }
   ],
   "source": [
    "cnt=0\n",
    "assignee_terms_map={}\n",
    "terms_assignee_map={}\n",
    "terms_assignee_list=[]\n",
    "account_id_map={}\n",
    "\n",
    "for p in projects:\n",
    "    pro_key='project='\n",
    "    pro_key+=str(p.key)\n",
    "    project_key=pro_key\n",
    "    size = 100\n",
    "    initial = 0\n",
    "    issueCount=0\n",
    "    while True:\n",
    "        start= initial*size\n",
    "        issues = jira.search_issues(project_key,  start,size)\n",
    "        issueCount+=len(issues)\n",
    "        if len(issues) == 0:\n",
    "            break\n",
    "        initial += 1\n",
    "        for issue in issues:\n",
    "            if issue.fields.assignee and issue.fields.assignee!=None:\n",
    "                cnt+=1\n",
    "                summary = issue.fields.summary\n",
    "                des = issue.fields.description\n",
    "                assignee = str(issue.fields.assignee)\n",
    "                account_id = str(issue.fields.assignee.accountId)\n",
    "                creation_date = str(issue.fields.created)\n",
    "            \n",
    "                assignee_date = {}\n",
    "                assignee_date['assignee']=assignee\n",
    "                assignee_date['date']=creation_date\n",
    "                \n",
    "                des=remove_punctuation(des)\n",
    " \n",
    "                bad_chars=['!','@', '#', '$','%', '^', '&','*','(',')','-','+']\n",
    "                des = ''.join(i for i in des if not i in bad_chars)\n",
    "                tokenized_des=tokenize(des)\n",
    "        \n",
    "                summary=remove_punctuation(summary)\n",
    " \n",
    "                bad_chars=['!','@', '#', '$','%', '^', '&','*','(',')','-','+']\n",
    "                summary = ''.join(i for i in summary if not i in bad_chars)\n",
    "                tokenized_summary=tokenize(summary)\n",
    "               \n",
    "                #list of all terms existing in an issue\n",
    "                dupli_terms=tokenized_des+tokenized_summary\n",
    "            \n",
    "                terms = list(dict.fromkeys(dupli_terms))\n",
    "                \n",
    "                keylist=[]\n",
    "                for key,val in assignee_terms_map.items():\n",
    "                    keylist.append(key)\n",
    "                                \n",
    "                if assignee in keylist:\n",
    "                    assignee_terms_map[assignee]=assignee_terms_map[assignee]+terms\n",
    "                else:\n",
    "                    assignee_terms_map[assignee]=terms\n",
    "                    account_id_map[assignee]=account_id\n",
    "    \n",
    "                #terms_assignee_list.append(assignee)\n",
    "                terms_assignee_list.append(assignee_date)\n",
    "                \n",
    "                for term in terms:\n",
    "                    if term in terms_assignee_map:\n",
    "                        terms_assignee_map[term]=terms_assignee_map[term]+terms_assignee_list\n",
    "                    else:\n",
    "                        terms_assignee_map[term]=terms_assignee_list  \n",
    "                                        \n",
    "                terms_assignee_list=[]\n",
    "\n",
    "#print(\"Final assignee terms map:\")\n",
    "#print(assignee_terms_map)\n",
    "\n",
    "print(len(terms_assignee_map))\n",
    "print(\"Final terms assignee map:\")\n",
    "print(terms_assignee_map)\n",
    "\n",
    "print(\"Account ID map:\")\n",
    "print(account_id_map)"
   ]
  },
  {
   "cell_type": "code",
   "execution_count": 6,
   "metadata": {},
   "outputs": [
    {
     "name": "stdout",
     "output_type": "stream",
     "text": [
      "5\n",
      "['Moumita Asad', 'Noshin Tahsin', 'Mridha Md. Nafis Fuad', 'Toukir Ahammed', 'A. T. M. Fazlay Rabbi']\n",
      "Moumita Asad => ['write', 'icse', 'paper', 'including', 'finding', 'regression', 'analysis', 'primary', 'demonstration', 'write', 'blog', 'productivity', 'employee', 'wfh', 'publish', 'dsse', 'website', 'explore', 'literature', 'find', 'paper', 'related', 'employee', 'productivity', 'work', 'home']\n",
      "Noshin Tahsin => ['regression', 'analysis', 'data', 'write', 'paper', 'finding', 'far', 'arxiv', 'create', 'pie', 'chart', 'data', 'visualization', 'clean', 'preprocess', 'data', 'change', 'column', 'name', 'drop', 'invalid', 'encode', 'categorical', 'find', 'productivityrelated', 'factor', 'related', 'paper', 'prepare', 'survey', 'questionnare', 'getting', 'list', 'view', 'queried', 'result', 'user', 'vscode', 'extension', 'exploring', 'feature', 'better', 'strategy', 'viewing', 'implementing', 'search', 'viewer', '404', 'error', 'need', 'solve', 'khay', 'oneksolve', 'kor', 'add', 'new', 'table', 'ui', 'deploy', 'backend', 'heroku', 'assignee', 'suggestion', 'table', 'add', 'image', 'along', 'name', 'make', 'ui', 'attractive', 'change', 'design', 'ui', 'jira', 'addon', 'using', 'ace', 'framework', 'guideline', 'component', 'found', 'atlassian']\n",
      "Mridha Md. Nafis Fuad => ['create', 'bar', 'chart', 'stackedbars', 'visualizing', 'data', 'visualization', 'setting', 'encoder', 'decoder', 'attention', 'mechanism', 'train', 'model', 'get', 'context', 'vector', 'pyhton', 'neural', 'structure', 'parse', 'ast', 'code', 'snippet', 'sbt', 'way', 'python', 'parsing', 'write', 'tool', 'paper', 'quickly', 'methodology', 'done']\n",
      "Toukir Ahammed => ['conduct', 'survey', 'collect', 'data', 'convey', 'pilot', 'survey', 'industry', 'professional', 'incorporate', 'feedback', 'change', 'questionnaire', 'accordingly']\n",
      "A. T. M. Fazlay Rabbi => ['getting', 'exception', 'unknown', 'token', 'test', 'input', 'java', 'method', 'fixing', 'tokenizer', 'deploy', 'backend', 'heroku', 'getting', '404', 'form', 'input', 'provided', 'issue', 'heroku', 'fix', 'backend']\n"
     ]
    }
   ],
   "source": [
    "print(len(assignee_terms_map))\n",
    "available_devlist=[]\n",
    "\n",
    "for key,val in assignee_terms_map.items():\n",
    "    available_devlist.append(key)\n",
    "print(available_devlist) \n",
    "#del assignee_terms_map[\"None\"]\n",
    "for key,val in  assignee_terms_map.items():\n",
    "    print(key, \"=>\", val)\n",
    "    #print(key)\n",
    "    #print(len(val))   "
   ]
  },
  {
   "cell_type": "code",
   "execution_count": 113,
   "metadata": {},
   "outputs": [
    {
     "name": "stdout",
     "output_type": "stream",
     "text": [
      "['explore', 'literature', 'find', 'tool', 'paper', 'icse', 'related', 'regression', 'analysis', 'related', 'data', 'find', 'tool', 'paper', 'icse']\n"
     ]
    }
   ],
   "source": [
    "#tokenizing the new issue\n",
    "#new_des=data[\"projects\"][0]['issues'][14]['description']\n",
    "#all_new_issues=jira.search_issues('project='+str(projects[0]))\n",
    "#new_issue=all_new_issues[0]\n",
    "\n",
    "new_issue=jira.issue('C1R-12')\n",
    "new_issue_creation_date = new_issue.fields.created\n",
    "#issue=jira.issue('SAAJ-4')\n",
    "#print(\"issue status: \",issue.fields.status.name)\n",
    "creation_date = new_issue.fields.created\n",
    "current_time = creation_date\n",
    "#print(\"creation date: \",creation_date)\n",
    "#resolution_date=issue.fields.resolutiondate\n",
    "#print(\"resolution date:\",resolution_date)\n",
    "#print(\"date\")\n",
    "#print(new_issue_creation_date)\n",
    "new_des=new_issue.fields.description\n",
    "\n",
    "new_des=remove_punctuation(new_des)\n",
    "bad_chars=['!','@', '#', '$','%', '^', '&','*','(',')','-','+']\n",
    "new_des = ''.join(i for i in new_des if not i in bad_chars)\n",
    "tokenized_new_des=tokenize(new_des)\n",
    "\n",
    "new_summary=new_issue.fields.summary\n",
    "\n",
    "new_summary=remove_punctuation(new_summary)\n",
    "bad_chars=['!','@', '#', '$','%', '^', '&','*','(',')','-','+']\n",
    "new_summary = ''.join(i for i in new_summary if not i in bad_chars)\n",
    "tokenized_new_summary=tokenize(new_summary)\n",
    "\n",
    "new_terms=tokenized_new_des+tokenized_new_summary\n",
    "print(new_terms)\n",
    "\n",
    "#now I have the new issue terms"
   ]
  },
  {
   "cell_type": "code",
   "execution_count": 114,
   "metadata": {},
   "outputs": [
    {
     "name": "stdout",
     "output_type": "stream",
     "text": [
      "{'explore': [{'assignee': 'Moumita Asad', 'date': '2020-09-08T03:42:59.028-0700'}], 'literature': [{'assignee': 'Moumita Asad', 'date': '2020-09-08T03:42:59.028-0700'}], 'find': [{'assignee': 'Noshin Tahsin', 'date': '2020-09-08T03:44:53.680-0700'}, {'assignee': 'Moumita Asad', 'date': '2020-09-08T03:42:59.028-0700'}], 'tool': [{'assignee': 'Mridha Md. Nafis Fuad', 'date': '2020-09-05T03:57:46.757-0700'}], 'paper': [{'assignee': 'Moumita Asad', 'date': '2020-09-08T03:58:33.865-0700'}, {'assignee': 'Noshin Tahsin', 'date': '2020-09-08T03:57:26.760-0700'}, {'assignee': 'Noshin Tahsin', 'date': '2020-09-08T03:44:53.680-0700'}, {'assignee': 'Moumita Asad', 'date': '2020-09-08T03:42:59.028-0700'}, {'assignee': 'Mridha Md. Nafis Fuad', 'date': '2020-09-05T03:57:46.757-0700'}], 'icse': [{'assignee': 'Moumita Asad', 'date': '2020-09-08T03:58:33.865-0700'}], 'related': [{'assignee': 'Noshin Tahsin', 'date': '2020-09-08T03:44:53.680-0700'}, {'assignee': 'Moumita Asad', 'date': '2020-09-08T03:42:59.028-0700'}], 'regression': [{'assignee': 'Moumita Asad', 'date': '2020-09-08T03:58:33.865-0700'}, {'assignee': 'Noshin Tahsin', 'date': '2020-09-08T03:58:02.767-0700'}], 'analysis': [{'assignee': 'Moumita Asad', 'date': '2020-09-08T03:58:33.865-0700'}, {'assignee': 'Noshin Tahsin', 'date': '2020-09-08T03:58:02.767-0700'}], 'data': [{'assignee': 'Noshin Tahsin', 'date': '2020-09-08T03:58:02.767-0700'}, {'assignee': 'Noshin Tahsin', 'date': '2020-09-08T03:55:48.827-0700'}, {'assignee': 'Mridha Md. Nafis Fuad', 'date': '2020-09-08T03:54:32.405-0700'}, {'assignee': 'Noshin Tahsin', 'date': '2020-09-08T03:53:42.167-0700'}, {'assignee': 'Toukir Ahammed', 'date': '2020-09-08T03:53:11.871-0700'}]}\n"
     ]
    }
   ],
   "source": [
    "#now calculate score for developer suggestion\n",
    "#print(len(new_terms))\n",
    "newterm_dev_map={}\n",
    "#def getDevTermUsageInfo():\n",
    "cnt=0\n",
    "for newterm in new_terms:\n",
    "    if newterm in terms_assignee_map:\n",
    "        cnt=cnt+1\n",
    "        #print(newterm)\n",
    "        #print(terms_assignee_map[newterm])\n",
    "        newterm_dev_map[newterm]=terms_assignee_map[newterm]\n",
    "        #returns a devlist for a single newterm\n",
    "        #developers who has previously worked on that term\n",
    "        #one dev name can occur multiple times\n",
    "        #which implies he has worked on that term multiple times-more experienced!\n",
    "\n",
    "#print(newterm_dev_map['everything'])\n",
    "print(newterm_dev_map)"
   ]
  },
  {
   "cell_type": "code",
   "execution_count": 115,
   "metadata": {},
   "outputs": [],
   "source": [
    "from datetime import datetime\n",
    "# datetime object containing current date and time\n",
    "now = datetime.now()\n",
    "#print(\"now =\", now)\n",
    "currentTime = now.strftime(\"%Y-%m-%dT%H:%M:%S.%f%z\")\n",
    "#print(\"current date and time =\", current_time)\t"
   ]
  },
  {
   "cell_type": "code",
   "execution_count": 116,
   "metadata": {},
   "outputs": [
    {
     "name": "stdout",
     "output_type": "stream",
     "text": [
      "{'explore': [{'assignee': 'Moumita Asad', 'date': '2020-09-08T03:42:59.028-0700'}], 'literature': [{'assignee': 'Moumita Asad', 'date': '2020-09-08T03:42:59.028-0700'}], 'find': [{'assignee': 'Noshin Tahsin', 'date': '2020-09-08T03:44:53.680-0700'}, {'assignee': 'Moumita Asad', 'date': '2020-09-08T03:42:59.028-0700'}], 'tool': [{'assignee': 'Mridha Md. Nafis Fuad', 'date': '2020-09-05T03:57:46.757-0700'}], 'paper': [{'assignee': 'Moumita Asad', 'date': '2020-09-08T03:58:33.865-0700'}, {'assignee': 'Noshin Tahsin', 'date': '2020-09-08T03:57:26.760-0700'}, {'assignee': 'Noshin Tahsin', 'date': '2020-09-08T03:44:53.680-0700'}, {'assignee': 'Moumita Asad', 'date': '2020-09-08T03:42:59.028-0700'}, {'assignee': 'Mridha Md. Nafis Fuad', 'date': '2020-09-05T03:57:46.757-0700'}], 'icse': [{'assignee': 'Moumita Asad', 'date': '2020-09-08T03:58:33.865-0700'}], 'related': [{'assignee': 'Noshin Tahsin', 'date': '2020-09-08T03:44:53.680-0700'}, {'assignee': 'Moumita Asad', 'date': '2020-09-08T03:42:59.028-0700'}], 'regression': [{'assignee': 'Moumita Asad', 'date': '2020-09-08T03:58:33.865-0700'}, {'assignee': 'Noshin Tahsin', 'date': '2020-09-08T03:58:02.767-0700'}], 'analysis': [{'assignee': 'Moumita Asad', 'date': '2020-09-08T03:58:33.865-0700'}, {'assignee': 'Noshin Tahsin', 'date': '2020-09-08T03:58:02.767-0700'}], 'data': [{'assignee': 'Noshin Tahsin', 'date': '2020-09-08T03:58:02.767-0700'}, {'assignee': 'Noshin Tahsin', 'date': '2020-09-08T03:55:48.827-0700'}, {'assignee': 'Mridha Md. Nafis Fuad', 'date': '2020-09-08T03:54:32.405-0700'}, {'assignee': 'Noshin Tahsin', 'date': '2020-09-08T03:53:42.167-0700'}, {'assignee': 'Toukir Ahammed', 'date': '2020-09-08T03:53:11.871-0700'}]}\n"
     ]
    }
   ],
   "source": [
    "print(newterm_dev_map)"
   ]
  },
  {
   "cell_type": "code",
   "execution_count": 117,
   "metadata": {},
   "outputs": [
    {
     "name": "stdout",
     "output_type": "stream",
     "text": [
      "{'Moumita Asad': {'explore': {'devcount': 1, 'lastuse': '2020-09-08T03:42:59.028-0700'}, 'literature': {'devcount': 1, 'lastuse': '2020-09-08T03:42:59.028-0700'}, 'find': {'devcount': 1, 'lastuse': '2020-09-08T03:42:59.028-0700'}, 'paper': {'devcount': 2, 'lastuse': '2020-09-05T03:57:46.757-0700'}, 'icse': {'devcount': 1, 'lastuse': '2020-09-08T03:58:33.865-0700'}, 'related': {'devcount': 1, 'lastuse': '2020-09-08T03:42:59.028-0700'}, 'regression': {'devcount': 1, 'lastuse': '2020-09-08T03:58:02.767-0700'}, 'analysis': {'devcount': 1, 'lastuse': '2020-09-08T03:58:02.767-0700'}}}\n",
      "{'Moumita Asad': {'explore': {'devcount': 1, 'lastuse': '2020-09-08T03:42:59.028-0700'}, 'literature': {'devcount': 1, 'lastuse': '2020-09-08T03:42:59.028-0700'}, 'find': {'devcount': 1, 'lastuse': '2020-09-08T03:42:59.028-0700'}, 'paper': {'devcount': 2, 'lastuse': '2020-09-05T03:57:46.757-0700'}, 'icse': {'devcount': 1, 'lastuse': '2020-09-08T03:58:33.865-0700'}, 'related': {'devcount': 1, 'lastuse': '2020-09-08T03:42:59.028-0700'}, 'regression': {'devcount': 1, 'lastuse': '2020-09-08T03:58:02.767-0700'}, 'analysis': {'devcount': 1, 'lastuse': '2020-09-08T03:58:02.767-0700'}}, 'Noshin Tahsin': {'find': {'devcount': 1, 'lastuse': '2020-09-08T03:42:59.028-0700'}, 'paper': {'devcount': 2, 'lastuse': '2020-09-05T03:57:46.757-0700'}, 'related': {'devcount': 1, 'lastuse': '2020-09-08T03:42:59.028-0700'}, 'regression': {'devcount': 1, 'lastuse': '2020-09-08T03:58:02.767-0700'}, 'analysis': {'devcount': 1, 'lastuse': '2020-09-08T03:58:02.767-0700'}, 'data': {'devcount': 3, 'lastuse': '2020-09-08T03:53:11.871-0700'}}}\n",
      "{'Moumita Asad': {'explore': {'devcount': 1, 'lastuse': '2020-09-08T03:42:59.028-0700'}, 'literature': {'devcount': 1, 'lastuse': '2020-09-08T03:42:59.028-0700'}, 'find': {'devcount': 1, 'lastuse': '2020-09-08T03:42:59.028-0700'}, 'paper': {'devcount': 2, 'lastuse': '2020-09-05T03:57:46.757-0700'}, 'icse': {'devcount': 1, 'lastuse': '2020-09-08T03:58:33.865-0700'}, 'related': {'devcount': 1, 'lastuse': '2020-09-08T03:42:59.028-0700'}, 'regression': {'devcount': 1, 'lastuse': '2020-09-08T03:58:02.767-0700'}, 'analysis': {'devcount': 1, 'lastuse': '2020-09-08T03:58:02.767-0700'}}, 'Noshin Tahsin': {'find': {'devcount': 1, 'lastuse': '2020-09-08T03:42:59.028-0700'}, 'paper': {'devcount': 2, 'lastuse': '2020-09-05T03:57:46.757-0700'}, 'related': {'devcount': 1, 'lastuse': '2020-09-08T03:42:59.028-0700'}, 'regression': {'devcount': 1, 'lastuse': '2020-09-08T03:58:02.767-0700'}, 'analysis': {'devcount': 1, 'lastuse': '2020-09-08T03:58:02.767-0700'}, 'data': {'devcount': 3, 'lastuse': '2020-09-08T03:53:11.871-0700'}}, 'Mridha Md. Nafis Fuad': {'tool': {'devcount': 1, 'lastuse': '2020-09-05T03:57:46.757-0700'}, 'paper': {'devcount': 1, 'lastuse': '2020-09-05T03:57:46.757-0700'}, 'data': {'devcount': 1, 'lastuse': '2020-09-08T03:53:11.871-0700'}}}\n",
      "{'Moumita Asad': {'explore': {'devcount': 1, 'lastuse': '2020-09-08T03:42:59.028-0700'}, 'literature': {'devcount': 1, 'lastuse': '2020-09-08T03:42:59.028-0700'}, 'find': {'devcount': 1, 'lastuse': '2020-09-08T03:42:59.028-0700'}, 'paper': {'devcount': 2, 'lastuse': '2020-09-05T03:57:46.757-0700'}, 'icse': {'devcount': 1, 'lastuse': '2020-09-08T03:58:33.865-0700'}, 'related': {'devcount': 1, 'lastuse': '2020-09-08T03:42:59.028-0700'}, 'regression': {'devcount': 1, 'lastuse': '2020-09-08T03:58:02.767-0700'}, 'analysis': {'devcount': 1, 'lastuse': '2020-09-08T03:58:02.767-0700'}}, 'Noshin Tahsin': {'find': {'devcount': 1, 'lastuse': '2020-09-08T03:42:59.028-0700'}, 'paper': {'devcount': 2, 'lastuse': '2020-09-05T03:57:46.757-0700'}, 'related': {'devcount': 1, 'lastuse': '2020-09-08T03:42:59.028-0700'}, 'regression': {'devcount': 1, 'lastuse': '2020-09-08T03:58:02.767-0700'}, 'analysis': {'devcount': 1, 'lastuse': '2020-09-08T03:58:02.767-0700'}, 'data': {'devcount': 3, 'lastuse': '2020-09-08T03:53:11.871-0700'}}, 'Mridha Md. Nafis Fuad': {'tool': {'devcount': 1, 'lastuse': '2020-09-05T03:57:46.757-0700'}, 'paper': {'devcount': 1, 'lastuse': '2020-09-05T03:57:46.757-0700'}, 'data': {'devcount': 1, 'lastuse': '2020-09-08T03:53:11.871-0700'}}, 'Toukir Ahammed': {'data': {'devcount': 1, 'lastuse': '2020-09-08T03:53:11.871-0700'}}}\n",
      "{'Moumita Asad': {'explore': {'devcount': 1, 'lastuse': '2020-09-08T03:42:59.028-0700'}, 'literature': {'devcount': 1, 'lastuse': '2020-09-08T03:42:59.028-0700'}, 'find': {'devcount': 1, 'lastuse': '2020-09-08T03:42:59.028-0700'}, 'paper': {'devcount': 2, 'lastuse': '2020-09-05T03:57:46.757-0700'}, 'icse': {'devcount': 1, 'lastuse': '2020-09-08T03:58:33.865-0700'}, 'related': {'devcount': 1, 'lastuse': '2020-09-08T03:42:59.028-0700'}, 'regression': {'devcount': 1, 'lastuse': '2020-09-08T03:58:02.767-0700'}, 'analysis': {'devcount': 1, 'lastuse': '2020-09-08T03:58:02.767-0700'}}, 'Noshin Tahsin': {'find': {'devcount': 1, 'lastuse': '2020-09-08T03:42:59.028-0700'}, 'paper': {'devcount': 2, 'lastuse': '2020-09-05T03:57:46.757-0700'}, 'related': {'devcount': 1, 'lastuse': '2020-09-08T03:42:59.028-0700'}, 'regression': {'devcount': 1, 'lastuse': '2020-09-08T03:58:02.767-0700'}, 'analysis': {'devcount': 1, 'lastuse': '2020-09-08T03:58:02.767-0700'}, 'data': {'devcount': 3, 'lastuse': '2020-09-08T03:53:11.871-0700'}}, 'Mridha Md. Nafis Fuad': {'tool': {'devcount': 1, 'lastuse': '2020-09-05T03:57:46.757-0700'}, 'paper': {'devcount': 1, 'lastuse': '2020-09-05T03:57:46.757-0700'}, 'data': {'devcount': 1, 'lastuse': '2020-09-08T03:53:11.871-0700'}}, 'Toukir Ahammed': {'data': {'devcount': 1, 'lastuse': '2020-09-08T03:53:11.871-0700'}}, 'A. T. M. Fazlay Rabbi': {}}\n"
     ]
    }
   ],
   "source": [
    "dev_termInfo={}\n",
    "newterm_dev_list =[]\n",
    "newterm_dev_date = []\n",
    "\n",
    "for dev in available_devlist:\n",
    "    #print(dev)\n",
    "    term_info={}\n",
    "    #check if he has used a newterm and get the newterm\n",
    "    for key in newterm_dev_map:\n",
    "        new_time_diff=798798090\n",
    "        newterm_dev_list =[]\n",
    "        term_list_len = len(newterm_dev_map[key])\n",
    "        for i in range (0,term_list_len):\n",
    "            #print(newterm_dev_map[nterm][i])\n",
    "            newterm_dev_list.append(newterm_dev_map[key][i]['assignee'])\n",
    "            newterm_dev_date.append(newterm_dev_map[key][i]['date'])\n",
    "            \n",
    "        if dev in newterm_dev_list:\n",
    "            #now i need the key-key is the newterm\n",
    "            #calculate term info for the key\n",
    "            #just need the fixfrequency\n",
    "            #how many times dev is in newterm_dev_map[key]\n",
    "            devnames=newterm_dev_list       \n",
    "            #print(devnames)\n",
    "            dev_count=devnames.count(dev)\n",
    "            #print(key)\n",
    "            #print(dev_count)\n",
    "            #List-devcount,termusedate\n",
    "            for d in newterm_dev_date:\n",
    "                datetrack=d\n",
    "                #ekhn er date thke shb thke kache jeta first e init inf diye\n",
    "                current_time_converted = datetime.strptime(current_time,'%Y-%m-%dT%H:%M:%S.%f%z')\n",
    "                datetrack_converted = datetime.strptime(datetrack,'%Y-%m-%dT%H:%M:%S.%f%z')\n",
    "            \n",
    "                time_diff = current_time_converted - datetrack_converted\n",
    "                if(time_diff.days<new_time_diff):\n",
    "                    kept_datetrack = datetrack \n",
    "                \n",
    "            devcount_lastuse = {}\n",
    "            devcount_lastuse['devcount']=dev_count\n",
    "            devcount_lastuse['lastuse']=kept_datetrack\n",
    "            \n",
    "            term_info[key]=devcount_lastuse #add term_use_date : last fixing time of a term by a developer\n",
    "            #print(term_info)\n",
    "            \n",
    "    dev_termInfo[dev]=term_info\n",
    "\n",
    "    print(dev_termInfo)"
   ]
  },
  {
   "cell_type": "code",
   "execution_count": 118,
   "metadata": {},
   "outputs": [
    {
     "name": "stdout",
     "output_type": "stream",
     "text": [
      "Moumita Asad  =>  {'explore': {'devcount': 1, 'lastuse': '2020-09-08T03:42:59.028-0700'}, 'literature': {'devcount': 1, 'lastuse': '2020-09-08T03:42:59.028-0700'}, 'find': {'devcount': 1, 'lastuse': '2020-09-08T03:42:59.028-0700'}, 'paper': {'devcount': 2, 'lastuse': '2020-09-05T03:57:46.757-0700'}, 'icse': {'devcount': 1, 'lastuse': '2020-09-08T03:58:33.865-0700'}, 'related': {'devcount': 1, 'lastuse': '2020-09-08T03:42:59.028-0700'}, 'regression': {'devcount': 1, 'lastuse': '2020-09-08T03:58:02.767-0700'}, 'analysis': {'devcount': 1, 'lastuse': '2020-09-08T03:58:02.767-0700'}}\n",
      "Noshin Tahsin  =>  {'find': {'devcount': 1, 'lastuse': '2020-09-08T03:42:59.028-0700'}, 'paper': {'devcount': 2, 'lastuse': '2020-09-05T03:57:46.757-0700'}, 'related': {'devcount': 1, 'lastuse': '2020-09-08T03:42:59.028-0700'}, 'regression': {'devcount': 1, 'lastuse': '2020-09-08T03:58:02.767-0700'}, 'analysis': {'devcount': 1, 'lastuse': '2020-09-08T03:58:02.767-0700'}, 'data': {'devcount': 3, 'lastuse': '2020-09-08T03:53:11.871-0700'}}\n",
      "Mridha Md. Nafis Fuad  =>  {'tool': {'devcount': 1, 'lastuse': '2020-09-05T03:57:46.757-0700'}, 'paper': {'devcount': 1, 'lastuse': '2020-09-05T03:57:46.757-0700'}, 'data': {'devcount': 1, 'lastuse': '2020-09-08T03:53:11.871-0700'}}\n",
      "Toukir Ahammed  =>  {'data': {'devcount': 1, 'lastuse': '2020-09-08T03:53:11.871-0700'}}\n",
      "A. T. M. Fazlay Rabbi  =>  {}\n"
     ]
    }
   ],
   "source": [
    "for key,value in dev_termInfo.items():\n",
    "    print(key,\" => \",value)\n",
    "#Moumita Asad  =>  {'data': 2, (date last worked)}\n",
    "#now i have the complex map of dev term term-info"
   ]
  },
  {
   "cell_type": "code",
   "execution_count": 122,
   "metadata": {},
   "outputs": [
    {
     "name": "stdout",
     "output_type": "stream",
     "text": [
      "{'explore': {'devcount': 1, 'lastuse': '2020-09-08T03:42:59.028-0700'}, 'literature': {'devcount': 1, 'lastuse': '2020-09-08T03:42:59.028-0700'}, 'find': {'devcount': 1, 'lastuse': '2020-09-08T03:42:59.028-0700'}, 'paper': {'devcount': 2, 'lastuse': '2020-09-05T03:57:46.757-0700'}, 'icse': {'devcount': 1, 'lastuse': '2020-09-08T03:58:33.865-0700'}, 'related': {'devcount': 1, 'lastuse': '2020-09-08T03:42:59.028-0700'}, 'regression': {'devcount': 1, 'lastuse': '2020-09-08T03:58:02.767-0700'}, 'analysis': {'devcount': 1, 'lastuse': '2020-09-08T03:58:02.767-0700'}}\n",
      "{'find': {'devcount': 1, 'lastuse': '2020-09-08T03:42:59.028-0700'}, 'paper': {'devcount': 2, 'lastuse': '2020-09-05T03:57:46.757-0700'}, 'related': {'devcount': 1, 'lastuse': '2020-09-08T03:42:59.028-0700'}, 'regression': {'devcount': 1, 'lastuse': '2020-09-08T03:58:02.767-0700'}, 'analysis': {'devcount': 1, 'lastuse': '2020-09-08T03:58:02.767-0700'}, 'data': {'devcount': 3, 'lastuse': '2020-09-08T03:53:11.871-0700'}}\n",
      "{'tool': {'devcount': 1, 'lastuse': '2020-09-05T03:57:46.757-0700'}, 'paper': {'devcount': 1, 'lastuse': '2020-09-05T03:57:46.757-0700'}, 'data': {'devcount': 1, 'lastuse': '2020-09-08T03:53:11.871-0700'}}\n",
      "{'data': {'devcount': 1, 'lastuse': '2020-09-08T03:53:11.871-0700'}}\n",
      "{}\n",
      "\n",
      "SCORE: \n",
      "{'Moumita Asad': 9.861273361263468, 'Noshin Tahsin': 4.662935793778088, 'Mridha Md. Nafis Fuad': 3.3106469422645524, 'Toukir Ahammed': 0.30679909853038445, 'A. T. M. Fazlay Rabbi': 0}\n"
     ]
    }
   ],
   "source": [
    "import time\n",
    "from datetime import datetime, timedelta\n",
    "\n",
    "prediction_list=[]\n",
    "\n",
    "def devFixFreq(term):\n",
    "    dev_use_count=0\n",
    "    for dev in assignee_terms_map:\n",
    "        terms_used=assignee_terms_map[dev]\n",
    "        if term in terms_used:#if term in terms used keylist\n",
    "            dev_use_count=dev_use_count+1\n",
    "    return dev_use_count\n",
    "    \n",
    "dev_score={} \n",
    "for key in dev_termInfo:\n",
    "    expertise=0\n",
    "    termInfo=dev_termInfo[key]\n",
    "    print(termInfo)\n",
    "    for each_term in termInfo:\n",
    "        term_freq=termInfo[each_term]['devcount']\n",
    "        term_using_date_latest = termInfo[each_term]['lastuse']\n",
    "        #print(info_term)\n",
    "        #print(term_freq)\n",
    "        ##dev=number of devs in the project \n",
    "        #len(available_devlist)\n",
    "        \n",
    "        #devfixfreq() : returns numof devs who fixed the term related bugs\n",
    "        num_of_devs=len(available_devlist)\n",
    "        tfIdf=term_freq*math.log(num_of_devs/devFixFreq(each_term))\n",
    "        #difff = new issue creation - term using date\n",
    "       \n",
    "        c_new_issue_creation_date = datetime.strptime(new_issue_creation_date,'%Y-%m-%dT%H:%M:%S.%f%z')\n",
    "        c_term_using_date_latest = datetime.strptime(term_using_date_latest,'%Y-%m-%dT%H:%M:%S.%f%z')\n",
    "\n",
    "        difff = c_new_issue_creation_date - c_term_using_date_latest\n",
    "        #print(difff.days)\n",
    "        if difff.days!=0:\n",
    "            fix_date=(1/devFixFreq(each_term))+(1/(difff.days**(1/2)))\n",
    "        else:\n",
    "            difff = 14 #one-sprint\n",
    "            fix_date=(1/devFixFreq(each_term))+(1/(difff**(1/2)))\n",
    "        expertise+=tfIdf*fix_date\n",
    "    #end of for\n",
    "    dev_score[key]=expertise\n",
    "#end of for\n",
    "print(\"\\nSCORE: \")\n",
    "print(dev_score)\n",
    "    "
   ]
  },
  {
   "cell_type": "code",
   "execution_count": 123,
   "metadata": {},
   "outputs": [
    {
     "name": "stdout",
     "output_type": "stream",
     "text": [
      "Moumita Asad  :: 9.861273361263468\n",
      "Noshin Tahsin  :: 4.662935793778088\n",
      "Mridha Md. Nafis Fuad  :: 3.3106469422645524\n",
      "Toukir Ahammed  :: 0.30679909853038445\n",
      "A. T. M. Fazlay Rabbi  :: 0\n"
     ]
    }
   ],
   "source": [
    "sorted_dev_score = sorted(dev_score.items() , reverse=True, key=lambda x: x[1])\n",
    "# Iterate over the sorted sequence\n",
    "for elem in sorted_dev_score :\n",
    "    print(elem[0] , \" ::\" , elem[1] )"
   ]
  },
  {
   "cell_type": "code",
   "execution_count": 124,
   "metadata": {},
   "outputs": [
    {
     "name": "stdout",
     "output_type": "stream",
     "text": [
      "Moumita Asad\n",
      "Account ID\n",
      "5f5764e4bea5be0068101b9a\n",
      "\n",
      "\n",
      "Noshin Tahsin\n",
      "Account ID\n",
      "5e299526bf04010e70c42927\n",
      "\n",
      "\n",
      "Mridha Md. Nafis Fuad\n",
      "Account ID\n",
      "5ae1622f027e7a2ebfcc12d1\n",
      "\n",
      "\n",
      "Toukir Ahammed\n",
      "Account ID\n",
      "5ca99ba2e929a772795e4ac9\n",
      "\n",
      "\n",
      "A. T. M. Fazlay Rabbi\n",
      "Account ID\n",
      "5e9412627bc0680c2ca4dd39\n",
      "\n",
      "\n",
      "['Moumita Asad', 'Noshin Tahsin', 'Mridha Md. Nafis Fuad', 'Toukir Ahammed', 'A. T. M. Fazlay Rabbi']\n",
      "['5f5764e4bea5be0068101b9a', '5e299526bf04010e70c42927', '5ae1622f027e7a2ebfcc12d1', '5ca99ba2e929a772795e4ac9', '5e9412627bc0680c2ca4dd39']\n"
     ]
    }
   ],
   "source": [
    "a=[]\n",
    "a_id=[]\n",
    "for i in range (0,len(sorted_dev_score)):\n",
    "    a.append(sorted_dev_score[i][0])\n",
    "    a_id.append(account_id_map[sorted_dev_score[i][0]])\n",
    "    print(sorted_dev_score[i][0])\n",
    "    print(\"Account ID\")\n",
    "    print(account_id_map[sorted_dev_score[i][0]])\n",
    "    print(\"\\n\")\n",
    "\n",
    "print(a)\n",
    "print(a_id)"
   ]
  },
  {
   "cell_type": "code",
   "execution_count": null,
   "metadata": {},
   "outputs": [],
   "source": []
  }
 ],
 "metadata": {
  "kernelspec": {
   "display_name": "Python 3",
   "language": "python",
   "name": "python3"
  },
  "language_info": {
   "codemirror_mode": {
    "name": "ipython",
    "version": 3
   },
   "file_extension": ".py",
   "mimetype": "text/x-python",
   "name": "python",
   "nbconvert_exporter": "python",
   "pygments_lexer": "ipython3",
   "version": "3.8.5"
  }
 },
 "nbformat": 4,
 "nbformat_minor": 4
}
